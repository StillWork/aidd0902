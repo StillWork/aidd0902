{
  "cells": [
    {
      "cell_type": "markdown",
      "metadata": {
        "id": "FJpHthE60TBJ"
      },
      "source": [
        "# 가상 스크리닝\n",
        "\n",
        "\n",
        "- 어떤 조건을 만족하는 분자를 찾아내는 작업을 화학 실험을 수행하지 않고 머신러닝 모델로 찾는 것을 말한다\n",
        "- 여기서는 예제로 ERK2 단백질을 억제하는 분자를 선별하는 모델을 만든다\n",
        " - Extracellular signal-regulated kinase (다수의 생화학적 신호에 관여하고 세포의 증식 분화 전사조절에 관여)\n",
        " - 비소세포성 폐암 non-small cell lung cancer과 흑색종(피부암)에 대해 임상시험중\n",
        "\n",
        "- 그래프 컨볼류션 모델을 사용한다"
      ]
    },
    {
      "cell_type": "markdown",
      "metadata": {
        "id": "2OpzBVDCDT3t"
      },
      "source": [
        "# import"
      ]
    },
    {
      "cell_type": "code",
      "execution_count": 1,
      "metadata": {
        "id": "bd95Jgdy2As-",
        "colab": {
          "base_uri": "https://localhost:8080/"
        },
        "outputId": "92a10b0b-b086-4f7d-cbfc-4a4b49924c48"
      },
      "outputs": [
        {
          "output_type": "stream",
          "name": "stdout",
          "text": [
            "Collecting DeepChem\n",
            "  Downloading deepchem-2.7.1-py3-none-any.whl (693 kB)\n",
            "\u001b[?25l     \u001b[90m━━━━━━━━━━━━━━━━━━━━━━━━━━━━━━━━━━━━━━━━\u001b[0m \u001b[32m0.0/693.2 kB\u001b[0m \u001b[31m?\u001b[0m eta \u001b[36m-:--:--\u001b[0m\r\u001b[2K     \u001b[91m━━━\u001b[0m\u001b[91m╸\u001b[0m\u001b[90m━━━━━━━━━━━━━━━━━━━━━━━━━━━━━━━━━━━━\u001b[0m \u001b[32m61.4/693.2 kB\u001b[0m \u001b[31m1.7 MB/s\u001b[0m eta \u001b[36m0:00:01\u001b[0m\r\u001b[2K     \u001b[91m━━━━━━━━━━━━━\u001b[0m\u001b[91m╸\u001b[0m\u001b[90m━━━━━━━━━━━━━━━━━━━━━━━━━\u001b[0m \u001b[32m245.8/693.2 kB\u001b[0m \u001b[31m3.5 MB/s\u001b[0m eta \u001b[36m0:00:01\u001b[0m\r\u001b[2K     \u001b[90m━━━━━━━━━━━━━━━━━━━━━━━━━━━━━━━━━━━━━━━\u001b[0m \u001b[32m693.2/693.2 kB\u001b[0m \u001b[31m6.7 MB/s\u001b[0m eta \u001b[36m0:00:00\u001b[0m\n",
            "\u001b[?25hRequirement already satisfied: joblib in /usr/local/lib/python3.10/dist-packages (from DeepChem) (1.3.1)\n",
            "Requirement already satisfied: numpy>=1.21 in /usr/local/lib/python3.10/dist-packages (from DeepChem) (1.22.4)\n",
            "Requirement already satisfied: pandas in /usr/local/lib/python3.10/dist-packages (from DeepChem) (1.5.3)\n",
            "Requirement already satisfied: scikit-learn in /usr/local/lib/python3.10/dist-packages (from DeepChem) (1.2.2)\n",
            "Collecting scipy<1.9 (from DeepChem)\n",
            "  Downloading scipy-1.8.1-cp310-cp310-manylinux_2_17_x86_64.manylinux2014_x86_64.whl (42.2 MB)\n",
            "\u001b[2K     \u001b[90m━━━━━━━━━━━━━━━━━━━━━━━━━━━━━━━━━━━━━━━━\u001b[0m \u001b[32m42.2/42.2 MB\u001b[0m \u001b[31m17.9 MB/s\u001b[0m eta \u001b[36m0:00:00\u001b[0m\n",
            "\u001b[?25hCollecting rdkit (from DeepChem)\n",
            "  Downloading rdkit-2023.3.2-cp310-cp310-manylinux_2_17_x86_64.manylinux2014_x86_64.whl (29.7 MB)\n",
            "\u001b[2K     \u001b[90m━━━━━━━━━━━━━━━━━━━━━━━━━━━━━━━━━━━━━━━━\u001b[0m \u001b[32m29.7/29.7 MB\u001b[0m \u001b[31m33.3 MB/s\u001b[0m eta \u001b[36m0:00:00\u001b[0m\n",
            "\u001b[?25hRequirement already satisfied: python-dateutil>=2.8.1 in /usr/local/lib/python3.10/dist-packages (from pandas->DeepChem) (2.8.2)\n",
            "Requirement already satisfied: pytz>=2020.1 in /usr/local/lib/python3.10/dist-packages (from pandas->DeepChem) (2022.7.1)\n",
            "Requirement already satisfied: Pillow in /usr/local/lib/python3.10/dist-packages (from rdkit->DeepChem) (8.4.0)\n",
            "Requirement already satisfied: threadpoolctl>=2.0.0 in /usr/local/lib/python3.10/dist-packages (from scikit-learn->DeepChem) (3.2.0)\n",
            "Requirement already satisfied: six>=1.5 in /usr/local/lib/python3.10/dist-packages (from python-dateutil>=2.8.1->pandas->DeepChem) (1.16.0)\n",
            "Installing collected packages: scipy, rdkit, DeepChem\n",
            "  Attempting uninstall: scipy\n",
            "    Found existing installation: scipy 1.10.1\n",
            "    Uninstalling scipy-1.10.1:\n",
            "      Successfully uninstalled scipy-1.10.1\n",
            "Successfully installed DeepChem-2.7.1 rdkit-2023.3.2 scipy-1.8.1\n"
          ]
        }
      ],
      "source": [
        "!pip install DeepChem"
      ]
    },
    {
      "cell_type": "code",
      "execution_count": 2,
      "metadata": {
        "id": "UGcjm8HGz4yT",
        "colab": {
          "base_uri": "https://localhost:8080/"
        },
        "outputId": "cbd215a9-b6ed-4a77-82ea-4877215124a0"
      },
      "outputs": [
        {
          "output_type": "stream",
          "name": "stderr",
          "text": [
            "WARNING:deepchem.models.torch_models:Skipped loading modules with pytorch-geometric dependency, missing a dependency. No module named 'torch_geometric'\n",
            "WARNING:deepchem.models:Skipped loading modules with pytorch-geometric dependency, missing a dependency. cannot import name 'DMPNN' from 'deepchem.models.torch_models' (/usr/local/lib/python3.10/dist-packages/deepchem/models/torch_models/__init__.py)\n",
            "WARNING:deepchem.models:Skipped loading modules with pytorch-lightning dependency, missing a dependency. No module named 'pytorch_lightning'\n",
            "WARNING:deepchem.models:Skipped loading some Jax models, missing a dependency. No module named 'haiku'\n"
          ]
        }
      ],
      "source": [
        "import deepchem as dc\n",
        "from rdkit import Chem\n",
        "from rdkit.Chem import AllChem\n",
        "from rdkit.Chem import Draw\n",
        "from rdkit.Chem.Draw import IPythonConsole\n",
        "from rdkit.Chem import PandasTools\n",
        "from rdkit.Chem import Descriptors\n",
        "from rdkit.Chem import rdmolops\n",
        "from rdkit import DataStructs\n",
        "from rdkit.ML.Cluster import Butina\n",
        "from rdkit.Chem import rdMolDescriptors as rdmd\n",
        "from deepchem.models import GraphConvModel\n"
      ]
    },
    {
      "cell_type": "code",
      "execution_count": 3,
      "metadata": {
        "id": "WtF6y49KFIN4"
      },
      "outputs": [],
      "source": [
        "import numpy as np\n",
        "import pandas as pd\n",
        "import sys\n",
        "import seaborn as sns\n",
        "%config InlineBackend.figure_format = 'retina'\n",
        "from tqdm.auto import tqdm\n",
        "import warnings\n",
        "warnings.filterwarnings(\"ignore\")"
      ]
    },
    {
      "cell_type": "markdown",
      "metadata": {
        "id": "PzA-0qesDcZS"
      },
      "source": [
        "# 데이터\n",
        "\n",
        "- DUD-E 데이터베이스에서 활성 및 비활성 분자 데이터를 다운받아 사용한다\n",
        "- 분자 데이터는 SMILES 로 표현되어 있으며 이를 데이터프레임에 불러온다\n",
        "- AddMoleculeColumnToFrame()를 사용해 SMILES에 해당하는 Mol 객체를 데이터프레임에 추가할 수 있다"
      ]
    },
    {
      "cell_type": "code",
      "execution_count": 4,
      "metadata": {
        "colab": {
          "base_uri": "https://localhost:8080/",
          "height": 161
        },
        "id": "CPqIv1_8z4yU",
        "outputId": "94f7bacf-9a56-4eb1-c115-da8a4733791f"
      },
      "outputs": [
        {
          "output_type": "stream",
          "name": "stdout",
          "text": [
            "(79, 3)\n"
          ]
        },
        {
          "output_type": "execute_result",
          "data": {
            "text/plain": [
              "                                                   0       1             2\n",
              "0  Cn1ccnc1Sc2ccc(cc2Cl)Nc3c4cc(c(cc4ncc3C#N)OCCC...  168691  CHEMBL318804\n",
              "1  C[C@@]12[C@@H]([C@@H](CC(O1)n3c4ccccc4c5c3c6n2...   86358     CHEMBL162\n",
              "2  Cc1cnc(nc1c2cc([nH]c2)C(=O)N[C@H](CO)c3cccc(c3...  575087  CHEMBL576683"
            ],
            "text/html": [
              "\n",
              "\n",
              "  <div id=\"df-1ff40d2b-a9f2-4849-8774-98fbe9f684ae\">\n",
              "    <div class=\"colab-df-container\">\n",
              "      <div>\n",
              "<style scoped>\n",
              "    .dataframe tbody tr th:only-of-type {\n",
              "        vertical-align: middle;\n",
              "    }\n",
              "\n",
              "    .dataframe tbody tr th {\n",
              "        vertical-align: top;\n",
              "    }\n",
              "\n",
              "    .dataframe thead th {\n",
              "        text-align: right;\n",
              "    }\n",
              "</style>\n",
              "<table border=\"1\" class=\"dataframe\">\n",
              "  <thead>\n",
              "    <tr style=\"text-align: right;\">\n",
              "      <th></th>\n",
              "      <th>0</th>\n",
              "      <th>1</th>\n",
              "      <th>2</th>\n",
              "    </tr>\n",
              "  </thead>\n",
              "  <tbody>\n",
              "    <tr>\n",
              "      <th>0</th>\n",
              "      <td>Cn1ccnc1Sc2ccc(cc2Cl)Nc3c4cc(c(cc4ncc3C#N)OCCC...</td>\n",
              "      <td>168691</td>\n",
              "      <td>CHEMBL318804</td>\n",
              "    </tr>\n",
              "    <tr>\n",
              "      <th>1</th>\n",
              "      <td>C[C@@]12[C@@H]([C@@H](CC(O1)n3c4ccccc4c5c3c6n2...</td>\n",
              "      <td>86358</td>\n",
              "      <td>CHEMBL162</td>\n",
              "    </tr>\n",
              "    <tr>\n",
              "      <th>2</th>\n",
              "      <td>Cc1cnc(nc1c2cc([nH]c2)C(=O)N[C@H](CO)c3cccc(c3...</td>\n",
              "      <td>575087</td>\n",
              "      <td>CHEMBL576683</td>\n",
              "    </tr>\n",
              "  </tbody>\n",
              "</table>\n",
              "</div>\n",
              "      <button class=\"colab-df-convert\" onclick=\"convertToInteractive('df-1ff40d2b-a9f2-4849-8774-98fbe9f684ae')\"\n",
              "              title=\"Convert this dataframe to an interactive table.\"\n",
              "              style=\"display:none;\">\n",
              "\n",
              "  <svg xmlns=\"http://www.w3.org/2000/svg\" height=\"24px\"viewBox=\"0 0 24 24\"\n",
              "       width=\"24px\">\n",
              "    <path d=\"M0 0h24v24H0V0z\" fill=\"none\"/>\n",
              "    <path d=\"M18.56 5.44l.94 2.06.94-2.06 2.06-.94-2.06-.94-.94-2.06-.94 2.06-2.06.94zm-11 1L8.5 8.5l.94-2.06 2.06-.94-2.06-.94L8.5 2.5l-.94 2.06-2.06.94zm10 10l.94 2.06.94-2.06 2.06-.94-2.06-.94-.94-2.06-.94 2.06-2.06.94z\"/><path d=\"M17.41 7.96l-1.37-1.37c-.4-.4-.92-.59-1.43-.59-.52 0-1.04.2-1.43.59L10.3 9.45l-7.72 7.72c-.78.78-.78 2.05 0 2.83L4 21.41c.39.39.9.59 1.41.59.51 0 1.02-.2 1.41-.59l7.78-7.78 2.81-2.81c.8-.78.8-2.07 0-2.86zM5.41 20L4 18.59l7.72-7.72 1.47 1.35L5.41 20z\"/>\n",
              "  </svg>\n",
              "      </button>\n",
              "\n",
              "\n",
              "\n",
              "    <div id=\"df-add37c8a-bcd3-45eb-a2cf-33f5888c7d0b\">\n",
              "      <button class=\"colab-df-quickchart\" onclick=\"quickchart('df-add37c8a-bcd3-45eb-a2cf-33f5888c7d0b')\"\n",
              "              title=\"Suggest charts.\"\n",
              "              style=\"display:none;\">\n",
              "\n",
              "<svg xmlns=\"http://www.w3.org/2000/svg\" height=\"24px\"viewBox=\"0 0 24 24\"\n",
              "     width=\"24px\">\n",
              "    <g>\n",
              "        <path d=\"M19 3H5c-1.1 0-2 .9-2 2v14c0 1.1.9 2 2 2h14c1.1 0 2-.9 2-2V5c0-1.1-.9-2-2-2zM9 17H7v-7h2v7zm4 0h-2V7h2v10zm4 0h-2v-4h2v4z\"/>\n",
              "    </g>\n",
              "</svg>\n",
              "      </button>\n",
              "    </div>\n",
              "\n",
              "<style>\n",
              "  .colab-df-quickchart {\n",
              "    background-color: #E8F0FE;\n",
              "    border: none;\n",
              "    border-radius: 50%;\n",
              "    cursor: pointer;\n",
              "    display: none;\n",
              "    fill: #1967D2;\n",
              "    height: 32px;\n",
              "    padding: 0 0 0 0;\n",
              "    width: 32px;\n",
              "  }\n",
              "\n",
              "  .colab-df-quickchart:hover {\n",
              "    background-color: #E2EBFA;\n",
              "    box-shadow: 0px 1px 2px rgba(60, 64, 67, 0.3), 0px 1px 3px 1px rgba(60, 64, 67, 0.15);\n",
              "    fill: #174EA6;\n",
              "  }\n",
              "\n",
              "  [theme=dark] .colab-df-quickchart {\n",
              "    background-color: #3B4455;\n",
              "    fill: #D2E3FC;\n",
              "  }\n",
              "\n",
              "  [theme=dark] .colab-df-quickchart:hover {\n",
              "    background-color: #434B5C;\n",
              "    box-shadow: 0px 1px 3px 1px rgba(0, 0, 0, 0.15);\n",
              "    filter: drop-shadow(0px 1px 2px rgba(0, 0, 0, 0.3));\n",
              "    fill: #FFFFFF;\n",
              "  }\n",
              "</style>\n",
              "\n",
              "    <script>\n",
              "      async function quickchart(key) {\n",
              "        const containerElement = document.querySelector('#' + key);\n",
              "        const charts = await google.colab.kernel.invokeFunction(\n",
              "            'suggestCharts', [key], {});\n",
              "      }\n",
              "    </script>\n",
              "\n",
              "      <script>\n",
              "\n",
              "function displayQuickchartButton(domScope) {\n",
              "  let quickchartButtonEl =\n",
              "    domScope.querySelector('#df-add37c8a-bcd3-45eb-a2cf-33f5888c7d0b button.colab-df-quickchart');\n",
              "  quickchartButtonEl.style.display =\n",
              "    google.colab.kernel.accessAllowed ? 'block' : 'none';\n",
              "}\n",
              "\n",
              "        displayQuickchartButton(document);\n",
              "      </script>\n",
              "      <style>\n",
              "    .colab-df-container {\n",
              "      display:flex;\n",
              "      flex-wrap:wrap;\n",
              "      gap: 12px;\n",
              "    }\n",
              "\n",
              "    .colab-df-convert {\n",
              "      background-color: #E8F0FE;\n",
              "      border: none;\n",
              "      border-radius: 50%;\n",
              "      cursor: pointer;\n",
              "      display: none;\n",
              "      fill: #1967D2;\n",
              "      height: 32px;\n",
              "      padding: 0 0 0 0;\n",
              "      width: 32px;\n",
              "    }\n",
              "\n",
              "    .colab-df-convert:hover {\n",
              "      background-color: #E2EBFA;\n",
              "      box-shadow: 0px 1px 2px rgba(60, 64, 67, 0.3), 0px 1px 3px 1px rgba(60, 64, 67, 0.15);\n",
              "      fill: #174EA6;\n",
              "    }\n",
              "\n",
              "    [theme=dark] .colab-df-convert {\n",
              "      background-color: #3B4455;\n",
              "      fill: #D2E3FC;\n",
              "    }\n",
              "\n",
              "    [theme=dark] .colab-df-convert:hover {\n",
              "      background-color: #434B5C;\n",
              "      box-shadow: 0px 1px 3px 1px rgba(0, 0, 0, 0.15);\n",
              "      filter: drop-shadow(0px 1px 2px rgba(0, 0, 0, 0.3));\n",
              "      fill: #FFFFFF;\n",
              "    }\n",
              "  </style>\n",
              "\n",
              "      <script>\n",
              "        const buttonEl =\n",
              "          document.querySelector('#df-1ff40d2b-a9f2-4849-8774-98fbe9f684ae button.colab-df-convert');\n",
              "        buttonEl.style.display =\n",
              "          google.colab.kernel.accessAllowed ? 'block' : 'none';\n",
              "\n",
              "        async function convertToInteractive(key) {\n",
              "          const element = document.querySelector('#df-1ff40d2b-a9f2-4849-8774-98fbe9f684ae');\n",
              "          const dataTable =\n",
              "            await google.colab.kernel.invokeFunction('convertToInteractive',\n",
              "                                                     [key], {});\n",
              "          if (!dataTable) return;\n",
              "\n",
              "          const docLinkHtml = 'Like what you see? Visit the ' +\n",
              "            '<a target=\"_blank\" href=https://colab.research.google.com/notebooks/data_table.ipynb>data table notebook</a>'\n",
              "            + ' to learn more about interactive tables.';\n",
              "          element.innerHTML = '';\n",
              "          dataTable['output_type'] = 'display_data';\n",
              "          await google.colab.output.renderOutput(dataTable, element);\n",
              "          const docLink = document.createElement('div');\n",
              "          docLink.innerHTML = docLinkHtml;\n",
              "          element.appendChild(docLink);\n",
              "        }\n",
              "      </script>\n",
              "    </div>\n",
              "  </div>\n"
            ]
          },
          "metadata": {},
          "execution_count": 4
        }
      ],
      "source": [
        "active_df = pd.read_csv(\"https://raw.githubusercontent.com/deepchem/DeepLearningLifeSciences/master/Chapter11/mk01/actives_final.ism\",\n",
        "                        header=None,sep=\" \")\n",
        "print(active_df.shape)\n",
        "active_df[:3]"
      ]
    },
    {
      "cell_type": "code",
      "execution_count": 5,
      "metadata": {
        "id": "H_-k5gyHsoeM"
      },
      "outputs": [],
      "source": [
        "active_rows, active_cols = active_df.shape\n",
        "active_df.columns = [\"SMILES\",\"ID\",\"ChEMBL_ID\"]\n",
        "active_df[\"label\"] = [\"Active\"]*active_rows\n",
        "PandasTools.AddMoleculeColumnToFrame(active_df,\"SMILES\",\"Mol\")"
      ]
    },
    {
      "cell_type": "code",
      "execution_count": 6,
      "metadata": {
        "colab": {
          "base_uri": "https://localhost:8080/",
          "height": 239
        },
        "id": "Q_1JyOPgs8A-",
        "outputId": "e7f1a020-70bd-420d-9294-2c5dbab4e6d4"
      },
      "outputs": [
        {
          "output_type": "execute_result",
          "data": {
            "text/plain": [
              "                                              SMILES      ID     ChEMBL_ID  \\\n",
              "0  Cn1ccnc1Sc2ccc(cc2Cl)Nc3c4cc(c(cc4ncc3C#N)OCCC...  168691  CHEMBL318804   \n",
              "1  C[C@@]12[C@@H]([C@@H](CC(O1)n3c4ccccc4c5c3c6n2...   86358     CHEMBL162   \n",
              "2  Cc1cnc(nc1c2cc([nH]c2)C(=O)N[C@H](CO)c3cccc(c3...  575087  CHEMBL576683   \n",
              "\n",
              "    label                                               Mol  \n",
              "0  Active  <rdkit.Chem.rdchem.Mol object at 0x79c3b4b1d770>  \n",
              "1  Active  <rdkit.Chem.rdchem.Mol object at 0x79c3b4b1d1c0>  \n",
              "2  Active  <rdkit.Chem.rdchem.Mol object at 0x79c3b4b1d460>  "
            ],
            "text/html": [
              "\n",
              "\n",
              "  <div id=\"df-12508d3f-8374-4db9-9ce5-b4ff155510c3\">\n",
              "    <div class=\"colab-df-container\">\n",
              "      <div>\n",
              "<style scoped>\n",
              "    .dataframe tbody tr th:only-of-type {\n",
              "        vertical-align: middle;\n",
              "    }\n",
              "\n",
              "    .dataframe tbody tr th {\n",
              "        vertical-align: top;\n",
              "    }\n",
              "\n",
              "    .dataframe thead th {\n",
              "        text-align: right;\n",
              "    }\n",
              "</style>\n",
              "<table border=\"1\" class=\"dataframe\">\n",
              "  <thead>\n",
              "    <tr style=\"text-align: right;\">\n",
              "      <th></th>\n",
              "      <th>SMILES</th>\n",
              "      <th>ID</th>\n",
              "      <th>ChEMBL_ID</th>\n",
              "      <th>label</th>\n",
              "      <th>Mol</th>\n",
              "    </tr>\n",
              "  </thead>\n",
              "  <tbody>\n",
              "    <tr>\n",
              "      <th>0</th>\n",
              "      <td>Cn1ccnc1Sc2ccc(cc2Cl)Nc3c4cc(c(cc4ncc3C#N)OCCC...</td>\n",
              "      <td>168691</td>\n",
              "      <td>CHEMBL318804</td>\n",
              "      <td>Active</td>\n",
              "      <td>&lt;rdkit.Chem.rdchem.Mol object at 0x79c3b4b1d770&gt;</td>\n",
              "    </tr>\n",
              "    <tr>\n",
              "      <th>1</th>\n",
              "      <td>C[C@@]12[C@@H]([C@@H](CC(O1)n3c4ccccc4c5c3c6n2...</td>\n",
              "      <td>86358</td>\n",
              "      <td>CHEMBL162</td>\n",
              "      <td>Active</td>\n",
              "      <td>&lt;rdkit.Chem.rdchem.Mol object at 0x79c3b4b1d1c0&gt;</td>\n",
              "    </tr>\n",
              "    <tr>\n",
              "      <th>2</th>\n",
              "      <td>Cc1cnc(nc1c2cc([nH]c2)C(=O)N[C@H](CO)c3cccc(c3...</td>\n",
              "      <td>575087</td>\n",
              "      <td>CHEMBL576683</td>\n",
              "      <td>Active</td>\n",
              "      <td>&lt;rdkit.Chem.rdchem.Mol object at 0x79c3b4b1d460&gt;</td>\n",
              "    </tr>\n",
              "  </tbody>\n",
              "</table>\n",
              "</div>\n",
              "      <button class=\"colab-df-convert\" onclick=\"convertToInteractive('df-12508d3f-8374-4db9-9ce5-b4ff155510c3')\"\n",
              "              title=\"Convert this dataframe to an interactive table.\"\n",
              "              style=\"display:none;\">\n",
              "\n",
              "  <svg xmlns=\"http://www.w3.org/2000/svg\" height=\"24px\"viewBox=\"0 0 24 24\"\n",
              "       width=\"24px\">\n",
              "    <path d=\"M0 0h24v24H0V0z\" fill=\"none\"/>\n",
              "    <path d=\"M18.56 5.44l.94 2.06.94-2.06 2.06-.94-2.06-.94-.94-2.06-.94 2.06-2.06.94zm-11 1L8.5 8.5l.94-2.06 2.06-.94-2.06-.94L8.5 2.5l-.94 2.06-2.06.94zm10 10l.94 2.06.94-2.06 2.06-.94-2.06-.94-.94-2.06-.94 2.06-2.06.94z\"/><path d=\"M17.41 7.96l-1.37-1.37c-.4-.4-.92-.59-1.43-.59-.52 0-1.04.2-1.43.59L10.3 9.45l-7.72 7.72c-.78.78-.78 2.05 0 2.83L4 21.41c.39.39.9.59 1.41.59.51 0 1.02-.2 1.41-.59l7.78-7.78 2.81-2.81c.8-.78.8-2.07 0-2.86zM5.41 20L4 18.59l7.72-7.72 1.47 1.35L5.41 20z\"/>\n",
              "  </svg>\n",
              "      </button>\n",
              "\n",
              "\n",
              "\n",
              "    <div id=\"df-3b4a5065-5f95-46a4-89c0-8bf84806536d\">\n",
              "      <button class=\"colab-df-quickchart\" onclick=\"quickchart('df-3b4a5065-5f95-46a4-89c0-8bf84806536d')\"\n",
              "              title=\"Suggest charts.\"\n",
              "              style=\"display:none;\">\n",
              "\n",
              "<svg xmlns=\"http://www.w3.org/2000/svg\" height=\"24px\"viewBox=\"0 0 24 24\"\n",
              "     width=\"24px\">\n",
              "    <g>\n",
              "        <path d=\"M19 3H5c-1.1 0-2 .9-2 2v14c0 1.1.9 2 2 2h14c1.1 0 2-.9 2-2V5c0-1.1-.9-2-2-2zM9 17H7v-7h2v7zm4 0h-2V7h2v10zm4 0h-2v-4h2v4z\"/>\n",
              "    </g>\n",
              "</svg>\n",
              "      </button>\n",
              "    </div>\n",
              "\n",
              "<style>\n",
              "  .colab-df-quickchart {\n",
              "    background-color: #E8F0FE;\n",
              "    border: none;\n",
              "    border-radius: 50%;\n",
              "    cursor: pointer;\n",
              "    display: none;\n",
              "    fill: #1967D2;\n",
              "    height: 32px;\n",
              "    padding: 0 0 0 0;\n",
              "    width: 32px;\n",
              "  }\n",
              "\n",
              "  .colab-df-quickchart:hover {\n",
              "    background-color: #E2EBFA;\n",
              "    box-shadow: 0px 1px 2px rgba(60, 64, 67, 0.3), 0px 1px 3px 1px rgba(60, 64, 67, 0.15);\n",
              "    fill: #174EA6;\n",
              "  }\n",
              "\n",
              "  [theme=dark] .colab-df-quickchart {\n",
              "    background-color: #3B4455;\n",
              "    fill: #D2E3FC;\n",
              "  }\n",
              "\n",
              "  [theme=dark] .colab-df-quickchart:hover {\n",
              "    background-color: #434B5C;\n",
              "    box-shadow: 0px 1px 3px 1px rgba(0, 0, 0, 0.15);\n",
              "    filter: drop-shadow(0px 1px 2px rgba(0, 0, 0, 0.3));\n",
              "    fill: #FFFFFF;\n",
              "  }\n",
              "</style>\n",
              "\n",
              "    <script>\n",
              "      async function quickchart(key) {\n",
              "        const containerElement = document.querySelector('#' + key);\n",
              "        const charts = await google.colab.kernel.invokeFunction(\n",
              "            'suggestCharts', [key], {});\n",
              "      }\n",
              "    </script>\n",
              "\n",
              "      <script>\n",
              "\n",
              "function displayQuickchartButton(domScope) {\n",
              "  let quickchartButtonEl =\n",
              "    domScope.querySelector('#df-3b4a5065-5f95-46a4-89c0-8bf84806536d button.colab-df-quickchart');\n",
              "  quickchartButtonEl.style.display =\n",
              "    google.colab.kernel.accessAllowed ? 'block' : 'none';\n",
              "}\n",
              "\n",
              "        displayQuickchartButton(document);\n",
              "      </script>\n",
              "      <style>\n",
              "    .colab-df-container {\n",
              "      display:flex;\n",
              "      flex-wrap:wrap;\n",
              "      gap: 12px;\n",
              "    }\n",
              "\n",
              "    .colab-df-convert {\n",
              "      background-color: #E8F0FE;\n",
              "      border: none;\n",
              "      border-radius: 50%;\n",
              "      cursor: pointer;\n",
              "      display: none;\n",
              "      fill: #1967D2;\n",
              "      height: 32px;\n",
              "      padding: 0 0 0 0;\n",
              "      width: 32px;\n",
              "    }\n",
              "\n",
              "    .colab-df-convert:hover {\n",
              "      background-color: #E2EBFA;\n",
              "      box-shadow: 0px 1px 2px rgba(60, 64, 67, 0.3), 0px 1px 3px 1px rgba(60, 64, 67, 0.15);\n",
              "      fill: #174EA6;\n",
              "    }\n",
              "\n",
              "    [theme=dark] .colab-df-convert {\n",
              "      background-color: #3B4455;\n",
              "      fill: #D2E3FC;\n",
              "    }\n",
              "\n",
              "    [theme=dark] .colab-df-convert:hover {\n",
              "      background-color: #434B5C;\n",
              "      box-shadow: 0px 1px 3px 1px rgba(0, 0, 0, 0.15);\n",
              "      filter: drop-shadow(0px 1px 2px rgba(0, 0, 0, 0.3));\n",
              "      fill: #FFFFFF;\n",
              "    }\n",
              "  </style>\n",
              "\n",
              "      <script>\n",
              "        const buttonEl =\n",
              "          document.querySelector('#df-12508d3f-8374-4db9-9ce5-b4ff155510c3 button.colab-df-convert');\n",
              "        buttonEl.style.display =\n",
              "          google.colab.kernel.accessAllowed ? 'block' : 'none';\n",
              "\n",
              "        async function convertToInteractive(key) {\n",
              "          const element = document.querySelector('#df-12508d3f-8374-4db9-9ce5-b4ff155510c3');\n",
              "          const dataTable =\n",
              "            await google.colab.kernel.invokeFunction('convertToInteractive',\n",
              "                                                     [key], {});\n",
              "          if (!dataTable) return;\n",
              "\n",
              "          const docLinkHtml = 'Like what you see? Visit the ' +\n",
              "            '<a target=\"_blank\" href=https://colab.research.google.com/notebooks/data_table.ipynb>data table notebook</a>'\n",
              "            + ' to learn more about interactive tables.';\n",
              "          element.innerHTML = '';\n",
              "          dataTable['output_type'] = 'display_data';\n",
              "          await google.colab.output.renderOutput(dataTable, element);\n",
              "          const docLink = document.createElement('div');\n",
              "          docLink.innerHTML = docLinkHtml;\n",
              "          element.appendChild(docLink);\n",
              "        }\n",
              "      </script>\n",
              "    </div>\n",
              "  </div>\n"
            ]
          },
          "metadata": {},
          "execution_count": 6
        }
      ],
      "source": [
        "active_df[:3]"
      ]
    },
    {
      "cell_type": "markdown",
      "metadata": {
        "id": "m5xtBXHRz4yU"
      },
      "source": [
        "## 특성값 추가\n",
        "- 분자량 molecular weight\n",
        "- 분배 계수 partition coefficeint(LogP)\n",
        "- 전하 charge (양인지 음인지)"
      ]
    },
    {
      "cell_type": "code",
      "execution_count": 7,
      "metadata": {
        "id": "IqjKaT8Ez4yU"
      },
      "outputs": [],
      "source": [
        "def add_property_columns_to_df(df_in):\n",
        "    df_in[\"mw\"] = [Descriptors.MolWt(mol) for mol in df_in.Mol]\n",
        "    df_in[\"logP\"] = [Descriptors.MolLogP(mol) for mol in df_in.Mol]\n",
        "    df_in[\"charge\"] = [rdmolops.GetFormalCharge(mol) for mol in df_in.Mol]"
      ]
    },
    {
      "cell_type": "code",
      "execution_count": 8,
      "metadata": {
        "colab": {
          "base_uri": "https://localhost:8080/",
          "height": 444
        },
        "id": "hS4OpyOiz4yV",
        "outputId": "4fd4f187-25dc-41cf-9a87-997e1298e608"
      },
      "outputs": [
        {
          "output_type": "execute_result",
          "data": {
            "text/plain": [
              "                                              SMILES      ID     ChEMBL_ID  \\\n",
              "0  Cn1ccnc1Sc2ccc(cc2Cl)Nc3c4cc(c(cc4ncc3C#N)OCCC...  168691  CHEMBL318804   \n",
              "1  C[C@@]12[C@@H]([C@@H](CC(O1)n3c4ccccc4c5c3c6n2...   86358     CHEMBL162   \n",
              "2  Cc1cnc(nc1c2cc([nH]c2)C(=O)N[C@H](CO)c3cccc(c3...  575087  CHEMBL576683   \n",
              "3  Cc1cnc(nc1c2cc([nH]c2)C(=O)N[C@H](CO)c3cccc(c3...  575065  CHEMBL571484   \n",
              "4  Cc1cnc(nc1c2cc([nH]c2)C(=O)N[C@H](CO)c3cccc(c3...  575047  CHEMBL568937   \n",
              "\n",
              "    label                                               Mol       mw     logP  \\\n",
              "0  Active  <rdkit.Chem.rdchem.Mol object at 0x79c3b4b1d770>  565.099  5.49788   \n",
              "1  Active  <rdkit.Chem.rdchem.Mol object at 0x79c3b4b1d1c0>  466.541  4.35400   \n",
              "2  Active  <rdkit.Chem.rdchem.Mol object at 0x79c3b4b1d460>  527.915  4.96202   \n",
              "3  Active  <rdkit.Chem.rdchem.Mol object at 0x79c3b4b1c350>  491.935  4.36922   \n",
              "4  Active  <rdkit.Chem.rdchem.Mol object at 0x79c3b4b1d850>  487.991  5.12922   \n",
              "\n",
              "   charge  \n",
              "0       0  \n",
              "1       0  \n",
              "2       0  \n",
              "3       0  \n",
              "4       0  "
            ],
            "text/html": [
              "\n",
              "\n",
              "  <div id=\"df-84368fda-a30e-4330-9a3d-124b9cc22b72\">\n",
              "    <div class=\"colab-df-container\">\n",
              "      <div>\n",
              "<style scoped>\n",
              "    .dataframe tbody tr th:only-of-type {\n",
              "        vertical-align: middle;\n",
              "    }\n",
              "\n",
              "    .dataframe tbody tr th {\n",
              "        vertical-align: top;\n",
              "    }\n",
              "\n",
              "    .dataframe thead th {\n",
              "        text-align: right;\n",
              "    }\n",
              "</style>\n",
              "<table border=\"1\" class=\"dataframe\">\n",
              "  <thead>\n",
              "    <tr style=\"text-align: right;\">\n",
              "      <th></th>\n",
              "      <th>SMILES</th>\n",
              "      <th>ID</th>\n",
              "      <th>ChEMBL_ID</th>\n",
              "      <th>label</th>\n",
              "      <th>Mol</th>\n",
              "      <th>mw</th>\n",
              "      <th>logP</th>\n",
              "      <th>charge</th>\n",
              "    </tr>\n",
              "  </thead>\n",
              "  <tbody>\n",
              "    <tr>\n",
              "      <th>0</th>\n",
              "      <td>Cn1ccnc1Sc2ccc(cc2Cl)Nc3c4cc(c(cc4ncc3C#N)OCCC...</td>\n",
              "      <td>168691</td>\n",
              "      <td>CHEMBL318804</td>\n",
              "      <td>Active</td>\n",
              "      <td>&lt;rdkit.Chem.rdchem.Mol object at 0x79c3b4b1d770&gt;</td>\n",
              "      <td>565.099</td>\n",
              "      <td>5.49788</td>\n",
              "      <td>0</td>\n",
              "    </tr>\n",
              "    <tr>\n",
              "      <th>1</th>\n",
              "      <td>C[C@@]12[C@@H]([C@@H](CC(O1)n3c4ccccc4c5c3c6n2...</td>\n",
              "      <td>86358</td>\n",
              "      <td>CHEMBL162</td>\n",
              "      <td>Active</td>\n",
              "      <td>&lt;rdkit.Chem.rdchem.Mol object at 0x79c3b4b1d1c0&gt;</td>\n",
              "      <td>466.541</td>\n",
              "      <td>4.35400</td>\n",
              "      <td>0</td>\n",
              "    </tr>\n",
              "    <tr>\n",
              "      <th>2</th>\n",
              "      <td>Cc1cnc(nc1c2cc([nH]c2)C(=O)N[C@H](CO)c3cccc(c3...</td>\n",
              "      <td>575087</td>\n",
              "      <td>CHEMBL576683</td>\n",
              "      <td>Active</td>\n",
              "      <td>&lt;rdkit.Chem.rdchem.Mol object at 0x79c3b4b1d460&gt;</td>\n",
              "      <td>527.915</td>\n",
              "      <td>4.96202</td>\n",
              "      <td>0</td>\n",
              "    </tr>\n",
              "    <tr>\n",
              "      <th>3</th>\n",
              "      <td>Cc1cnc(nc1c2cc([nH]c2)C(=O)N[C@H](CO)c3cccc(c3...</td>\n",
              "      <td>575065</td>\n",
              "      <td>CHEMBL571484</td>\n",
              "      <td>Active</td>\n",
              "      <td>&lt;rdkit.Chem.rdchem.Mol object at 0x79c3b4b1c350&gt;</td>\n",
              "      <td>491.935</td>\n",
              "      <td>4.36922</td>\n",
              "      <td>0</td>\n",
              "    </tr>\n",
              "    <tr>\n",
              "      <th>4</th>\n",
              "      <td>Cc1cnc(nc1c2cc([nH]c2)C(=O)N[C@H](CO)c3cccc(c3...</td>\n",
              "      <td>575047</td>\n",
              "      <td>CHEMBL568937</td>\n",
              "      <td>Active</td>\n",
              "      <td>&lt;rdkit.Chem.rdchem.Mol object at 0x79c3b4b1d850&gt;</td>\n",
              "      <td>487.991</td>\n",
              "      <td>5.12922</td>\n",
              "      <td>0</td>\n",
              "    </tr>\n",
              "  </tbody>\n",
              "</table>\n",
              "</div>\n",
              "      <button class=\"colab-df-convert\" onclick=\"convertToInteractive('df-84368fda-a30e-4330-9a3d-124b9cc22b72')\"\n",
              "              title=\"Convert this dataframe to an interactive table.\"\n",
              "              style=\"display:none;\">\n",
              "\n",
              "  <svg xmlns=\"http://www.w3.org/2000/svg\" height=\"24px\"viewBox=\"0 0 24 24\"\n",
              "       width=\"24px\">\n",
              "    <path d=\"M0 0h24v24H0V0z\" fill=\"none\"/>\n",
              "    <path d=\"M18.56 5.44l.94 2.06.94-2.06 2.06-.94-2.06-.94-.94-2.06-.94 2.06-2.06.94zm-11 1L8.5 8.5l.94-2.06 2.06-.94-2.06-.94L8.5 2.5l-.94 2.06-2.06.94zm10 10l.94 2.06.94-2.06 2.06-.94-2.06-.94-.94-2.06-.94 2.06-2.06.94z\"/><path d=\"M17.41 7.96l-1.37-1.37c-.4-.4-.92-.59-1.43-.59-.52 0-1.04.2-1.43.59L10.3 9.45l-7.72 7.72c-.78.78-.78 2.05 0 2.83L4 21.41c.39.39.9.59 1.41.59.51 0 1.02-.2 1.41-.59l7.78-7.78 2.81-2.81c.8-.78.8-2.07 0-2.86zM5.41 20L4 18.59l7.72-7.72 1.47 1.35L5.41 20z\"/>\n",
              "  </svg>\n",
              "      </button>\n",
              "\n",
              "\n",
              "\n",
              "    <div id=\"df-602ecc57-125b-4c17-9768-faa5777f2718\">\n",
              "      <button class=\"colab-df-quickchart\" onclick=\"quickchart('df-602ecc57-125b-4c17-9768-faa5777f2718')\"\n",
              "              title=\"Suggest charts.\"\n",
              "              style=\"display:none;\">\n",
              "\n",
              "<svg xmlns=\"http://www.w3.org/2000/svg\" height=\"24px\"viewBox=\"0 0 24 24\"\n",
              "     width=\"24px\">\n",
              "    <g>\n",
              "        <path d=\"M19 3H5c-1.1 0-2 .9-2 2v14c0 1.1.9 2 2 2h14c1.1 0 2-.9 2-2V5c0-1.1-.9-2-2-2zM9 17H7v-7h2v7zm4 0h-2V7h2v10zm4 0h-2v-4h2v4z\"/>\n",
              "    </g>\n",
              "</svg>\n",
              "      </button>\n",
              "    </div>\n",
              "\n",
              "<style>\n",
              "  .colab-df-quickchart {\n",
              "    background-color: #E8F0FE;\n",
              "    border: none;\n",
              "    border-radius: 50%;\n",
              "    cursor: pointer;\n",
              "    display: none;\n",
              "    fill: #1967D2;\n",
              "    height: 32px;\n",
              "    padding: 0 0 0 0;\n",
              "    width: 32px;\n",
              "  }\n",
              "\n",
              "  .colab-df-quickchart:hover {\n",
              "    background-color: #E2EBFA;\n",
              "    box-shadow: 0px 1px 2px rgba(60, 64, 67, 0.3), 0px 1px 3px 1px rgba(60, 64, 67, 0.15);\n",
              "    fill: #174EA6;\n",
              "  }\n",
              "\n",
              "  [theme=dark] .colab-df-quickchart {\n",
              "    background-color: #3B4455;\n",
              "    fill: #D2E3FC;\n",
              "  }\n",
              "\n",
              "  [theme=dark] .colab-df-quickchart:hover {\n",
              "    background-color: #434B5C;\n",
              "    box-shadow: 0px 1px 3px 1px rgba(0, 0, 0, 0.15);\n",
              "    filter: drop-shadow(0px 1px 2px rgba(0, 0, 0, 0.3));\n",
              "    fill: #FFFFFF;\n",
              "  }\n",
              "</style>\n",
              "\n",
              "    <script>\n",
              "      async function quickchart(key) {\n",
              "        const containerElement = document.querySelector('#' + key);\n",
              "        const charts = await google.colab.kernel.invokeFunction(\n",
              "            'suggestCharts', [key], {});\n",
              "      }\n",
              "    </script>\n",
              "\n",
              "      <script>\n",
              "\n",
              "function displayQuickchartButton(domScope) {\n",
              "  let quickchartButtonEl =\n",
              "    domScope.querySelector('#df-602ecc57-125b-4c17-9768-faa5777f2718 button.colab-df-quickchart');\n",
              "  quickchartButtonEl.style.display =\n",
              "    google.colab.kernel.accessAllowed ? 'block' : 'none';\n",
              "}\n",
              "\n",
              "        displayQuickchartButton(document);\n",
              "      </script>\n",
              "      <style>\n",
              "    .colab-df-container {\n",
              "      display:flex;\n",
              "      flex-wrap:wrap;\n",
              "      gap: 12px;\n",
              "    }\n",
              "\n",
              "    .colab-df-convert {\n",
              "      background-color: #E8F0FE;\n",
              "      border: none;\n",
              "      border-radius: 50%;\n",
              "      cursor: pointer;\n",
              "      display: none;\n",
              "      fill: #1967D2;\n",
              "      height: 32px;\n",
              "      padding: 0 0 0 0;\n",
              "      width: 32px;\n",
              "    }\n",
              "\n",
              "    .colab-df-convert:hover {\n",
              "      background-color: #E2EBFA;\n",
              "      box-shadow: 0px 1px 2px rgba(60, 64, 67, 0.3), 0px 1px 3px 1px rgba(60, 64, 67, 0.15);\n",
              "      fill: #174EA6;\n",
              "    }\n",
              "\n",
              "    [theme=dark] .colab-df-convert {\n",
              "      background-color: #3B4455;\n",
              "      fill: #D2E3FC;\n",
              "    }\n",
              "\n",
              "    [theme=dark] .colab-df-convert:hover {\n",
              "      background-color: #434B5C;\n",
              "      box-shadow: 0px 1px 3px 1px rgba(0, 0, 0, 0.15);\n",
              "      filter: drop-shadow(0px 1px 2px rgba(0, 0, 0, 0.3));\n",
              "      fill: #FFFFFF;\n",
              "    }\n",
              "  </style>\n",
              "\n",
              "      <script>\n",
              "        const buttonEl =\n",
              "          document.querySelector('#df-84368fda-a30e-4330-9a3d-124b9cc22b72 button.colab-df-convert');\n",
              "        buttonEl.style.display =\n",
              "          google.colab.kernel.accessAllowed ? 'block' : 'none';\n",
              "\n",
              "        async function convertToInteractive(key) {\n",
              "          const element = document.querySelector('#df-84368fda-a30e-4330-9a3d-124b9cc22b72');\n",
              "          const dataTable =\n",
              "            await google.colab.kernel.invokeFunction('convertToInteractive',\n",
              "                                                     [key], {});\n",
              "          if (!dataTable) return;\n",
              "\n",
              "          const docLinkHtml = 'Like what you see? Visit the ' +\n",
              "            '<a target=\"_blank\" href=https://colab.research.google.com/notebooks/data_table.ipynb>data table notebook</a>'\n",
              "            + ' to learn more about interactive tables.';\n",
              "          element.innerHTML = '';\n",
              "          dataTable['output_type'] = 'display_data';\n",
              "          await google.colab.output.renderOutput(dataTable, element);\n",
              "          const docLink = document.createElement('div');\n",
              "          docLink.innerHTML = docLinkHtml;\n",
              "          element.appendChild(docLink);\n",
              "        }\n",
              "      </script>\n",
              "    </div>\n",
              "  </div>\n"
            ]
          },
          "metadata": {},
          "execution_count": 8
        }
      ],
      "source": [
        "add_property_columns_to_df(active_df)\n",
        "active_df.head()"
      ]
    },
    {
      "cell_type": "markdown",
      "metadata": {
        "id": "zjnUULUtz4yW"
      },
      "source": [
        "## 비활성화 데이터"
      ]
    },
    {
      "cell_type": "code",
      "execution_count": 9,
      "metadata": {
        "id": "YI5vDzKfz4yX"
      },
      "outputs": [],
      "source": [
        "decoy_df = pd.read_csv(\"https://raw.githubusercontent.com/deepchem/DeepLearningLifeSciences/master/Chapter11/mk01/decoys_final.ism\",\n",
        "                       header=None,sep=\" \")\n",
        "decoy_df.columns = [\"SMILES\",\"ID\"]\n",
        "decoy_rows, decoy_cols = decoy_df.shape\n",
        "decoy_df[\"label\"] = [\"Decoy\"]*decoy_rows\n",
        "PandasTools.AddMoleculeColumnToFrame(decoy_df,\"SMILES\",\"Mol\")\n",
        "add_property_columns_to_df(decoy_df)"
      ]
    },
    {
      "cell_type": "markdown",
      "metadata": {
        "id": "3r8nfyuPEfAX"
      },
      "source": [
        "- 활성 및 비확성 데이터를 합친다"
      ]
    },
    {
      "cell_type": "code",
      "execution_count": 10,
      "metadata": {
        "id": "0OrArJbcz4yX",
        "outputId": "c2c67d78-57b5-44f6-8604-2e6d3d0648cf",
        "colab": {
          "base_uri": "https://localhost:8080/"
        }
      },
      "outputs": [
        {
          "output_type": "execute_result",
          "data": {
            "text/plain": [
              "(4629, 8)"
            ]
          },
          "metadata": {},
          "execution_count": 10
        }
      ],
      "source": [
        "tmp_df = active_df.append(decoy_df)\n",
        "tmp_df.shape"
      ]
    },
    {
      "cell_type": "markdown",
      "metadata": {
        "id": "KxfG36Osz4yX"
      },
      "source": [
        "## 데이터 탐색\n",
        "\n",
        "- violin plot"
      ]
    },
    {
      "cell_type": "code",
      "execution_count": 11,
      "metadata": {
        "colab": {
          "base_uri": "https://localhost:8080/",
          "height": 449
        },
        "id": "B0NyoEDmz4yX",
        "outputId": "989c20a4-b51a-494e-b8aa-90261964d81f"
      },
      "outputs": [
        {
          "output_type": "display_data",
          "data": {
            "text/plain": [
              "<Figure size 640x480 with 1 Axes>"
            ],
            "image/png": "[encoded data removed]"
          },
          "metadata": {
            "image/png": {
              "width": 571,
              "height": 432
            }
          }
        }
      ],
      "source": [
        "sns.violinplot(x=tmp_df[\"label\"],y=tmp_df[\"mw\"]);"
      ]
    },
    {
      "cell_type": "markdown",
      "metadata": {
        "id": "FzLVdAN5z4yX"
      },
      "source": [
        "- 위 그래프를 보면 분자량 분포는 비슷하다\n",
        "- 400mw 이하의 분자들이 비활성 분자 데이터셋에 좀 더 많이 들어 있다"
      ]
    },
    {
      "cell_type": "code",
      "execution_count": 12,
      "metadata": {
        "colab": {
          "base_uri": "https://localhost:8080/",
          "height": 449
        },
        "id": "MCGBGDW8z4yY",
        "outputId": "165f84e9-28ce-45d7-fee0-0dee76a83ae0"
      },
      "outputs": [
        {
          "output_type": "display_data",
          "data": {
            "text/plain": [
              "<Figure size 640x480 with 1 Axes>"
            ],
            "image/png": "[encoded data removed]"
          },
          "metadata": {
            "image/png": {
              "width": 565,
              "height": 432
            }
          }
        }
      ],
      "source": [
        "sns.violinplot(x=tmp_df[\"label\"],y=tmp_df[\"logP\"]);"
      ]
    },
    {
      "cell_type": "code",
      "execution_count": 13,
      "metadata": {
        "colab": {
          "base_uri": "https://localhost:8080/",
          "height": 449
        },
        "id": "M2cvDR9mz4yY",
        "outputId": "a71e5575-4eb8-444f-e9b6-162b36266180"
      },
      "outputs": [
        {
          "output_type": "display_data",
          "data": {
            "text/plain": [
              "<Figure size 640x480 with 1 Axes>"
            ],
            "image/png": "[encoded data removed]"
          },
          "metadata": {
            "image/png": {
              "width": 579,
              "height": 432
            }
          }
        }
      ],
      "source": [
        "sns.violinplot(x=tmp_df[\"label\"],y=tmp_df[\"charge\"]);"
      ]
    },
    {
      "cell_type": "markdown",
      "metadata": {
        "id": "EnY2ge1Ez4yY"
      },
      "source": [
        "- 활성 분자는 모두 중성이다\n",
        "- 비활성 분자는 일부 +1과 -1이 있다"
      ]
    },
    {
      "cell_type": "code",
      "execution_count": 14,
      "metadata": {
        "id": "nsxlupqbz4yY",
        "outputId": "ac5e9827-1850-4b0e-8ab7-868bab3ad5be",
        "colab": {
          "base_uri": "https://localhost:8080/"
        }
      },
      "outputs": [
        {
          "output_type": "execute_result",
          "data": {
            "text/plain": [
              "0.16175824175824177"
            ]
          },
          "metadata": {},
          "execution_count": 14
        }
      ],
      "source": [
        "charged = decoy_df[decoy_df[\"charge\"] != 0]\n",
        "charged.shape[0]/decoy_df.shape[0]"
      ]
    },
    {
      "cell_type": "markdown",
      "metadata": {
        "id": "fNEBUWSuz4yZ"
      },
      "source": [
        "- 비활성 분자의 16%가 전하를 띠고 있다\n",
        "- 전하 차이에 의해 머신러닝 모델이 바이어스가 생기게 되므로, 비활성 분자의 화학 구조를 수정하여 전하를 제거하겠다\n",
        "- 아래는 이를 위한 함수 정의이다"
      ]
    },
    {
      "cell_type": "code",
      "execution_count": 15,
      "metadata": {
        "id": "YebLfFHFDkdk"
      },
      "outputs": [],
      "source": [
        "def _InitialiseNeutralisationReactions():\n",
        "    patts= (\n",
        "        # Imidazoles\n",
        "        ('[n+;H]','n'),\n",
        "        # Amines\n",
        "        ('[N+;!H0]','N'),\n",
        "        # Carboxylic acids and alcohols\n",
        "        ('[$([O-]);!$([O-][#7])]','O'),\n",
        "        # Thiols\n",
        "        ('[S-;X1]','S'),\n",
        "        # Sulfonamides\n",
        "        ('[$([N-;X2]S(=O)=O)]','N'),\n",
        "        # Enamines\n",
        "        ('[$([N-;X2][C,N]=C)]','N'),\n",
        "        # Tetrazoles\n",
        "        ('[n-]','[nH]'),\n",
        "        # Sulfoxides\n",
        "        ('[$([S-]=O)]','S'),\n",
        "        # Amides\n",
        "        ('[$([N-]C=O)]','N'),\n",
        "        )\n",
        "    return [(Chem.MolFromSmarts(x),Chem.MolFromSmiles(y,False)) for x,y in patts]\n",
        "\n",
        "_reactions=None\n",
        "\n",
        "def NeutraliseCharges(smiles, reactions=None):\n",
        "    global _reactions\n",
        "    if reactions is None:\n",
        "        if _reactions is None:\n",
        "            _reactions=_InitialiseNeutralisationReactions()\n",
        "        reactions=_reactions\n",
        "    mol = Chem.MolFromSmiles(smiles)\n",
        "    replaced = False\n",
        "    for i,(reactant, product) in enumerate(reactions):\n",
        "        while mol.HasSubstructMatch(reactant):\n",
        "            replaced = True\n",
        "            rms = AllChem.ReplaceSubstructs(mol, reactant, product)\n",
        "            mol = rms[0]\n",
        "    if replaced:\n",
        "        return (Chem.MolToSmiles(mol,True), True)\n",
        "    else:\n",
        "        return (smiles, False)"
      ]
    },
    {
      "cell_type": "code",
      "execution_count": 16,
      "metadata": {
        "id": "v9zT1W4lz4yZ"
      },
      "outputs": [],
      "source": [
        "revised_decoy_df = decoy_df[[\"SMILES\",\"ID\",\"label\"]].copy()"
      ]
    },
    {
      "cell_type": "markdown",
      "metadata": {
        "id": "HjqjW_sSz4yZ"
      },
      "source": [
        "- 중성화된 SMILES는 첫 번째 컬럼에 들어 있다"
      ]
    },
    {
      "cell_type": "code",
      "execution_count": 17,
      "metadata": {
        "id": "kmCa_bK0z4yZ"
      },
      "outputs": [],
      "source": [
        "revised_decoy_df[\"SMILES\"] = [NeutraliseCharges(x)[0] for x in revised_decoy_df[\"SMILES\"]]\n"
      ]
    },
    {
      "cell_type": "code",
      "execution_count": 18,
      "metadata": {
        "colab": {
          "base_uri": "https://localhost:8080/"
        },
        "id": "biGul6sTuVXT",
        "outputId": "47edd887-fa8c-4a71-c386-1dd74ed1fb68"
      },
      "outputs": [
        {
          "output_type": "execute_result",
          "data": {
            "text/plain": [
              "(4550, 3)"
            ]
          },
          "metadata": {},
          "execution_count": 18
        }
      ],
      "source": [
        "revised_decoy_df.shape"
      ]
    },
    {
      "cell_type": "markdown",
      "metadata": {
        "id": "RJAuMomNz4yZ"
      },
      "source": [
        "- 특성을 다시 계산한다\n",
        "- 전하를 띤 샘플의 수가 감소했다"
      ]
    },
    {
      "cell_type": "code",
      "execution_count": 19,
      "metadata": {
        "id": "HO9X1SmLz4yZ"
      },
      "outputs": [],
      "source": [
        "PandasTools.AddMoleculeColumnToFrame(revised_decoy_df,\"SMILES\",\"Mol\")\n",
        "add_property_columns_to_df(revised_decoy_df)"
      ]
    },
    {
      "cell_type": "code",
      "execution_count": 20,
      "metadata": {
        "id": "7pcGOamBz4yZ"
      },
      "outputs": [],
      "source": [
        "new_tmp_df = active_df.append(revised_decoy_df)"
      ]
    },
    {
      "cell_type": "code",
      "execution_count": 21,
      "metadata": {
        "colab": {
          "base_uri": "https://localhost:8080/",
          "height": 467
        },
        "id": "i1HO5iHNz4yZ",
        "outputId": "7c94de40-8ba6-4908-89a7-3633cb894cb6"
      },
      "outputs": [
        {
          "output_type": "execute_result",
          "data": {
            "text/plain": [
              "<Axes: xlabel='label', ylabel='charge'>"
            ]
          },
          "metadata": {},
          "execution_count": 21
        },
        {
          "output_type": "display_data",
          "data": {
            "text/plain": [
              "<Figure size 640x480 with 1 Axes>"
            ],
            "image/png": "[encoded data removed]"
          },
          "metadata": {
            "image/png": {
              "width": 587,
              "height": 432
            }
          }
        }
      ],
      "source": [
        "sns.violinplot(x=new_tmp_df[\"label\"],y=new_tmp_df[\"charge\"])"
      ]
    },
    {
      "cell_type": "code",
      "execution_count": 22,
      "metadata": {
        "colab": {
          "base_uri": "https://localhost:8080/"
        },
        "id": "2F5f08LRz4yZ",
        "outputId": "53c5a234-37a3-47bd-bf61-194d7978ba7b"
      },
      "outputs": [
        {
          "output_type": "execute_result",
          "data": {
            "text/plain": [
              "0.0026373626373626374"
            ]
          },
          "metadata": {},
          "execution_count": 22
        }
      ],
      "source": [
        "charged = revised_decoy_df[revised_decoy_df[\"charge\"] != 0]\n",
        "charged.shape[0]/revised_decoy_df.shape[0]"
      ]
    },
    {
      "cell_type": "markdown",
      "metadata": {
        "id": "kmoGr0jtz4ya"
      },
      "source": [
        "- 활성을 1로 비활성을 0으로 인코딩한다"
      ]
    },
    {
      "cell_type": "code",
      "execution_count": 23,
      "metadata": {
        "colab": {
          "base_uri": "https://localhost:8080/",
          "height": 206
        },
        "id": "VVc_Gm_Uz4ya",
        "outputId": "3da8895d-0149-47db-b02d-45d05476ee1e"
      },
      "outputs": [
        {
          "output_type": "execute_result",
          "data": {
            "text/plain": [
              "                                              SMILES      ID  is_active\n",
              "0  Cn1ccnc1Sc2ccc(cc2Cl)Nc3c4cc(c(cc4ncc3C#N)OCCC...  168691          1\n",
              "1  C[C@@]12[C@@H]([C@@H](CC(O1)n3c4ccccc4c5c3c6n2...   86358          1\n",
              "2  Cc1cnc(nc1c2cc([nH]c2)C(=O)N[C@H](CO)c3cccc(c3...  575087          1\n",
              "3  Cc1cnc(nc1c2cc([nH]c2)C(=O)N[C@H](CO)c3cccc(c3...  575065          1\n",
              "4  Cc1cnc(nc1c2cc([nH]c2)C(=O)N[C@H](CO)c3cccc(c3...  575047          1"
            ],
            "text/html": [
              "\n",
              "\n",
              "  <div id=\"df-c33db2f6-95b8-4cf4-836b-6cc4c071c3b8\">\n",
              "    <div class=\"colab-df-container\">\n",
              "      <div>\n",
              "<style scoped>\n",
              "    .dataframe tbody tr th:only-of-type {\n",
              "        vertical-align: middle;\n",
              "    }\n",
              "\n",
              "    .dataframe tbody tr th {\n",
              "        vertical-align: top;\n",
              "    }\n",
              "\n",
              "    .dataframe thead th {\n",
              "        text-align: right;\n",
              "    }\n",
              "</style>\n",
              "<table border=\"1\" class=\"dataframe\">\n",
              "  <thead>\n",
              "    <tr style=\"text-align: right;\">\n",
              "      <th></th>\n",
              "      <th>SMILES</th>\n",
              "      <th>ID</th>\n",
              "      <th>is_active</th>\n",
              "    </tr>\n",
              "  </thead>\n",
              "  <tbody>\n",
              "    <tr>\n",
              "      <th>0</th>\n",
              "      <td>Cn1ccnc1Sc2ccc(cc2Cl)Nc3c4cc(c(cc4ncc3C#N)OCCC...</td>\n",
              "      <td>168691</td>\n",
              "      <td>1</td>\n",
              "    </tr>\n",
              "    <tr>\n",
              "      <th>1</th>\n",
              "      <td>C[C@@]12[C@@H]([C@@H](CC(O1)n3c4ccccc4c5c3c6n2...</td>\n",
              "      <td>86358</td>\n",
              "      <td>1</td>\n",
              "    </tr>\n",
              "    <tr>\n",
              "      <th>2</th>\n",
              "      <td>Cc1cnc(nc1c2cc([nH]c2)C(=O)N[C@H](CO)c3cccc(c3...</td>\n",
              "      <td>575087</td>\n",
              "      <td>1</td>\n",
              "    </tr>\n",
              "    <tr>\n",
              "      <th>3</th>\n",
              "      <td>Cc1cnc(nc1c2cc([nH]c2)C(=O)N[C@H](CO)c3cccc(c3...</td>\n",
              "      <td>575065</td>\n",
              "      <td>1</td>\n",
              "    </tr>\n",
              "    <tr>\n",
              "      <th>4</th>\n",
              "      <td>Cc1cnc(nc1c2cc([nH]c2)C(=O)N[C@H](CO)c3cccc(c3...</td>\n",
              "      <td>575047</td>\n",
              "      <td>1</td>\n",
              "    </tr>\n",
              "  </tbody>\n",
              "</table>\n",
              "</div>\n",
              "      <button class=\"colab-df-convert\" onclick=\"convertToInteractive('df-c33db2f6-95b8-4cf4-836b-6cc4c071c3b8')\"\n",
              "              title=\"Convert this dataframe to an interactive table.\"\n",
              "              style=\"display:none;\">\n",
              "\n",
              "  <svg xmlns=\"http://www.w3.org/2000/svg\" height=\"24px\"viewBox=\"0 0 24 24\"\n",
              "       width=\"24px\">\n",
              "    <path d=\"M0 0h24v24H0V0z\" fill=\"none\"/>\n",
              "    <path d=\"M18.56 5.44l.94 2.06.94-2.06 2.06-.94-2.06-.94-.94-2.06-.94 2.06-2.06.94zm-11 1L8.5 8.5l.94-2.06 2.06-.94-2.06-.94L8.5 2.5l-.94 2.06-2.06.94zm10 10l.94 2.06.94-2.06 2.06-.94-2.06-.94-.94-2.06-.94 2.06-2.06.94z\"/><path d=\"M17.41 7.96l-1.37-1.37c-.4-.4-.92-.59-1.43-.59-.52 0-1.04.2-1.43.59L10.3 9.45l-7.72 7.72c-.78.78-.78 2.05 0 2.83L4 21.41c.39.39.9.59 1.41.59.51 0 1.02-.2 1.41-.59l7.78-7.78 2.81-2.81c.8-.78.8-2.07 0-2.86zM5.41 20L4 18.59l7.72-7.72 1.47 1.35L5.41 20z\"/>\n",
              "  </svg>\n",
              "      </button>\n",
              "\n",
              "\n",
              "\n",
              "    <div id=\"df-69b5c811-d8c9-42f9-8874-f413de3af4d3\">\n",
              "      <button class=\"colab-df-quickchart\" onclick=\"quickchart('df-69b5c811-d8c9-42f9-8874-f413de3af4d3')\"\n",
              "              title=\"Suggest charts.\"\n",
              "              style=\"display:none;\">\n",
              "\n",
              "<svg xmlns=\"http://www.w3.org/2000/svg\" height=\"24px\"viewBox=\"0 0 24 24\"\n",
              "     width=\"24px\">\n",
              "    <g>\n",
              "        <path d=\"M19 3H5c-1.1 0-2 .9-2 2v14c0 1.1.9 2 2 2h14c1.1 0 2-.9 2-2V5c0-1.1-.9-2-2-2zM9 17H7v-7h2v7zm4 0h-2V7h2v10zm4 0h-2v-4h2v4z\"/>\n",
              "    </g>\n",
              "</svg>\n",
              "      </button>\n",
              "    </div>\n",
              "\n",
              "<style>\n",
              "  .colab-df-quickchart {\n",
              "    background-color: #E8F0FE;\n",
              "    border: none;\n",
              "    border-radius: 50%;\n",
              "    cursor: pointer;\n",
              "    display: none;\n",
              "    fill: #1967D2;\n",
              "    height: 32px;\n",
              "    padding: 0 0 0 0;\n",
              "    width: 32px;\n",
              "  }\n",
              "\n",
              "  .colab-df-quickchart:hover {\n",
              "    background-color: #E2EBFA;\n",
              "    box-shadow: 0px 1px 2px rgba(60, 64, 67, 0.3), 0px 1px 3px 1px rgba(60, 64, 67, 0.15);\n",
              "    fill: #174EA6;\n",
              "  }\n",
              "\n",
              "  [theme=dark] .colab-df-quickchart {\n",
              "    background-color: #3B4455;\n",
              "    fill: #D2E3FC;\n",
              "  }\n",
              "\n",
              "  [theme=dark] .colab-df-quickchart:hover {\n",
              "    background-color: #434B5C;\n",
              "    box-shadow: 0px 1px 3px 1px rgba(0, 0, 0, 0.15);\n",
              "    filter: drop-shadow(0px 1px 2px rgba(0, 0, 0, 0.3));\n",
              "    fill: #FFFFFF;\n",
              "  }\n",
              "</style>\n",
              "\n",
              "    <script>\n",
              "      async function quickchart(key) {\n",
              "        const containerElement = document.querySelector('#' + key);\n",
              "        const charts = await google.colab.kernel.invokeFunction(\n",
              "            'suggestCharts', [key], {});\n",
              "      }\n",
              "    </script>\n",
              "\n",
              "      <script>\n",
              "\n",
              "function displayQuickchartButton(domScope) {\n",
              "  let quickchartButtonEl =\n",
              "    domScope.querySelector('#df-69b5c811-d8c9-42f9-8874-f413de3af4d3 button.colab-df-quickchart');\n",
              "  quickchartButtonEl.style.display =\n",
              "    google.colab.kernel.accessAllowed ? 'block' : 'none';\n",
              "}\n",
              "\n",
              "        displayQuickchartButton(document);\n",
              "      </script>\n",
              "      <style>\n",
              "    .colab-df-container {\n",
              "      display:flex;\n",
              "      flex-wrap:wrap;\n",
              "      gap: 12px;\n",
              "    }\n",
              "\n",
              "    .colab-df-convert {\n",
              "      background-color: #E8F0FE;\n",
              "      border: none;\n",
              "      border-radius: 50%;\n",
              "      cursor: pointer;\n",
              "      display: none;\n",
              "      fill: #1967D2;\n",
              "      height: 32px;\n",
              "      padding: 0 0 0 0;\n",
              "      width: 32px;\n",
              "    }\n",
              "\n",
              "    .colab-df-convert:hover {\n",
              "      background-color: #E2EBFA;\n",
              "      box-shadow: 0px 1px 2px rgba(60, 64, 67, 0.3), 0px 1px 3px 1px rgba(60, 64, 67, 0.15);\n",
              "      fill: #174EA6;\n",
              "    }\n",
              "\n",
              "    [theme=dark] .colab-df-convert {\n",
              "      background-color: #3B4455;\n",
              "      fill: #D2E3FC;\n",
              "    }\n",
              "\n",
              "    [theme=dark] .colab-df-convert:hover {\n",
              "      background-color: #434B5C;\n",
              "      box-shadow: 0px 1px 3px 1px rgba(0, 0, 0, 0.15);\n",
              "      filter: drop-shadow(0px 1px 2px rgba(0, 0, 0, 0.3));\n",
              "      fill: #FFFFFF;\n",
              "    }\n",
              "  </style>\n",
              "\n",
              "      <script>\n",
              "        const buttonEl =\n",
              "          document.querySelector('#df-c33db2f6-95b8-4cf4-836b-6cc4c071c3b8 button.colab-df-convert');\n",
              "        buttonEl.style.display =\n",
              "          google.colab.kernel.accessAllowed ? 'block' : 'none';\n",
              "\n",
              "        async function convertToInteractive(key) {\n",
              "          const element = document.querySelector('#df-c33db2f6-95b8-4cf4-836b-6cc4c071c3b8');\n",
              "          const dataTable =\n",
              "            await google.colab.kernel.invokeFunction('convertToInteractive',\n",
              "                                                     [key], {});\n",
              "          if (!dataTable) return;\n",
              "\n",
              "          const docLinkHtml = 'Like what you see? Visit the ' +\n",
              "            '<a target=\"_blank\" href=https://colab.research.google.com/notebooks/data_table.ipynb>data table notebook</a>'\n",
              "            + ' to learn more about interactive tables.';\n",
              "          element.innerHTML = '';\n",
              "          dataTable['output_type'] = 'display_data';\n",
              "          await google.colab.output.renderOutput(dataTable, element);\n",
              "          const docLink = document.createElement('div');\n",
              "          docLink.innerHTML = docLinkHtml;\n",
              "          element.appendChild(docLink);\n",
              "        }\n",
              "      </script>\n",
              "    </div>\n",
              "  </div>\n"
            ]
          },
          "metadata": {},
          "execution_count": 23
        }
      ],
      "source": [
        "active_df[\"is_active\"] = [1] * active_df.shape[0]\n",
        "revised_decoy_df[\"is_active\"] = [0] * revised_decoy_df.shape[0]\n",
        "combined_df = active_df.append(revised_decoy_df)[[\"SMILES\",\"ID\",\"is_active\"]]\n",
        "combined_df.head()"
      ]
    },
    {
      "cell_type": "code",
      "execution_count": 25,
      "metadata": {
        "id": "1NDR_A5oz4ya"
      },
      "outputs": [],
      "source": [
        "# 전처리한 데이터를 파일로 저장해둔다\n",
        "combined_df.to_csv(\"dude_erk1_mk01.csv\")"
      ]
    },
    {
      "cell_type": "markdown",
      "metadata": {
        "id": "1V7obXblHUP6"
      },
      "source": [
        "# 분류 모델\n",
        "\n",
        "- GCN 모델을 사용한다"
      ]
    },
    {
      "cell_type": "markdown",
      "metadata": {
        "id": "ee8fkz1pIStN"
      },
      "source": [
        "##  그래프 컨볼류션 모델 생성"
      ]
    },
    {
      "cell_type": "code",
      "execution_count": 26,
      "metadata": {
        "id": "_ZB9-hFQHhph"
      },
      "outputs": [],
      "source": [
        "def generate_graph_conv_model():\n",
        "    batch_size = 128\n",
        "    model = GraphConvModel(1, batch_size=batch_size,\n",
        "             mode='classification', model_dir=\"./model_dir\")\n",
        "    return model"
      ]
    },
    {
      "cell_type": "code",
      "execution_count": 27,
      "metadata": {
        "id": "cxvt5XBkHsiK"
      },
      "outputs": [],
      "source": [
        "dataset_file = \"dude_erk1_mk01.csv\"\n",
        "tasks = [\"is_active\"]\n",
        "featurizer = dc.feat.ConvMolFeaturizer()\n",
        "loader = dc.data.CSVLoader(tasks=tasks, feature_field=\"SMILES\", featurizer=featurizer)\n",
        "dataset = loader.create_dataset(dataset_file, shard_size=8192)"
      ]
    },
    {
      "cell_type": "markdown",
      "metadata": {
        "id": "jC8aDynkIz89"
      },
      "source": [
        "- RandomSplitter() 사용 - 데이터를 래덤하게 나눈다\n",
        "- 화학 구조를 기반으로 데이터셋을 나누는 ScaffoleSplit(), 데이터를 군집화 한 후에 데이터셋을 나누는 ButinaSplitter()도 있다\n",
        "- 불균형 데이터에 대한 성능 평가시에는 매튜 상관계수 Matthews Correlarions Coefficients(MCC)를 사용한다\n",
        " - +1이면 완벽한 예측, 0이면 랜덤 예측, -1이면 완전히 반대되는 예측을 의미한다\n",
        "- 모델을 5회 만들어 평균을 구한다 (랜덤 교차검증)"
      ]
    },
    {
      "cell_type": "code",
      "execution_count": 28,
      "metadata": {
        "id": "bIgIxmECICLd"
      },
      "outputs": [],
      "source": [
        "splitter = dc.splits.RandomSplitter()\n",
        "metrics = [dc.metrics.Metric(dc.metrics.matthews_corrcoef, np.mean)]"
      ]
    },
    {
      "cell_type": "code",
      "execution_count": 29,
      "metadata": {
        "colab": {
          "base_uri": "https://localhost:8080/",
          "height": 105,
          "referenced_widgets": [
            "19a9a72be8624323885add5609b4cfaf",
            "5520786526e34414904cefb8d9777640",
            "41900eab09114eec9ef818f46f50a3e3",
            "4bb1628e25ee4375ac0e70bbb2d3de9c",
            "addf9798861d43b9a6ab635129824389",
            "e3b2dd113f7649089b3746a49232a231",
            "6224e68de939443f9b1a7b717c2dc796",
            "29403c9e4ba34f7e9f346c9e8c3f7e92",
            "b69f3a9a497744ec876d789759dd0238",
            "c1f6a97df0e742ef9413405a6f694e54",
            "bdee7671d9f34e9684058f5a2cd7b6cd"
          ]
        },
        "collapsed": true,
        "id": "TfsZNqMbKlGv",
        "outputId": "e9e5e32c-4561-45ca-8746-4495599d7921"
      },
      "outputs": [
        {
          "output_type": "display_data",
          "data": {
            "text/plain": [
              "  0%|          | 0/5 [00:00<?, ?it/s]"
            ],
            "application/vnd.jupyter.widget-view+json": {
              "version_major": 2,
              "version_minor": 0,
              "model_id": "19a9a72be8624323885add5609b4cfaf"
            }
          },
          "metadata": {}
        },
        {
          "output_type": "stream",
          "name": "stdout",
          "text": [
            "[0.6411635129765872, 0.6370436559461252, 0.8803382869037676, 0.17669972450070826, 0.8977422841329967]\n",
            "[0.8641283031407085, 0.814715779285453, 0.8934523381859952, 0.574840038738937, 0.8650835596735099]\n"
          ]
        }
      ],
      "source": [
        "training_score_list = []\n",
        "validation_score_list = []\n",
        "transformers = []\n",
        "cv_folds = 5\n",
        "for i in tqdm(range(0,cv_folds)):\n",
        "    model = generate_graph_conv_model()\n",
        "    train_dataset, valid_dataset, test_dataset = splitter.train_valid_test_split(dataset)\n",
        "    model.fit(train_dataset)\n",
        "    train_scores = model.evaluate(train_dataset, metrics, transformers)\n",
        "    training_score_list.append(train_scores[\"mean-matthews_corrcoef\"])\n",
        "    validation_scores = model.evaluate(valid_dataset, metrics, transformers)\n",
        "    validation_score_list.append(validation_scores[\"mean-matthews_corrcoef\"])\n",
        "print(training_score_list)\n",
        "print(validation_score_list)"
      ]
    },
    {
      "cell_type": "code",
      "execution_count": 31,
      "metadata": {
        "colab": {
          "base_uri": "https://localhost:8080/"
        },
        "id": "x8WbOOLY3Njt",
        "outputId": "1dfa90e1-ab90-4beb-d0e4-b431787d025a"
      },
      "outputs": [
        {
          "output_type": "execute_result",
          "data": {
            "text/plain": [
              "(0.646597492892037, 0.8024440038049206)"
            ]
          },
          "metadata": {},
          "execution_count": 31
        }
      ],
      "source": [
        "np.array(training_score_list).mean(), np.array(validation_score_list).mean()"
      ]
    },
    {
      "cell_type": "code",
      "execution_count": 32,
      "metadata": {
        "colab": {
          "base_uri": "https://localhost:8080/",
          "height": 430
        },
        "id": "q-Y7amrZNMzi",
        "outputId": "261c799c-6148-4a03-a1d7-8220bd053f99"
      },
      "outputs": [
        {
          "output_type": "display_data",
          "data": {
            "text/plain": [
              "<Figure size 640x480 with 1 Axes>"
            ],
            "image/png": "[encoded data removed]"
          },
          "metadata": {
            "image/png": {
              "width": 547,
              "height": 413
            }
          }
        }
      ],
      "source": [
        "sns.boxplot(x=[\"training\"]*cv_folds+[\"validation\"]*cv_folds,y=training_score_list+validation_score_list);"
      ]
    },
    {
      "cell_type": "markdown",
      "metadata": {
        "id": "TIH_hSwPN-jt"
      },
      "source": [
        "## 검증 데이터 분류 예측"
      ]
    },
    {
      "cell_type": "code",
      "execution_count": 33,
      "metadata": {
        "id": "n6h8HG-fNSCZ",
        "colab": {
          "base_uri": "https://localhost:8080/"
        },
        "outputId": "29f9bf0b-4f3b-4ec7-c4de-418754009035"
      },
      "outputs": [
        {
          "output_type": "execute_result",
          "data": {
            "text/plain": [
              "[array([0.95733374, 0.0426663 ], dtype=float32),\n",
              " array([0.9898094 , 0.01019065], dtype=float32),\n",
              " array([0.9989889 , 0.00101109], dtype=float32)]"
            ]
          },
          "metadata": {},
          "execution_count": 33
        }
      ],
      "source": [
        "pred = [x.flatten() for x in model.predict(valid_dataset)]\n",
        "pred[:3]"
      ]
    },
    {
      "cell_type": "code",
      "execution_count": 34,
      "metadata": {
        "colab": {
          "base_uri": "https://localhost:8080/",
          "height": 206
        },
        "id": "sfNkHHqfNkSe",
        "outputId": "3b2792ed-defd-4f20-e074-01d574d8cfac"
      },
      "outputs": [
        {
          "output_type": "execute_result",
          "data": {
            "text/plain": [
              "        neg       pos  active  \\\n",
              "0  0.957334  0.042666       0   \n",
              "1  0.989809  0.010191       0   \n",
              "2  0.998989  0.001011       0   \n",
              "3  0.999276  0.000724       0   \n",
              "4  0.980175  0.019825       0   \n",
              "\n",
              "                                              SMILES  \n",
              "0   Cc1c2c([nH]c1C(=O)NCCN3c4ccccc4N[C@@H]3C)CCCC2=O  \n",
              "1       C1CCC(CC1)CC(=O)NNC(=O)c2c(c(n[nH]2)C3CC3)Br  \n",
              "2  C[C@]12CC/C(=N/OCC(=O)NCCc3ccc(cc3)O)/C=C1CC[C...  \n",
              "3  C[C@@H]1[C@H](CC[C@]2([C@H]1[C@H]([C@H](CC2)[C...  \n",
              "4        C/C(=C/C(=O)Nc1ccccc1)/NNC(=O)c2cc(ccc2O)Br  "
            ],
            "text/html": [
              "\n",
              "\n",
              "  <div id=\"df-43825aa3-d60a-4c7e-80ae-fafd382294e7\">\n",
              "    <div class=\"colab-df-container\">\n",
              "      <div>\n",
              "<style scoped>\n",
              "    .dataframe tbody tr th:only-of-type {\n",
              "        vertical-align: middle;\n",
              "    }\n",
              "\n",
              "    .dataframe tbody tr th {\n",
              "        vertical-align: top;\n",
              "    }\n",
              "\n",
              "    .dataframe thead th {\n",
              "        text-align: right;\n",
              "    }\n",
              "</style>\n",
              "<table border=\"1\" class=\"dataframe\">\n",
              "  <thead>\n",
              "    <tr style=\"text-align: right;\">\n",
              "      <th></th>\n",
              "      <th>neg</th>\n",
              "      <th>pos</th>\n",
              "      <th>active</th>\n",
              "      <th>SMILES</th>\n",
              "    </tr>\n",
              "  </thead>\n",
              "  <tbody>\n",
              "    <tr>\n",
              "      <th>0</th>\n",
              "      <td>0.957334</td>\n",
              "      <td>0.042666</td>\n",
              "      <td>0</td>\n",
              "      <td>Cc1c2c([nH]c1C(=O)NCCN3c4ccccc4N[C@@H]3C)CCCC2=O</td>\n",
              "    </tr>\n",
              "    <tr>\n",
              "      <th>1</th>\n",
              "      <td>0.989809</td>\n",
              "      <td>0.010191</td>\n",
              "      <td>0</td>\n",
              "      <td>C1CCC(CC1)CC(=O)NNC(=O)c2c(c(n[nH]2)C3CC3)Br</td>\n",
              "    </tr>\n",
              "    <tr>\n",
              "      <th>2</th>\n",
              "      <td>0.998989</td>\n",
              "      <td>0.001011</td>\n",
              "      <td>0</td>\n",
              "      <td>C[C@]12CC/C(=N/OCC(=O)NCCc3ccc(cc3)O)/C=C1CC[C...</td>\n",
              "    </tr>\n",
              "    <tr>\n",
              "      <th>3</th>\n",
              "      <td>0.999276</td>\n",
              "      <td>0.000724</td>\n",
              "      <td>0</td>\n",
              "      <td>C[C@@H]1[C@H](CC[C@]2([C@H]1[C@H]([C@H](CC2)[C...</td>\n",
              "    </tr>\n",
              "    <tr>\n",
              "      <th>4</th>\n",
              "      <td>0.980175</td>\n",
              "      <td>0.019825</td>\n",
              "      <td>0</td>\n",
              "      <td>C/C(=C/C(=O)Nc1ccccc1)/NNC(=O)c2cc(ccc2O)Br</td>\n",
              "    </tr>\n",
              "  </tbody>\n",
              "</table>\n",
              "</div>\n",
              "      <button class=\"colab-df-convert\" onclick=\"convertToInteractive('df-43825aa3-d60a-4c7e-80ae-fafd382294e7')\"\n",
              "              title=\"Convert this dataframe to an interactive table.\"\n",
              "              style=\"display:none;\">\n",
              "\n",
              "  <svg xmlns=\"http://www.w3.org/2000/svg\" height=\"24px\"viewBox=\"0 0 24 24\"\n",
              "       width=\"24px\">\n",
              "    <path d=\"M0 0h24v24H0V0z\" fill=\"none\"/>\n",
              "    <path d=\"M18.56 5.44l.94 2.06.94-2.06 2.06-.94-2.06-.94-.94-2.06-.94 2.06-2.06.94zm-11 1L8.5 8.5l.94-2.06 2.06-.94-2.06-.94L8.5 2.5l-.94 2.06-2.06.94zm10 10l.94 2.06.94-2.06 2.06-.94-2.06-.94-.94-2.06-.94 2.06-2.06.94z\"/><path d=\"M17.41 7.96l-1.37-1.37c-.4-.4-.92-.59-1.43-.59-.52 0-1.04.2-1.43.59L10.3 9.45l-7.72 7.72c-.78.78-.78 2.05 0 2.83L4 21.41c.39.39.9.59 1.41.59.51 0 1.02-.2 1.41-.59l7.78-7.78 2.81-2.81c.8-.78.8-2.07 0-2.86zM5.41 20L4 18.59l7.72-7.72 1.47 1.35L5.41 20z\"/>\n",
              "  </svg>\n",
              "      </button>\n",
              "\n",
              "\n",
              "\n",
              "    <div id=\"df-263138fb-74c2-4cb4-808d-772508819b48\">\n",
              "      <button class=\"colab-df-quickchart\" onclick=\"quickchart('df-263138fb-74c2-4cb4-808d-772508819b48')\"\n",
              "              title=\"Suggest charts.\"\n",
              "              style=\"display:none;\">\n",
              "\n",
              "<svg xmlns=\"http://www.w3.org/2000/svg\" height=\"24px\"viewBox=\"0 0 24 24\"\n",
              "     width=\"24px\">\n",
              "    <g>\n",
              "        <path d=\"M19 3H5c-1.1 0-2 .9-2 2v14c0 1.1.9 2 2 2h14c1.1 0 2-.9 2-2V5c0-1.1-.9-2-2-2zM9 17H7v-7h2v7zm4 0h-2V7h2v10zm4 0h-2v-4h2v4z\"/>\n",
              "    </g>\n",
              "</svg>\n",
              "      </button>\n",
              "    </div>\n",
              "\n",
              "<style>\n",
              "  .colab-df-quickchart {\n",
              "    background-color: #E8F0FE;\n",
              "    border: none;\n",
              "    border-radius: 50%;\n",
              "    cursor: pointer;\n",
              "    display: none;\n",
              "    fill: #1967D2;\n",
              "    height: 32px;\n",
              "    padding: 0 0 0 0;\n",
              "    width: 32px;\n",
              "  }\n",
              "\n",
              "  .colab-df-quickchart:hover {\n",
              "    background-color: #E2EBFA;\n",
              "    box-shadow: 0px 1px 2px rgba(60, 64, 67, 0.3), 0px 1px 3px 1px rgba(60, 64, 67, 0.15);\n",
              "    fill: #174EA6;\n",
              "  }\n",
              "\n",
              "  [theme=dark] .colab-df-quickchart {\n",
              "    background-color: #3B4455;\n",
              "    fill: #D2E3FC;\n",
              "  }\n",
              "\n",
              "  [theme=dark] .colab-df-quickchart:hover {\n",
              "    background-color: #434B5C;\n",
              "    box-shadow: 0px 1px 3px 1px rgba(0, 0, 0, 0.15);\n",
              "    filter: drop-shadow(0px 1px 2px rgba(0, 0, 0, 0.3));\n",
              "    fill: #FFFFFF;\n",
              "  }\n",
              "</style>\n",
              "\n",
              "    <script>\n",
              "      async function quickchart(key) {\n",
              "        const containerElement = document.querySelector('#' + key);\n",
              "        const charts = await google.colab.kernel.invokeFunction(\n",
              "            'suggestCharts', [key], {});\n",
              "      }\n",
              "    </script>\n",
              "\n",
              "      <script>\n",
              "\n",
              "function displayQuickchartButton(domScope) {\n",
              "  let quickchartButtonEl =\n",
              "    domScope.querySelector('#df-263138fb-74c2-4cb4-808d-772508819b48 button.colab-df-quickchart');\n",
              "  quickchartButtonEl.style.display =\n",
              "    google.colab.kernel.accessAllowed ? 'block' : 'none';\n",
              "}\n",
              "\n",
              "        displayQuickchartButton(document);\n",
              "      </script>\n",
              "      <style>\n",
              "    .colab-df-container {\n",
              "      display:flex;\n",
              "      flex-wrap:wrap;\n",
              "      gap: 12px;\n",
              "    }\n",
              "\n",
              "    .colab-df-convert {\n",
              "      background-color: #E8F0FE;\n",
              "      border: none;\n",
              "      border-radius: 50%;\n",
              "      cursor: pointer;\n",
              "      display: none;\n",
              "      fill: #1967D2;\n",
              "      height: 32px;\n",
              "      padding: 0 0 0 0;\n",
              "      width: 32px;\n",
              "    }\n",
              "\n",
              "    .colab-df-convert:hover {\n",
              "      background-color: #E2EBFA;\n",
              "      box-shadow: 0px 1px 2px rgba(60, 64, 67, 0.3), 0px 1px 3px 1px rgba(60, 64, 67, 0.15);\n",
              "      fill: #174EA6;\n",
              "    }\n",
              "\n",
              "    [theme=dark] .colab-df-convert {\n",
              "      background-color: #3B4455;\n",
              "      fill: #D2E3FC;\n",
              "    }\n",
              "\n",
              "    [theme=dark] .colab-df-convert:hover {\n",
              "      background-color: #434B5C;\n",
              "      box-shadow: 0px 1px 3px 1px rgba(0, 0, 0, 0.15);\n",
              "      filter: drop-shadow(0px 1px 2px rgba(0, 0, 0, 0.3));\n",
              "      fill: #FFFFFF;\n",
              "    }\n",
              "  </style>\n",
              "\n",
              "      <script>\n",
              "        const buttonEl =\n",
              "          document.querySelector('#df-43825aa3-d60a-4c7e-80ae-fafd382294e7 button.colab-df-convert');\n",
              "        buttonEl.style.display =\n",
              "          google.colab.kernel.accessAllowed ? 'block' : 'none';\n",
              "\n",
              "        async function convertToInteractive(key) {\n",
              "          const element = document.querySelector('#df-43825aa3-d60a-4c7e-80ae-fafd382294e7');\n",
              "          const dataTable =\n",
              "            await google.colab.kernel.invokeFunction('convertToInteractive',\n",
              "                                                     [key], {});\n",
              "          if (!dataTable) return;\n",
              "\n",
              "          const docLinkHtml = 'Like what you see? Visit the ' +\n",
              "            '<a target=\"_blank\" href=https://colab.research.google.com/notebooks/data_table.ipynb>data table notebook</a>'\n",
              "            + ' to learn more about interactive tables.';\n",
              "          element.innerHTML = '';\n",
              "          dataTable['output_type'] = 'display_data';\n",
              "          await google.colab.output.renderOutput(dataTable, element);\n",
              "          const docLink = document.createElement('div');\n",
              "          docLink.innerHTML = docLinkHtml;\n",
              "          element.appendChild(docLink);\n",
              "        }\n",
              "      </script>\n",
              "    </div>\n",
              "  </div>\n"
            ]
          },
          "metadata": {},
          "execution_count": 34
        }
      ],
      "source": [
        "pred_df = pd.DataFrame(pred,columns=[\"neg\",\"pos\"])\n",
        "pred_df[\"active\"] = [int(x) for x in valid_dataset.y]\n",
        "pred_df[\"SMILES\"] = valid_dataset.ids\n",
        "pred_df.head()"
      ]
    },
    {
      "cell_type": "code",
      "execution_count": 35,
      "metadata": {
        "colab": {
          "base_uri": "https://localhost:8080/",
          "height": 206
        },
        "id": "TQO35DukNoVP",
        "outputId": "ba2235f2-0f6c-4ff0-ceba-c9c2ef91a54b"
      },
      "outputs": [
        {
          "output_type": "execute_result",
          "data": {
            "text/plain": [
              "          neg       pos  active  \\\n",
              "89   0.020704  0.979296       1   \n",
              "61   0.199121  0.800879       1   \n",
              "388  0.470208  0.529792       1   \n",
              "163  0.744927  0.255073       0   \n",
              "228  0.768229  0.231771       0   \n",
              "\n",
              "                                                SMILES  \n",
              "89   Cc1cnc(nc1c2cc([nH]c2)C(=O)N[C@H](CO)c3cccc(c3...  \n",
              "61   c1ccc2c(c1)CCN(C2)C(=O)c3cc(c[nH]3)c4c(cn[nH]4...  \n",
              "388  COc1cc2c(cc1OCCCN3CCOCC3)ncc(c2Nc4ccc(cc4)Oc5c...  \n",
              "163  c1cc2c(cc1C#N)nc([nH]2)[C@@H]([C@H](c3[nH]c4cc...  \n",
              "228                      C1COCCNC(=S)NCCOCCOCCNC(=S)N1  "
            ],
            "text/html": [
              "\n",
              "\n",
              "  <div id=\"df-59d8c27e-de32-40c4-8f9e-b61baa9aeb4d\">\n",
              "    <div class=\"colab-df-container\">\n",
              "      <div>\n",
              "<style scoped>\n",
              "    .dataframe tbody tr th:only-of-type {\n",
              "        vertical-align: middle;\n",
              "    }\n",
              "\n",
              "    .dataframe tbody tr th {\n",
              "        vertical-align: top;\n",
              "    }\n",
              "\n",
              "    .dataframe thead th {\n",
              "        text-align: right;\n",
              "    }\n",
              "</style>\n",
              "<table border=\"1\" class=\"dataframe\">\n",
              "  <thead>\n",
              "    <tr style=\"text-align: right;\">\n",
              "      <th></th>\n",
              "      <th>neg</th>\n",
              "      <th>pos</th>\n",
              "      <th>active</th>\n",
              "      <th>SMILES</th>\n",
              "    </tr>\n",
              "  </thead>\n",
              "  <tbody>\n",
              "    <tr>\n",
              "      <th>89</th>\n",
              "      <td>0.020704</td>\n",
              "      <td>0.979296</td>\n",
              "      <td>1</td>\n",
              "      <td>Cc1cnc(nc1c2cc([nH]c2)C(=O)N[C@H](CO)c3cccc(c3...</td>\n",
              "    </tr>\n",
              "    <tr>\n",
              "      <th>61</th>\n",
              "      <td>0.199121</td>\n",
              "      <td>0.800879</td>\n",
              "      <td>1</td>\n",
              "      <td>c1ccc2c(c1)CCN(C2)C(=O)c3cc(c[nH]3)c4c(cn[nH]4...</td>\n",
              "    </tr>\n",
              "    <tr>\n",
              "      <th>388</th>\n",
              "      <td>0.470208</td>\n",
              "      <td>0.529792</td>\n",
              "      <td>1</td>\n",
              "      <td>COc1cc2c(cc1OCCCN3CCOCC3)ncc(c2Nc4ccc(cc4)Oc5c...</td>\n",
              "    </tr>\n",
              "    <tr>\n",
              "      <th>163</th>\n",
              "      <td>0.744927</td>\n",
              "      <td>0.255073</td>\n",
              "      <td>0</td>\n",
              "      <td>c1cc2c(cc1C#N)nc([nH]2)[C@@H]([C@H](c3[nH]c4cc...</td>\n",
              "    </tr>\n",
              "    <tr>\n",
              "      <th>228</th>\n",
              "      <td>0.768229</td>\n",
              "      <td>0.231771</td>\n",
              "      <td>0</td>\n",
              "      <td>C1COCCNC(=S)NCCOCCOCCNC(=S)N1</td>\n",
              "    </tr>\n",
              "  </tbody>\n",
              "</table>\n",
              "</div>\n",
              "      <button class=\"colab-df-convert\" onclick=\"convertToInteractive('df-59d8c27e-de32-40c4-8f9e-b61baa9aeb4d')\"\n",
              "              title=\"Convert this dataframe to an interactive table.\"\n",
              "              style=\"display:none;\">\n",
              "\n",
              "  <svg xmlns=\"http://www.w3.org/2000/svg\" height=\"24px\"viewBox=\"0 0 24 24\"\n",
              "       width=\"24px\">\n",
              "    <path d=\"M0 0h24v24H0V0z\" fill=\"none\"/>\n",
              "    <path d=\"M18.56 5.44l.94 2.06.94-2.06 2.06-.94-2.06-.94-.94-2.06-.94 2.06-2.06.94zm-11 1L8.5 8.5l.94-2.06 2.06-.94-2.06-.94L8.5 2.5l-.94 2.06-2.06.94zm10 10l.94 2.06.94-2.06 2.06-.94-2.06-.94-.94-2.06-.94 2.06-2.06.94z\"/><path d=\"M17.41 7.96l-1.37-1.37c-.4-.4-.92-.59-1.43-.59-.52 0-1.04.2-1.43.59L10.3 9.45l-7.72 7.72c-.78.78-.78 2.05 0 2.83L4 21.41c.39.39.9.59 1.41.59.51 0 1.02-.2 1.41-.59l7.78-7.78 2.81-2.81c.8-.78.8-2.07 0-2.86zM5.41 20L4 18.59l7.72-7.72 1.47 1.35L5.41 20z\"/>\n",
              "  </svg>\n",
              "      </button>\n",
              "\n",
              "\n",
              "\n",
              "    <div id=\"df-97a5841e-9f4e-4ec9-a688-fed6f3bb3622\">\n",
              "      <button class=\"colab-df-quickchart\" onclick=\"quickchart('df-97a5841e-9f4e-4ec9-a688-fed6f3bb3622')\"\n",
              "              title=\"Suggest charts.\"\n",
              "              style=\"display:none;\">\n",
              "\n",
              "<svg xmlns=\"http://www.w3.org/2000/svg\" height=\"24px\"viewBox=\"0 0 24 24\"\n",
              "     width=\"24px\">\n",
              "    <g>\n",
              "        <path d=\"M19 3H5c-1.1 0-2 .9-2 2v14c0 1.1.9 2 2 2h14c1.1 0 2-.9 2-2V5c0-1.1-.9-2-2-2zM9 17H7v-7h2v7zm4 0h-2V7h2v10zm4 0h-2v-4h2v4z\"/>\n",
              "    </g>\n",
              "</svg>\n",
              "      </button>\n",
              "    </div>\n",
              "\n",
              "<style>\n",
              "  .colab-df-quickchart {\n",
              "    background-color: #E8F0FE;\n",
              "    border: none;\n",
              "    border-radius: 50%;\n",
              "    cursor: pointer;\n",
              "    display: none;\n",
              "    fill: #1967D2;\n",
              "    height: 32px;\n",
              "    padding: 0 0 0 0;\n",
              "    width: 32px;\n",
              "  }\n",
              "\n",
              "  .colab-df-quickchart:hover {\n",
              "    background-color: #E2EBFA;\n",
              "    box-shadow: 0px 1px 2px rgba(60, 64, 67, 0.3), 0px 1px 3px 1px rgba(60, 64, 67, 0.15);\n",
              "    fill: #174EA6;\n",
              "  }\n",
              "\n",
              "  [theme=dark] .colab-df-quickchart {\n",
              "    background-color: #3B4455;\n",
              "    fill: #D2E3FC;\n",
              "  }\n",
              "\n",
              "  [theme=dark] .colab-df-quickchart:hover {\n",
              "    background-color: #434B5C;\n",
              "    box-shadow: 0px 1px 3px 1px rgba(0, 0, 0, 0.15);\n",
              "    filter: drop-shadow(0px 1px 2px rgba(0, 0, 0, 0.3));\n",
              "    fill: #FFFFFF;\n",
              "  }\n",
              "</style>\n",
              "\n",
              "    <script>\n",
              "      async function quickchart(key) {\n",
              "        const containerElement = document.querySelector('#' + key);\n",
              "        const charts = await google.colab.kernel.invokeFunction(\n",
              "            'suggestCharts', [key], {});\n",
              "      }\n",
              "    </script>\n",
              "\n",
              "      <script>\n",
              "\n",
              "function displayQuickchartButton(domScope) {\n",
              "  let quickchartButtonEl =\n",
              "    domScope.querySelector('#df-97a5841e-9f4e-4ec9-a688-fed6f3bb3622 button.colab-df-quickchart');\n",
              "  quickchartButtonEl.style.display =\n",
              "    google.colab.kernel.accessAllowed ? 'block' : 'none';\n",
              "}\n",
              "\n",
              "        displayQuickchartButton(document);\n",
              "      </script>\n",
              "      <style>\n",
              "    .colab-df-container {\n",
              "      display:flex;\n",
              "      flex-wrap:wrap;\n",
              "      gap: 12px;\n",
              "    }\n",
              "\n",
              "    .colab-df-convert {\n",
              "      background-color: #E8F0FE;\n",
              "      border: none;\n",
              "      border-radius: 50%;\n",
              "      cursor: pointer;\n",
              "      display: none;\n",
              "      fill: #1967D2;\n",
              "      height: 32px;\n",
              "      padding: 0 0 0 0;\n",
              "      width: 32px;\n",
              "    }\n",
              "\n",
              "    .colab-df-convert:hover {\n",
              "      background-color: #E2EBFA;\n",
              "      box-shadow: 0px 1px 2px rgba(60, 64, 67, 0.3), 0px 1px 3px 1px rgba(60, 64, 67, 0.15);\n",
              "      fill: #174EA6;\n",
              "    }\n",
              "\n",
              "    [theme=dark] .colab-df-convert {\n",
              "      background-color: #3B4455;\n",
              "      fill: #D2E3FC;\n",
              "    }\n",
              "\n",
              "    [theme=dark] .colab-df-convert:hover {\n",
              "      background-color: #434B5C;\n",
              "      box-shadow: 0px 1px 3px 1px rgba(0, 0, 0, 0.15);\n",
              "      filter: drop-shadow(0px 1px 2px rgba(0, 0, 0, 0.3));\n",
              "      fill: #FFFFFF;\n",
              "    }\n",
              "  </style>\n",
              "\n",
              "      <script>\n",
              "        const buttonEl =\n",
              "          document.querySelector('#df-59d8c27e-de32-40c4-8f9e-b61baa9aeb4d button.colab-df-convert');\n",
              "        buttonEl.style.display =\n",
              "          google.colab.kernel.accessAllowed ? 'block' : 'none';\n",
              "\n",
              "        async function convertToInteractive(key) {\n",
              "          const element = document.querySelector('#df-59d8c27e-de32-40c4-8f9e-b61baa9aeb4d');\n",
              "          const dataTable =\n",
              "            await google.colab.kernel.invokeFunction('convertToInteractive',\n",
              "                                                     [key], {});\n",
              "          if (!dataTable) return;\n",
              "\n",
              "          const docLinkHtml = 'Like what you see? Visit the ' +\n",
              "            '<a target=\"_blank\" href=https://colab.research.google.com/notebooks/data_table.ipynb>data table notebook</a>'\n",
              "            + ' to learn more about interactive tables.';\n",
              "          element.innerHTML = '';\n",
              "          dataTable['output_type'] = 'display_data';\n",
              "          await google.colab.output.renderOutput(dataTable, element);\n",
              "          const docLink = document.createElement('div');\n",
              "          docLink.innerHTML = docLinkHtml;\n",
              "          element.appendChild(docLink);\n",
              "        }\n",
              "      </script>\n",
              "    </div>\n",
              "  </div>\n"
            ]
          },
          "metadata": {},
          "execution_count": 35
        }
      ],
      "source": [
        "pred_df.sort_values(\"pos\",ascending=False).head(5)"
      ]
    },
    {
      "cell_type": "code",
      "execution_count": 37,
      "metadata": {
        "colab": {
          "base_uri": "https://localhost:8080/",
          "height": 467
        },
        "id": "PKH1XjfD1X3c",
        "outputId": "007bf4b7-ffc8-43de-f23a-4eb9b15fcd26"
      },
      "outputs": [
        {
          "output_type": "execute_result",
          "data": {
            "text/plain": [
              "<Axes: xlabel='active', ylabel='pos'>"
            ]
          },
          "metadata": {},
          "execution_count": 37
        },
        {
          "output_type": "display_data",
          "data": {
            "text/plain": [
              "<Figure size 640x480 with 1 Axes>"
            ],
            "image/png": "[encoded data removed]"
          },
          "metadata": {
            "image/png": {
              "width": 567,
              "height": 432
            }
          }
        }
      ],
      "source": [
        "sns.boxplot(x=pred_df.active,y=pred_df.pos)"
      ]
    },
    {
      "cell_type": "markdown",
      "metadata": {
        "id": "-XhDRA1o2q0E"
      },
      "source": [
        "- 위 그래프를 보면 활성 분자와 비활성 분자를 잘 구분하고 있는 것을 알 수 있다\n",
        "- False Negative 샘플 찾기"
      ]
    },
    {
      "cell_type": "code",
      "execution_count": 38,
      "metadata": {
        "id": "ac4wexF92kbu"
      },
      "outputs": [],
      "source": [
        "false_negative_df = pred_df.query(\"active == 1 & pos < 0.5\").copy()"
      ]
    },
    {
      "cell_type": "code",
      "execution_count": 39,
      "metadata": {
        "colab": {
          "base_uri": "https://localhost:8080/",
          "height": 307
        },
        "id": "CG6W5TXT4Gwq",
        "outputId": "35c630b4-f4a9-4ad0-bc4a-01abbc7a524b"
      },
      "outputs": [
        {
          "output_type": "execute_result",
          "data": {
            "text/plain": [
              "          neg       pos  active  \\\n",
              "314  0.990996  0.009004       1   \n",
              "\n",
              "                                                SMILES  \\\n",
              "314  C[C@@]12[C@@H]([C@@H](CC(O1)n3c4ccccc4c5c3c6n2...   \n",
              "\n",
              "                                                  Mol  \n",
              "314  <rdkit.Chem.rdchem.Mol object at 0x79c31945ceb0>  "
            ],
            "text/html": [
              "\n",
              "\n",
              "  <div id=\"df-290a919e-4289-4beb-9443-885bc5da3ef1\">\n",
              "    <div class=\"colab-df-container\">\n",
              "      <div>\n",
              "<style scoped>\n",
              "    .dataframe tbody tr th:only-of-type {\n",
              "        vertical-align: middle;\n",
              "    }\n",
              "\n",
              "    .dataframe tbody tr th {\n",
              "        vertical-align: top;\n",
              "    }\n",
              "\n",
              "    .dataframe thead th {\n",
              "        text-align: right;\n",
              "    }\n",
              "</style>\n",
              "<table border=\"1\" class=\"dataframe\">\n",
              "  <thead>\n",
              "    <tr style=\"text-align: right;\">\n",
              "      <th></th>\n",
              "      <th>neg</th>\n",
              "      <th>pos</th>\n",
              "      <th>active</th>\n",
              "      <th>SMILES</th>\n",
              "      <th>Mol</th>\n",
              "    </tr>\n",
              "  </thead>\n",
              "  <tbody>\n",
              "    <tr>\n",
              "      <th>314</th>\n",
              "      <td>0.990996</td>\n",
              "      <td>0.009004</td>\n",
              "      <td>1</td>\n",
              "      <td>C[C@@]12[C@@H]([C@@H](CC(O1)n3c4ccccc4c5c3c6n2...</td>\n",
              "      <td style=\"text-align: center;\"><div style=\"width: 200px; height: 200px\" data-content=\"rdkit/molecule\"><img src=\"data:image/png;base64,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\" alt=\"Mol\"/></div></td>\n",
              "    </tr>\n",
              "  </tbody>\n",
              "</table>\n",
              "</div>\n",
              "      <button class=\"colab-df-convert\" onclick=\"convertToInteractive('df-290a919e-4289-4beb-9443-885bc5da3ef1')\"\n",
              "              title=\"Convert this dataframe to an interactive table.\"\n",
              "              style=\"display:none;\">\n",
              "\n",
              "  <svg xmlns=\"http://www.w3.org/2000/svg\" height=\"24px\"viewBox=\"0 0 24 24\"\n",
              "       width=\"24px\">\n",
              "    <path d=\"M0 0h24v24H0V0z\" fill=\"none\"/>\n",
              "    <path d=\"M18.56 5.44l.94 2.06.94-2.06 2.06-.94-2.06-.94-.94-2.06-.94 2.06-2.06.94zm-11 1L8.5 8.5l.94-2.06 2.06-.94-2.06-.94L8.5 2.5l-.94 2.06-2.06.94zm10 10l.94 2.06.94-2.06 2.06-.94-2.06-.94-.94-2.06-.94 2.06-2.06.94z\"/><path d=\"M17.41 7.96l-1.37-1.37c-.4-.4-.92-.59-1.43-.59-.52 0-1.04.2-1.43.59L10.3 9.45l-7.72 7.72c-.78.78-.78 2.05 0 2.83L4 21.41c.39.39.9.59 1.41.59.51 0 1.02-.2 1.41-.59l7.78-7.78 2.81-2.81c.8-.78.8-2.07 0-2.86zM5.41 20L4 18.59l7.72-7.72 1.47 1.35L5.41 20z\"/>\n",
              "  </svg>\n",
              "      </button>\n",
              "\n",
              "\n",
              "\n",
              "    <div id=\"df-957fa7fe-9f4d-464d-9593-417ce40b68aa\">\n",
              "      <button class=\"colab-df-quickchart\" onclick=\"quickchart('df-957fa7fe-9f4d-464d-9593-417ce40b68aa')\"\n",
              "              title=\"Suggest charts.\"\n",
              "              style=\"display:none;\">\n",
              "\n",
              "<svg xmlns=\"http://www.w3.org/2000/svg\" height=\"24px\"viewBox=\"0 0 24 24\"\n",
              "     width=\"24px\">\n",
              "    <g>\n",
              "        <path d=\"M19 3H5c-1.1 0-2 .9-2 2v14c0 1.1.9 2 2 2h14c1.1 0 2-.9 2-2V5c0-1.1-.9-2-2-2zM9 17H7v-7h2v7zm4 0h-2V7h2v10zm4 0h-2v-4h2v4z\"/>\n",
              "    </g>\n",
              "</svg>\n",
              "      </button>\n",
              "    </div>\n",
              "\n",
              "<style>\n",
              "  .colab-df-quickchart {\n",
              "    background-color: #E8F0FE;\n",
              "    border: none;\n",
              "    border-radius: 50%;\n",
              "    cursor: pointer;\n",
              "    display: none;\n",
              "    fill: #1967D2;\n",
              "    height: 32px;\n",
              "    padding: 0 0 0 0;\n",
              "    width: 32px;\n",
              "  }\n",
              "\n",
              "  .colab-df-quickchart:hover {\n",
              "    background-color: #E2EBFA;\n",
              "    box-shadow: 0px 1px 2px rgba(60, 64, 67, 0.3), 0px 1px 3px 1px rgba(60, 64, 67, 0.15);\n",
              "    fill: #174EA6;\n",
              "  }\n",
              "\n",
              "  [theme=dark] .colab-df-quickchart {\n",
              "    background-color: #3B4455;\n",
              "    fill: #D2E3FC;\n",
              "  }\n",
              "\n",
              "  [theme=dark] .colab-df-quickchart:hover {\n",
              "    background-color: #434B5C;\n",
              "    box-shadow: 0px 1px 3px 1px rgba(0, 0, 0, 0.15);\n",
              "    filter: drop-shadow(0px 1px 2px rgba(0, 0, 0, 0.3));\n",
              "    fill: #FFFFFF;\n",
              "  }\n",
              "</style>\n",
              "\n",
              "    <script>\n",
              "      async function quickchart(key) {\n",
              "        const containerElement = document.querySelector('#' + key);\n",
              "        const charts = await google.colab.kernel.invokeFunction(\n",
              "            'suggestCharts', [key], {});\n",
              "      }\n",
              "    </script>\n",
              "\n",
              "      <script>\n",
              "\n",
              "function displayQuickchartButton(domScope) {\n",
              "  let quickchartButtonEl =\n",
              "    domScope.querySelector('#df-957fa7fe-9f4d-464d-9593-417ce40b68aa button.colab-df-quickchart');\n",
              "  quickchartButtonEl.style.display =\n",
              "    google.colab.kernel.accessAllowed ? 'block' : 'none';\n",
              "}\n",
              "\n",
              "        displayQuickchartButton(document);\n",
              "      </script>\n",
              "      <style>\n",
              "    .colab-df-container {\n",
              "      display:flex;\n",
              "      flex-wrap:wrap;\n",
              "      gap: 12px;\n",
              "    }\n",
              "\n",
              "    .colab-df-convert {\n",
              "      background-color: #E8F0FE;\n",
              "      border: none;\n",
              "      border-radius: 50%;\n",
              "      cursor: pointer;\n",
              "      display: none;\n",
              "      fill: #1967D2;\n",
              "      height: 32px;\n",
              "      padding: 0 0 0 0;\n",
              "      width: 32px;\n",
              "    }\n",
              "\n",
              "    .colab-df-convert:hover {\n",
              "      background-color: #E2EBFA;\n",
              "      box-shadow: 0px 1px 2px rgba(60, 64, 67, 0.3), 0px 1px 3px 1px rgba(60, 64, 67, 0.15);\n",
              "      fill: #174EA6;\n",
              "    }\n",
              "\n",
              "    [theme=dark] .colab-df-convert {\n",
              "      background-color: #3B4455;\n",
              "      fill: #D2E3FC;\n",
              "    }\n",
              "\n",
              "    [theme=dark] .colab-df-convert:hover {\n",
              "      background-color: #434B5C;\n",
              "      box-shadow: 0px 1px 3px 1px rgba(0, 0, 0, 0.15);\n",
              "      filter: drop-shadow(0px 1px 2px rgba(0, 0, 0, 0.3));\n",
              "      fill: #FFFFFF;\n",
              "    }\n",
              "  </style>\n",
              "\n",
              "      <script>\n",
              "        const buttonEl =\n",
              "          document.querySelector('#df-290a919e-4289-4beb-9443-885bc5da3ef1 button.colab-df-convert');\n",
              "        buttonEl.style.display =\n",
              "          google.colab.kernel.accessAllowed ? 'block' : 'none';\n",
              "\n",
              "        async function convertToInteractive(key) {\n",
              "          const element = document.querySelector('#df-290a919e-4289-4beb-9443-885bc5da3ef1');\n",
              "          const dataTable =\n",
              "            await google.colab.kernel.invokeFunction('convertToInteractive',\n",
              "                                                     [key], {});\n",
              "          if (!dataTable) return;\n",
              "\n",
              "          const docLinkHtml = 'Like what you see? Visit the ' +\n",
              "            '<a target=\"_blank\" href=https://colab.research.google.com/notebooks/data_table.ipynb>data table notebook</a>'\n",
              "            + ' to learn more about interactive tables.';\n",
              "          element.innerHTML = '';\n",
              "          dataTable['output_type'] = 'display_data';\n",
              "          await google.colab.output.renderOutput(dataTable, element);\n",
              "          const docLink = document.createElement('div');\n",
              "          docLink.innerHTML = docLinkHtml;\n",
              "          element.appendChild(docLink);\n",
              "        }\n",
              "      </script>\n",
              "    </div>\n",
              "  </div>\n"
            ]
          },
          "metadata": {},
          "execution_count": 39
        }
      ],
      "source": [
        "PandasTools.AddMoleculeColumnToFrame(false_negative_df,\"SMILES\",\"Mol\")\n",
        "false_negative_df"
      ]
    },
    {
      "cell_type": "markdown",
      "metadata": {
        "id": "MoBBTdBA7dfL"
      },
      "source": [
        "- False Positive 샘플 찾기"
      ]
    },
    {
      "cell_type": "code",
      "execution_count": 40,
      "metadata": {
        "colab": {
          "base_uri": "https://localhost:8080/",
          "height": 49
        },
        "id": "hqgI9dbe4N51",
        "outputId": "48f3fe3e-f4b6-4d3f-ef70-5d0040ebf93f"
      },
      "outputs": [
        {
          "output_type": "execute_result",
          "data": {
            "text/plain": [
              "Empty DataFrame\n",
              "Columns: [neg, pos, active, SMILES, Mol]\n",
              "Index: []"
            ],
            "text/html": [
              "\n",
              "\n",
              "  <div id=\"df-16623189-2598-4b8a-b8e3-94ee177ef05e\">\n",
              "    <div class=\"colab-df-container\">\n",
              "      <div>\n",
              "<style scoped>\n",
              "    .dataframe tbody tr th:only-of-type {\n",
              "        vertical-align: middle;\n",
              "    }\n",
              "\n",
              "    .dataframe tbody tr th {\n",
              "        vertical-align: top;\n",
              "    }\n",
              "\n",
              "    .dataframe thead th {\n",
              "        text-align: right;\n",
              "    }\n",
              "</style>\n",
              "<table border=\"1\" class=\"dataframe\">\n",
              "  <thead>\n",
              "    <tr style=\"text-align: right;\">\n",
              "      <th></th>\n",
              "      <th>neg</th>\n",
              "      <th>pos</th>\n",
              "      <th>active</th>\n",
              "      <th>SMILES</th>\n",
              "      <th>Mol</th>\n",
              "    </tr>\n",
              "  </thead>\n",
              "  <tbody>\n",
              "  </tbody>\n",
              "</table>\n",
              "</div>\n",
              "      <button class=\"colab-df-convert\" onclick=\"convertToInteractive('df-16623189-2598-4b8a-b8e3-94ee177ef05e')\"\n",
              "              title=\"Convert this dataframe to an interactive table.\"\n",
              "              style=\"display:none;\">\n",
              "\n",
              "  <svg xmlns=\"http://www.w3.org/2000/svg\" height=\"24px\"viewBox=\"0 0 24 24\"\n",
              "       width=\"24px\">\n",
              "    <path d=\"M0 0h24v24H0V0z\" fill=\"none\"/>\n",
              "    <path d=\"M18.56 5.44l.94 2.06.94-2.06 2.06-.94-2.06-.94-.94-2.06-.94 2.06-2.06.94zm-11 1L8.5 8.5l.94-2.06 2.06-.94-2.06-.94L8.5 2.5l-.94 2.06-2.06.94zm10 10l.94 2.06.94-2.06 2.06-.94-2.06-.94-.94-2.06-.94 2.06-2.06.94z\"/><path d=\"M17.41 7.96l-1.37-1.37c-.4-.4-.92-.59-1.43-.59-.52 0-1.04.2-1.43.59L10.3 9.45l-7.72 7.72c-.78.78-.78 2.05 0 2.83L4 21.41c.39.39.9.59 1.41.59.51 0 1.02-.2 1.41-.59l7.78-7.78 2.81-2.81c.8-.78.8-2.07 0-2.86zM5.41 20L4 18.59l7.72-7.72 1.47 1.35L5.41 20z\"/>\n",
              "  </svg>\n",
              "      </button>\n",
              "\n",
              "\n",
              "\n",
              "    <div id=\"df-6878a380-a8fd-4402-8c8c-e30eb8c2e038\">\n",
              "      <button class=\"colab-df-quickchart\" onclick=\"quickchart('df-6878a380-a8fd-4402-8c8c-e30eb8c2e038')\"\n",
              "              title=\"Suggest charts.\"\n",
              "              style=\"display:none;\">\n",
              "\n",
              "<svg xmlns=\"http://www.w3.org/2000/svg\" height=\"24px\"viewBox=\"0 0 24 24\"\n",
              "     width=\"24px\">\n",
              "    <g>\n",
              "        <path d=\"M19 3H5c-1.1 0-2 .9-2 2v14c0 1.1.9 2 2 2h14c1.1 0 2-.9 2-2V5c0-1.1-.9-2-2-2zM9 17H7v-7h2v7zm4 0h-2V7h2v10zm4 0h-2v-4h2v4z\"/>\n",
              "    </g>\n",
              "</svg>\n",
              "      </button>\n",
              "    </div>\n",
              "\n",
              "<style>\n",
              "  .colab-df-quickchart {\n",
              "    background-color: #E8F0FE;\n",
              "    border: none;\n",
              "    border-radius: 50%;\n",
              "    cursor: pointer;\n",
              "    display: none;\n",
              "    fill: #1967D2;\n",
              "    height: 32px;\n",
              "    padding: 0 0 0 0;\n",
              "    width: 32px;\n",
              "  }\n",
              "\n",
              "  .colab-df-quickchart:hover {\n",
              "    background-color: #E2EBFA;\n",
              "    box-shadow: 0px 1px 2px rgba(60, 64, 67, 0.3), 0px 1px 3px 1px rgba(60, 64, 67, 0.15);\n",
              "    fill: #174EA6;\n",
              "  }\n",
              "\n",
              "  [theme=dark] .colab-df-quickchart {\n",
              "    background-color: #3B4455;\n",
              "    fill: #D2E3FC;\n",
              "  }\n",
              "\n",
              "  [theme=dark] .colab-df-quickchart:hover {\n",
              "    background-color: #434B5C;\n",
              "    box-shadow: 0px 1px 3px 1px rgba(0, 0, 0, 0.15);\n",
              "    filter: drop-shadow(0px 1px 2px rgba(0, 0, 0, 0.3));\n",
              "    fill: #FFFFFF;\n",
              "  }\n",
              "</style>\n",
              "\n",
              "    <script>\n",
              "      async function quickchart(key) {\n",
              "        const containerElement = document.querySelector('#' + key);\n",
              "        const charts = await google.colab.kernel.invokeFunction(\n",
              "            'suggestCharts', [key], {});\n",
              "      }\n",
              "    </script>\n",
              "\n",
              "      <script>\n",
              "\n",
              "function displayQuickchartButton(domScope) {\n",
              "  let quickchartButtonEl =\n",
              "    domScope.querySelector('#df-6878a380-a8fd-4402-8c8c-e30eb8c2e038 button.colab-df-quickchart');\n",
              "  quickchartButtonEl.style.display =\n",
              "    google.colab.kernel.accessAllowed ? 'block' : 'none';\n",
              "}\n",
              "\n",
              "        displayQuickchartButton(document);\n",
              "      </script>\n",
              "      <style>\n",
              "    .colab-df-container {\n",
              "      display:flex;\n",
              "      flex-wrap:wrap;\n",
              "      gap: 12px;\n",
              "    }\n",
              "\n",
              "    .colab-df-convert {\n",
              "      background-color: #E8F0FE;\n",
              "      border: none;\n",
              "      border-radius: 50%;\n",
              "      cursor: pointer;\n",
              "      display: none;\n",
              "      fill: #1967D2;\n",
              "      height: 32px;\n",
              "      padding: 0 0 0 0;\n",
              "      width: 32px;\n",
              "    }\n",
              "\n",
              "    .colab-df-convert:hover {\n",
              "      background-color: #E2EBFA;\n",
              "      box-shadow: 0px 1px 2px rgba(60, 64, 67, 0.3), 0px 1px 3px 1px rgba(60, 64, 67, 0.15);\n",
              "      fill: #174EA6;\n",
              "    }\n",
              "\n",
              "    [theme=dark] .colab-df-convert {\n",
              "      background-color: #3B4455;\n",
              "      fill: #D2E3FC;\n",
              "    }\n",
              "\n",
              "    [theme=dark] .colab-df-convert:hover {\n",
              "      background-color: #434B5C;\n",
              "      box-shadow: 0px 1px 3px 1px rgba(0, 0, 0, 0.15);\n",
              "      filter: drop-shadow(0px 1px 2px rgba(0, 0, 0, 0.3));\n",
              "      fill: #FFFFFF;\n",
              "    }\n",
              "  </style>\n",
              "\n",
              "      <script>\n",
              "        const buttonEl =\n",
              "          document.querySelector('#df-16623189-2598-4b8a-b8e3-94ee177ef05e button.colab-df-convert');\n",
              "        buttonEl.style.display =\n",
              "          google.colab.kernel.accessAllowed ? 'block' : 'none';\n",
              "\n",
              "        async function convertToInteractive(key) {\n",
              "          const element = document.querySelector('#df-16623189-2598-4b8a-b8e3-94ee177ef05e');\n",
              "          const dataTable =\n",
              "            await google.colab.kernel.invokeFunction('convertToInteractive',\n",
              "                                                     [key], {});\n",
              "          if (!dataTable) return;\n",
              "\n",
              "          const docLinkHtml = 'Like what you see? Visit the ' +\n",
              "            '<a target=\"_blank\" href=https://colab.research.google.com/notebooks/data_table.ipynb>data table notebook</a>'\n",
              "            + ' to learn more about interactive tables.';\n",
              "          element.innerHTML = '';\n",
              "          dataTable['output_type'] = 'display_data';\n",
              "          await google.colab.output.renderOutput(dataTable, element);\n",
              "          const docLink = document.createElement('div');\n",
              "          docLink.innerHTML = docLinkHtml;\n",
              "          element.appendChild(docLink);\n",
              "        }\n",
              "      </script>\n",
              "    </div>\n",
              "  </div>\n"
            ]
          },
          "metadata": {},
          "execution_count": 40
        }
      ],
      "source": [
        "false_positive_df = pred_df.query(\"active == 0 & pos > 0.5\").copy()\n",
        "PandasTools.AddMoleculeColumnToFrame(false_positive_df,\"SMILES\",\"Mol\")\n",
        "false_positive_df"
      ]
    },
    {
      "cell_type": "markdown",
      "metadata": {
        "id": "A0LlQnRs7yyb"
      },
      "source": [
        "## 모든 데이터로 학습\n",
        "- 모델의 성능을 향상시키기 위해서 검증데이터를 훈련에 사용"
      ]
    },
    {
      "cell_type": "code",
      "execution_count": 41,
      "metadata": {
        "colab": {
          "base_uri": "https://localhost:8080/"
        },
        "id": "HNwLHqXI4Zqc",
        "outputId": "49a704ce-132d-4617-e6ac-c14aa0315950"
      },
      "outputs": [
        {
          "output_type": "execute_result",
          "data": {
            "text/plain": [
              "0.0009412271281083425"
            ]
          },
          "metadata": {},
          "execution_count": 41
        }
      ],
      "source": [
        "model.fit(dataset)"
      ]
    },
    {
      "cell_type": "markdown",
      "metadata": {
        "id": "RyY-78pg9Tki"
      },
      "source": [
        "- 앞에서 ERK2 단백질의 활성을 억제하는 분자를 예측하는 모델을 만들었다. 여기에 새로운 데이터셋을 사용하여 분자의 활성을 예측해보겠다\n",
        " - ZINC 데이터베이스의 일부를 사용하겠다"
      ]
    },
    {
      "cell_type": "markdown",
      "metadata": {
        "id": "1Erm6SkqLhtF"
      },
      "source": [
        "## rd_filters 적용\n",
        "\n",
        "- Pat Walters가 만든 스크립트로 잠재적으로 문제가 있는 분자를 걸러낸다\n",
        "- 생물학적 분석이 어려운 분자들을 제거하기 위해서 rd_filters.py를 사용\n",
        "- [rd_filters github](https://github.com/PatWalters/rd_filters)"
      ]
    },
    {
      "cell_type": "code",
      "execution_count": 42,
      "metadata": {
        "colab": {
          "base_uri": "https://localhost:8080/"
        },
        "id": "AmEvCrJ6KyOn",
        "outputId": "a8e36737-b451-4e6d-d564-af525a096cce"
      },
      "outputs": [
        {
          "output_type": "stream",
          "name": "stdout",
          "text": [
            "Collecting git+https://github.com/PatWalters/rd_filters.git\n",
            "  Cloning https://github.com/PatWalters/rd_filters.git to /tmp/pip-req-build-_em08v8r\n",
            "  Running command git clone --filter=blob:none --quiet https://github.com/PatWalters/rd_filters.git /tmp/pip-req-build-_em08v8r\n",
            "  Resolved https://github.com/PatWalters/rd_filters.git to commit 3630f1a59150b4a203c2f06d8376a66d1d4c3f70\n",
            "  Preparing metadata (setup.py) ... \u001b[?25l\u001b[?25hdone\n",
            "Requirement already satisfied: pandas in /usr/local/lib/python3.10/dist-packages (from rd-filters==0.1) (1.5.3)\n",
            "Collecting docopt (from rd-filters==0.1)\n",
            "  Downloading docopt-0.6.2.tar.gz (25 kB)\n",
            "  Preparing metadata (setup.py) ... \u001b[?25l\u001b[?25hdone\n",
            "Requirement already satisfied: python-dateutil>=2.8.1 in /usr/local/lib/python3.10/dist-packages (from pandas->rd-filters==0.1) (2.8.2)\n",
            "Requirement already satisfied: pytz>=2020.1 in /usr/local/lib/python3.10/dist-packages (from pandas->rd-filters==0.1) (2022.7.1)\n",
            "Requirement already satisfied: numpy>=1.21.0 in /usr/local/lib/python3.10/dist-packages (from pandas->rd-filters==0.1) (1.22.4)\n",
            "Requirement already satisfied: six>=1.5 in /usr/local/lib/python3.10/dist-packages (from python-dateutil>=2.8.1->pandas->rd-filters==0.1) (1.16.0)\n",
            "Building wheels for collected packages: rd-filters, docopt\n",
            "  Building wheel for rd-filters (setup.py) ... \u001b[?25l\u001b[?25hdone\n",
            "  Created wheel for rd-filters: filename=rd_filters-0.1-py3-none-any.whl size=33863 sha256=709b110cef640b614eca145df3289162f653a44bcc88d16c07503e19a058892a\n",
            "  Stored in directory: /tmp/pip-ephem-wheel-cache-nfhq58gi/wheels/1d/57/d3/243da16d0396df21d623d6c41bcae207900be0f3f1a4e3224f\n",
            "  Building wheel for docopt (setup.py) ... \u001b[?25l\u001b[?25hdone\n",
            "  Created wheel for docopt: filename=docopt-0.6.2-py2.py3-none-any.whl size=13707 sha256=0692b0c10a9105baee46a523db9474814cbb7e6a2b52c292dc43c8d26c533e4a\n",
            "  Stored in directory: /root/.cache/pip/wheels/fc/ab/d4/5da2067ac95b36618c629a5f93f809425700506f72c9732fac\n",
            "Successfully built rd-filters docopt\n",
            "Installing collected packages: docopt, rd-filters\n",
            "Successfully installed docopt-0.6.2 rd-filters-0.1\n"
          ]
        }
      ],
      "source": [
        "# 현재 폴더에 해당 git 설치\n",
        "!pip install git+https://github.com/PatWalters/rd_filters.git"
      ]
    },
    {
      "cell_type": "code",
      "execution_count": 43,
      "metadata": {
        "colab": {
          "base_uri": "https://localhost:8080/"
        },
        "id": "dmDMMg-QLMnq",
        "outputId": "8d682df1-6b2a-4a0a-c6bd-c386f73b73bb"
      },
      "outputs": [
        {
          "output_type": "stream",
          "name": "stdout",
          "text": [
            "Usage:\n",
            "rd_filters filter --in INPUT_FILE --prefix PREFIX [--rules RULES_FILE_NAME] [--alerts ALERT_FILE_NAME][--np NUM_CORES]\n",
            "rd_filters template --out TEMPLATE_FILE [--rules RULES_FILE_NAME]\n",
            "\n",
            "Options:\n",
            "--in INPUT_FILE input file name\n",
            "--prefix PREFIX prefix for output file names\n",
            "--rules RULES_FILE_NAME name of the rules JSON file\n",
            "--alerts ALERTS_FILE_NAME name of the structural alerts file\n",
            "--np NUM_CORES the number of cpu cores to use (default is all)\n",
            "--out TEMPLATE_FILE parameter template file name\n"
          ]
        }
      ],
      "source": [
        "# 사용법 안내\n",
        "!rd_filters -h"
      ]
    },
    {
      "cell_type": "markdown",
      "metadata": {
        "id": "5h-S2TaggHm9"
      },
      "source": [
        "## Zink 데이터에 필터 적용\n",
        "- 100k 데이터 다운로드"
      ]
    },
    {
      "cell_type": "code",
      "execution_count": 45,
      "metadata": {
        "colab": {
          "base_uri": "https://localhost:8080/"
        },
        "id": "5tyWlKSfLq3T",
        "outputId": "0b51f6c1-a6aa-42f0-e49b-925ee9885416"
      },
      "outputs": [
        {
          "output_type": "stream",
          "name": "stdout",
          "text": [
            "  % Total    % Received % Xferd  Average Speed   Time    Time     Time  Current\n",
            "                                 Dload  Upload   Total   Spent    Left  Speed\n",
            "\r  0     0    0     0    0     0      0      0 --:--:-- --:--:-- --:--:--     0\r100 6159k  100 6159k    0     0  29.5M      0 --:--:-- --:--:-- --:--:-- 29.6M\n"
          ]
        }
      ],
      "source": [
        "!curl -o zinc_100k.smi https://raw.githubusercontent.com/deepchem/DeepLearningLifeSciences/master/Chapter11/zinc_100k.smi"
      ]
    },
    {
      "cell_type": "markdown",
      "metadata": {
        "id": "BxFDHLnp2XVe"
      },
      "source": [
        "- 필터 수행\n",
        " - 필터 수행 결과 68.4%가 통과하였다\n",
        " - 생물학적 분석이 어려운 화합물을 제거\n",
        " - 필터 결과는 zinc.csv에 저장된다. 필터를 통과한 SMILES 정보는 zinc.smi에 저장된다"
      ]
    },
    {
      "cell_type": "code",
      "execution_count": 46,
      "metadata": {
        "colab": {
          "base_uri": "https://localhost:8080/"
        },
        "id": "uLWjkw-SLRRe",
        "outputId": "29c270b3-022a-4767-c330-581fa2f1012a"
      },
      "outputs": [
        {
          "output_type": "stream",
          "name": "stdout",
          "text": [
            "using 2 cores\n",
            "Using alerts from Inpharmatica\n",
            "Wrote SMILES for molecules passing filters to zinc.smi\n",
            "Wrote detailed data to zinc.csv\n",
            "67885 of 100000 passed filters 67.9%\n",
            "Elapsed time 111.30 seconds\n"
          ]
        }
      ],
      "source": [
        "!rd_filters filter --in zinc_100k.smi --prefix zinc"
      ]
    },
    {
      "cell_type": "markdown",
      "metadata": {
        "id": "9vXJTqI11XR7"
      },
      "source": [
        "## 필터 결과\n",
        "\n",
        "- zinc.csv의 내용\n",
        " - SMILES 문자열,\n",
        " - 분자의 이름(NAME),\n",
        " - 필터를 통과하지 못한 이유(FILTER),\n",
        " - 분자량(MW, 500보다 크면 통과하지 못한다),\n",
        " - 옥탄올/물 분배계수(LogP, 5보다 크면 통과하지 못한다)\n",
        " - 수소결합의 공여체수 (HBD)"
      ]
    },
    {
      "cell_type": "code",
      "execution_count": 47,
      "metadata": {
        "colab": {
          "base_uri": "https://localhost:8080/",
          "height": 357
        },
        "id": "5rXNaXVzLoet",
        "outputId": "8a662041-f6b4-411e-9778-7be1136961d8"
      },
      "outputs": [
        {
          "output_type": "execute_result",
          "data": {
            "text/plain": [
              "                                              SMILES              NAME  \\\n",
              "0        CN(CCO)C[C@@H](O)Cn1cnc2c1c(=O)n(C)c(=O)n2C  ZINC000000000843   \n",
              "1  O=c1[nH]c(=O)n([C@@H]2C[C@@H](O)[C@H](CO)O2)cc1Br  ZINC000000001063   \n",
              "2            Cn1c2ncn(CC(=O)N3CCOCC3)c2c(=O)n(C)c1=O  ZINC000000003942   \n",
              "3        CN1C(=O)C[C@H](N2CCN(C(=O)CN3CCCC3)CC2)C1=O  ZINC000000036436   \n",
              "4  CC(=O)NC[C@H](O)[C@H]1O[C@H]2OC(C)(C)O[C@H]2[C...  ZINC000000041101   \n",
              "\n",
              "                    FILTER       MW    LogP  HBD  HBA    TPSA  Rot  \n",
              "0  Filter82_pyridinium > 0  311.342 -2.2813    2    9  105.52    6  \n",
              "1  Filter82_pyridinium > 0  307.100 -1.0602    3    6  104.55    2  \n",
              "2  Filter82_pyridinium > 0  307.310 -1.7075    0    8   91.36    2  \n",
              "3                       OK  308.382 -1.0163    0    5   64.17    3  \n",
              "4                       OK  302.327 -1.1355    3    6  106.12    4  "
            ],
            "text/html": [
              "\n",
              "\n",
              "  <div id=\"df-631cd2f8-80ef-4cda-87c7-fb604e0594a0\">\n",
              "    <div class=\"colab-df-container\">\n",
              "      <div>\n",
              "<style scoped>\n",
              "    .dataframe tbody tr th:only-of-type {\n",
              "        vertical-align: middle;\n",
              "    }\n",
              "\n",
              "    .dataframe tbody tr th {\n",
              "        vertical-align: top;\n",
              "    }\n",
              "\n",
              "    .dataframe thead th {\n",
              "        text-align: right;\n",
              "    }\n",
              "</style>\n",
              "<table border=\"1\" class=\"dataframe\">\n",
              "  <thead>\n",
              "    <tr style=\"text-align: right;\">\n",
              "      <th></th>\n",
              "      <th>SMILES</th>\n",
              "      <th>NAME</th>\n",
              "      <th>FILTER</th>\n",
              "      <th>MW</th>\n",
              "      <th>LogP</th>\n",
              "      <th>HBD</th>\n",
              "      <th>HBA</th>\n",
              "      <th>TPSA</th>\n",
              "      <th>Rot</th>\n",
              "    </tr>\n",
              "  </thead>\n",
              "  <tbody>\n",
              "    <tr>\n",
              "      <th>0</th>\n",
              "      <td>CN(CCO)C[C@@H](O)Cn1cnc2c1c(=O)n(C)c(=O)n2C</td>\n",
              "      <td>ZINC000000000843</td>\n",
              "      <td>Filter82_pyridinium &gt; 0</td>\n",
              "      <td>311.342</td>\n",
              "      <td>-2.2813</td>\n",
              "      <td>2</td>\n",
              "      <td>9</td>\n",
              "      <td>105.52</td>\n",
              "      <td>6</td>\n",
              "    </tr>\n",
              "    <tr>\n",
              "      <th>1</th>\n",
              "      <td>O=c1[nH]c(=O)n([C@@H]2C[C@@H](O)[C@H](CO)O2)cc1Br</td>\n",
              "      <td>ZINC000000001063</td>\n",
              "      <td>Filter82_pyridinium &gt; 0</td>\n",
              "      <td>307.100</td>\n",
              "      <td>-1.0602</td>\n",
              "      <td>3</td>\n",
              "      <td>6</td>\n",
              "      <td>104.55</td>\n",
              "      <td>2</td>\n",
              "    </tr>\n",
              "    <tr>\n",
              "      <th>2</th>\n",
              "      <td>Cn1c2ncn(CC(=O)N3CCOCC3)c2c(=O)n(C)c1=O</td>\n",
              "      <td>ZINC000000003942</td>\n",
              "      <td>Filter82_pyridinium &gt; 0</td>\n",
              "      <td>307.310</td>\n",
              "      <td>-1.7075</td>\n",
              "      <td>0</td>\n",
              "      <td>8</td>\n",
              "      <td>91.36</td>\n",
              "      <td>2</td>\n",
              "    </tr>\n",
              "    <tr>\n",
              "      <th>3</th>\n",
              "      <td>CN1C(=O)C[C@H](N2CCN(C(=O)CN3CCCC3)CC2)C1=O</td>\n",
              "      <td>ZINC000000036436</td>\n",
              "      <td>OK</td>\n",
              "      <td>308.382</td>\n",
              "      <td>-1.0163</td>\n",
              "      <td>0</td>\n",
              "      <td>5</td>\n",
              "      <td>64.17</td>\n",
              "      <td>3</td>\n",
              "    </tr>\n",
              "    <tr>\n",
              "      <th>4</th>\n",
              "      <td>CC(=O)NC[C@H](O)[C@H]1O[C@H]2OC(C)(C)O[C@H]2[C...</td>\n",
              "      <td>ZINC000000041101</td>\n",
              "      <td>OK</td>\n",
              "      <td>302.327</td>\n",
              "      <td>-1.1355</td>\n",
              "      <td>3</td>\n",
              "      <td>6</td>\n",
              "      <td>106.12</td>\n",
              "      <td>4</td>\n",
              "    </tr>\n",
              "  </tbody>\n",
              "</table>\n",
              "</div>\n",
              "      <button class=\"colab-df-convert\" onclick=\"convertToInteractive('df-631cd2f8-80ef-4cda-87c7-fb604e0594a0')\"\n",
              "              title=\"Convert this dataframe to an interactive table.\"\n",
              "              style=\"display:none;\">\n",
              "\n",
              "  <svg xmlns=\"http://www.w3.org/2000/svg\" height=\"24px\"viewBox=\"0 0 24 24\"\n",
              "       width=\"24px\">\n",
              "    <path d=\"M0 0h24v24H0V0z\" fill=\"none\"/>\n",
              "    <path d=\"M18.56 5.44l.94 2.06.94-2.06 2.06-.94-2.06-.94-.94-2.06-.94 2.06-2.06.94zm-11 1L8.5 8.5l.94-2.06 2.06-.94-2.06-.94L8.5 2.5l-.94 2.06-2.06.94zm10 10l.94 2.06.94-2.06 2.06-.94-2.06-.94-.94-2.06-.94 2.06-2.06.94z\"/><path d=\"M17.41 7.96l-1.37-1.37c-.4-.4-.92-.59-1.43-.59-.52 0-1.04.2-1.43.59L10.3 9.45l-7.72 7.72c-.78.78-.78 2.05 0 2.83L4 21.41c.39.39.9.59 1.41.59.51 0 1.02-.2 1.41-.59l7.78-7.78 2.81-2.81c.8-.78.8-2.07 0-2.86zM5.41 20L4 18.59l7.72-7.72 1.47 1.35L5.41 20z\"/>\n",
              "  </svg>\n",
              "      </button>\n",
              "\n",
              "\n",
              "\n",
              "    <div id=\"df-da70f91b-04c6-48c7-8805-05c0cca05a12\">\n",
              "      <button class=\"colab-df-quickchart\" onclick=\"quickchart('df-da70f91b-04c6-48c7-8805-05c0cca05a12')\"\n",
              "              title=\"Suggest charts.\"\n",
              "              style=\"display:none;\">\n",
              "\n",
              "<svg xmlns=\"http://www.w3.org/2000/svg\" height=\"24px\"viewBox=\"0 0 24 24\"\n",
              "     width=\"24px\">\n",
              "    <g>\n",
              "        <path d=\"M19 3H5c-1.1 0-2 .9-2 2v14c0 1.1.9 2 2 2h14c1.1 0 2-.9 2-2V5c0-1.1-.9-2-2-2zM9 17H7v-7h2v7zm4 0h-2V7h2v10zm4 0h-2v-4h2v4z\"/>\n",
              "    </g>\n",
              "</svg>\n",
              "      </button>\n",
              "    </div>\n",
              "\n",
              "<style>\n",
              "  .colab-df-quickchart {\n",
              "    background-color: #E8F0FE;\n",
              "    border: none;\n",
              "    border-radius: 50%;\n",
              "    cursor: pointer;\n",
              "    display: none;\n",
              "    fill: #1967D2;\n",
              "    height: 32px;\n",
              "    padding: 0 0 0 0;\n",
              "    width: 32px;\n",
              "  }\n",
              "\n",
              "  .colab-df-quickchart:hover {\n",
              "    background-color: #E2EBFA;\n",
              "    box-shadow: 0px 1px 2px rgba(60, 64, 67, 0.3), 0px 1px 3px 1px rgba(60, 64, 67, 0.15);\n",
              "    fill: #174EA6;\n",
              "  }\n",
              "\n",
              "  [theme=dark] .colab-df-quickchart {\n",
              "    background-color: #3B4455;\n",
              "    fill: #D2E3FC;\n",
              "  }\n",
              "\n",
              "  [theme=dark] .colab-df-quickchart:hover {\n",
              "    background-color: #434B5C;\n",
              "    box-shadow: 0px 1px 3px 1px rgba(0, 0, 0, 0.15);\n",
              "    filter: drop-shadow(0px 1px 2px rgba(0, 0, 0, 0.3));\n",
              "    fill: #FFFFFF;\n",
              "  }\n",
              "</style>\n",
              "\n",
              "    <script>\n",
              "      async function quickchart(key) {\n",
              "        const containerElement = document.querySelector('#' + key);\n",
              "        const charts = await google.colab.kernel.invokeFunction(\n",
              "            'suggestCharts', [key], {});\n",
              "      }\n",
              "    </script>\n",
              "\n",
              "      <script>\n",
              "\n",
              "function displayQuickchartButton(domScope) {\n",
              "  let quickchartButtonEl =\n",
              "    domScope.querySelector('#df-da70f91b-04c6-48c7-8805-05c0cca05a12 button.colab-df-quickchart');\n",
              "  quickchartButtonEl.style.display =\n",
              "    google.colab.kernel.accessAllowed ? 'block' : 'none';\n",
              "}\n",
              "\n",
              "        displayQuickchartButton(document);\n",
              "      </script>\n",
              "      <style>\n",
              "    .colab-df-container {\n",
              "      display:flex;\n",
              "      flex-wrap:wrap;\n",
              "      gap: 12px;\n",
              "    }\n",
              "\n",
              "    .colab-df-convert {\n",
              "      background-color: #E8F0FE;\n",
              "      border: none;\n",
              "      border-radius: 50%;\n",
              "      cursor: pointer;\n",
              "      display: none;\n",
              "      fill: #1967D2;\n",
              "      height: 32px;\n",
              "      padding: 0 0 0 0;\n",
              "      width: 32px;\n",
              "    }\n",
              "\n",
              "    .colab-df-convert:hover {\n",
              "      background-color: #E2EBFA;\n",
              "      box-shadow: 0px 1px 2px rgba(60, 64, 67, 0.3), 0px 1px 3px 1px rgba(60, 64, 67, 0.15);\n",
              "      fill: #174EA6;\n",
              "    }\n",
              "\n",
              "    [theme=dark] .colab-df-convert {\n",
              "      background-color: #3B4455;\n",
              "      fill: #D2E3FC;\n",
              "    }\n",
              "\n",
              "    [theme=dark] .colab-df-convert:hover {\n",
              "      background-color: #434B5C;\n",
              "      box-shadow: 0px 1px 3px 1px rgba(0, 0, 0, 0.15);\n",
              "      filter: drop-shadow(0px 1px 2px rgba(0, 0, 0, 0.3));\n",
              "      fill: #FFFFFF;\n",
              "    }\n",
              "  </style>\n",
              "\n",
              "      <script>\n",
              "        const buttonEl =\n",
              "          document.querySelector('#df-631cd2f8-80ef-4cda-87c7-fb604e0594a0 button.colab-df-convert');\n",
              "        buttonEl.style.display =\n",
              "          google.colab.kernel.accessAllowed ? 'block' : 'none';\n",
              "\n",
              "        async function convertToInteractive(key) {\n",
              "          const element = document.querySelector('#df-631cd2f8-80ef-4cda-87c7-fb604e0594a0');\n",
              "          const dataTable =\n",
              "            await google.colab.kernel.invokeFunction('convertToInteractive',\n",
              "                                                     [key], {});\n",
              "          if (!dataTable) return;\n",
              "\n",
              "          const docLinkHtml = 'Like what you see? Visit the ' +\n",
              "            '<a target=\"_blank\" href=https://colab.research.google.com/notebooks/data_table.ipynb>data table notebook</a>'\n",
              "            + ' to learn more about interactive tables.';\n",
              "          element.innerHTML = '';\n",
              "          dataTable['output_type'] = 'display_data';\n",
              "          await google.colab.output.renderOutput(dataTable, element);\n",
              "          const docLink = document.createElement('div');\n",
              "          docLink.innerHTML = docLinkHtml;\n",
              "          element.appendChild(docLink);\n",
              "        }\n",
              "      </script>\n",
              "    </div>\n",
              "  </div>\n"
            ]
          },
          "metadata": {},
          "execution_count": 47
        }
      ],
      "source": [
        "df = pd.read_csv(\"zinc.csv\")\n",
        "df.head()"
      ]
    },
    {
      "cell_type": "markdown",
      "metadata": {
        "id": "qQEK-Wo22kv7"
      },
      "source": [
        "- FILTER의 경우의 수를 파악하기 위해서 collection의 Counter를 사용한다\n",
        " - 통과한 수(OK)는 69148이다\n",
        " - 1,2 디카르보닐 구조를 포하여 통과하지 못한 경우는 19330이다 (이는 아미노산 셀린 또는 시스테인과 공유결합을 형성하는 것으로 알려져 있다)\n",
        " - filter_collection.CSV 파일을 보면 1,2디카르보닐 구조를 의미하는 SMARTS 문자열'*C(=O)C(=O)*'를 확인할 수 있다."
      ]
    },
    {
      "cell_type": "code",
      "execution_count": 48,
      "metadata": {
        "colab": {
          "base_uri": "https://localhost:8080/",
          "height": 206
        },
        "id": "uw1dquNdMBTB",
        "outputId": "1ba000f6-5318-42f6-9507-ba363e124b2a"
      },
      "outputs": [
        {
          "output_type": "execute_result",
          "data": {
            "text/plain": [
              "                           Rule  Count\n",
              "1                            OK  68611\n",
              "6    Filter41_12_dicarbonyl > 0  19330\n",
              "0       Filter82_pyridinium > 0   7544\n",
              "9      Filter93_acetyl_urea > 0   1541\n",
              "10  Filter78_bicyclic_Imide > 0    825"
            ],
            "text/html": [
              "\n",
              "\n",
              "  <div id=\"df-22d81889-6513-40ce-b126-0899c0dff75d\">\n",
              "    <div class=\"colab-df-container\">\n",
              "      <div>\n",
              "<style scoped>\n",
              "    .dataframe tbody tr th:only-of-type {\n",
              "        vertical-align: middle;\n",
              "    }\n",
              "\n",
              "    .dataframe tbody tr th {\n",
              "        vertical-align: top;\n",
              "    }\n",
              "\n",
              "    .dataframe thead th {\n",
              "        text-align: right;\n",
              "    }\n",
              "</style>\n",
              "<table border=\"1\" class=\"dataframe\">\n",
              "  <thead>\n",
              "    <tr style=\"text-align: right;\">\n",
              "      <th></th>\n",
              "      <th>Rule</th>\n",
              "      <th>Count</th>\n",
              "    </tr>\n",
              "  </thead>\n",
              "  <tbody>\n",
              "    <tr>\n",
              "      <th>1</th>\n",
              "      <td>OK</td>\n",
              "      <td>68611</td>\n",
              "    </tr>\n",
              "    <tr>\n",
              "      <th>6</th>\n",
              "      <td>Filter41_12_dicarbonyl &gt; 0</td>\n",
              "      <td>19330</td>\n",
              "    </tr>\n",
              "    <tr>\n",
              "      <th>0</th>\n",
              "      <td>Filter82_pyridinium &gt; 0</td>\n",
              "      <td>7544</td>\n",
              "    </tr>\n",
              "    <tr>\n",
              "      <th>9</th>\n",
              "      <td>Filter93_acetyl_urea &gt; 0</td>\n",
              "      <td>1541</td>\n",
              "    </tr>\n",
              "    <tr>\n",
              "      <th>10</th>\n",
              "      <td>Filter78_bicyclic_Imide &gt; 0</td>\n",
              "      <td>825</td>\n",
              "    </tr>\n",
              "  </tbody>\n",
              "</table>\n",
              "</div>\n",
              "      <button class=\"colab-df-convert\" onclick=\"convertToInteractive('df-22d81889-6513-40ce-b126-0899c0dff75d')\"\n",
              "              title=\"Convert this dataframe to an interactive table.\"\n",
              "              style=\"display:none;\">\n",
              "\n",
              "  <svg xmlns=\"http://www.w3.org/2000/svg\" height=\"24px\"viewBox=\"0 0 24 24\"\n",
              "       width=\"24px\">\n",
              "    <path d=\"M0 0h24v24H0V0z\" fill=\"none\"/>\n",
              "    <path d=\"M18.56 5.44l.94 2.06.94-2.06 2.06-.94-2.06-.94-.94-2.06-.94 2.06-2.06.94zm-11 1L8.5 8.5l.94-2.06 2.06-.94-2.06-.94L8.5 2.5l-.94 2.06-2.06.94zm10 10l.94 2.06.94-2.06 2.06-.94-2.06-.94-.94-2.06-.94 2.06-2.06.94z\"/><path d=\"M17.41 7.96l-1.37-1.37c-.4-.4-.92-.59-1.43-.59-.52 0-1.04.2-1.43.59L10.3 9.45l-7.72 7.72c-.78.78-.78 2.05 0 2.83L4 21.41c.39.39.9.59 1.41.59.51 0 1.02-.2 1.41-.59l7.78-7.78 2.81-2.81c.8-.78.8-2.07 0-2.86zM5.41 20L4 18.59l7.72-7.72 1.47 1.35L5.41 20z\"/>\n",
              "  </svg>\n",
              "      </button>\n",
              "\n",
              "\n",
              "\n",
              "    <div id=\"df-7de43888-d6e8-4679-b5e3-fd606a182a85\">\n",
              "      <button class=\"colab-df-quickchart\" onclick=\"quickchart('df-7de43888-d6e8-4679-b5e3-fd606a182a85')\"\n",
              "              title=\"Suggest charts.\"\n",
              "              style=\"display:none;\">\n",
              "\n",
              "<svg xmlns=\"http://www.w3.org/2000/svg\" height=\"24px\"viewBox=\"0 0 24 24\"\n",
              "     width=\"24px\">\n",
              "    <g>\n",
              "        <path d=\"M19 3H5c-1.1 0-2 .9-2 2v14c0 1.1.9 2 2 2h14c1.1 0 2-.9 2-2V5c0-1.1-.9-2-2-2zM9 17H7v-7h2v7zm4 0h-2V7h2v10zm4 0h-2v-4h2v4z\"/>\n",
              "    </g>\n",
              "</svg>\n",
              "      </button>\n",
              "    </div>\n",
              "\n",
              "<style>\n",
              "  .colab-df-quickchart {\n",
              "    background-color: #E8F0FE;\n",
              "    border: none;\n",
              "    border-radius: 50%;\n",
              "    cursor: pointer;\n",
              "    display: none;\n",
              "    fill: #1967D2;\n",
              "    height: 32px;\n",
              "    padding: 0 0 0 0;\n",
              "    width: 32px;\n",
              "  }\n",
              "\n",
              "  .colab-df-quickchart:hover {\n",
              "    background-color: #E2EBFA;\n",
              "    box-shadow: 0px 1px 2px rgba(60, 64, 67, 0.3), 0px 1px 3px 1px rgba(60, 64, 67, 0.15);\n",
              "    fill: #174EA6;\n",
              "  }\n",
              "\n",
              "  [theme=dark] .colab-df-quickchart {\n",
              "    background-color: #3B4455;\n",
              "    fill: #D2E3FC;\n",
              "  }\n",
              "\n",
              "  [theme=dark] .colab-df-quickchart:hover {\n",
              "    background-color: #434B5C;\n",
              "    box-shadow: 0px 1px 3px 1px rgba(0, 0, 0, 0.15);\n",
              "    filter: drop-shadow(0px 1px 2px rgba(0, 0, 0, 0.3));\n",
              "    fill: #FFFFFF;\n",
              "  }\n",
              "</style>\n",
              "\n",
              "    <script>\n",
              "      async function quickchart(key) {\n",
              "        const containerElement = document.querySelector('#' + key);\n",
              "        const charts = await google.colab.kernel.invokeFunction(\n",
              "            'suggestCharts', [key], {});\n",
              "      }\n",
              "    </script>\n",
              "\n",
              "      <script>\n",
              "\n",
              "function displayQuickchartButton(domScope) {\n",
              "  let quickchartButtonEl =\n",
              "    domScope.querySelector('#df-7de43888-d6e8-4679-b5e3-fd606a182a85 button.colab-df-quickchart');\n",
              "  quickchartButtonEl.style.display =\n",
              "    google.colab.kernel.accessAllowed ? 'block' : 'none';\n",
              "}\n",
              "\n",
              "        displayQuickchartButton(document);\n",
              "      </script>\n",
              "      <style>\n",
              "    .colab-df-container {\n",
              "      display:flex;\n",
              "      flex-wrap:wrap;\n",
              "      gap: 12px;\n",
              "    }\n",
              "\n",
              "    .colab-df-convert {\n",
              "      background-color: #E8F0FE;\n",
              "      border: none;\n",
              "      border-radius: 50%;\n",
              "      cursor: pointer;\n",
              "      display: none;\n",
              "      fill: #1967D2;\n",
              "      height: 32px;\n",
              "      padding: 0 0 0 0;\n",
              "      width: 32px;\n",
              "    }\n",
              "\n",
              "    .colab-df-convert:hover {\n",
              "      background-color: #E2EBFA;\n",
              "      box-shadow: 0px 1px 2px rgba(60, 64, 67, 0.3), 0px 1px 3px 1px rgba(60, 64, 67, 0.15);\n",
              "      fill: #174EA6;\n",
              "    }\n",
              "\n",
              "    [theme=dark] .colab-df-convert {\n",
              "      background-color: #3B4455;\n",
              "      fill: #D2E3FC;\n",
              "    }\n",
              "\n",
              "    [theme=dark] .colab-df-convert:hover {\n",
              "      background-color: #434B5C;\n",
              "      box-shadow: 0px 1px 3px 1px rgba(0, 0, 0, 0.15);\n",
              "      filter: drop-shadow(0px 1px 2px rgba(0, 0, 0, 0.3));\n",
              "      fill: #FFFFFF;\n",
              "    }\n",
              "  </style>\n",
              "\n",
              "      <script>\n",
              "        const buttonEl =\n",
              "          document.querySelector('#df-22d81889-6513-40ce-b126-0899c0dff75d button.colab-df-convert');\n",
              "        buttonEl.style.display =\n",
              "          google.colab.kernel.accessAllowed ? 'block' : 'none';\n",
              "\n",
              "        async function convertToInteractive(key) {\n",
              "          const element = document.querySelector('#df-22d81889-6513-40ce-b126-0899c0dff75d');\n",
              "          const dataTable =\n",
              "            await google.colab.kernel.invokeFunction('convertToInteractive',\n",
              "                                                     [key], {});\n",
              "          if (!dataTable) return;\n",
              "\n",
              "          const docLinkHtml = 'Like what you see? Visit the ' +\n",
              "            '<a target=\"_blank\" href=https://colab.research.google.com/notebooks/data_table.ipynb>data table notebook</a>'\n",
              "            + ' to learn more about interactive tables.';\n",
              "          element.innerHTML = '';\n",
              "          dataTable['output_type'] = 'display_data';\n",
              "          await google.colab.output.renderOutput(dataTable, element);\n",
              "          const docLink = document.createElement('div');\n",
              "          docLink.innerHTML = docLinkHtml;\n",
              "          element.appendChild(docLink);\n",
              "        }\n",
              "      </script>\n",
              "    </div>\n",
              "  </div>\n"
            ]
          },
          "metadata": {},
          "execution_count": 48
        }
      ],
      "source": [
        "from collections import Counter\n",
        "count_list = list(Counter(df.FILTER).items())\n",
        "count_df = pd.DataFrame(count_list,columns=[\"Rule\",\"Count\"])\n",
        "count_df.sort_values(\"Count\",inplace=True,ascending=False)\n",
        "count_df.head()"
      ]
    },
    {
      "cell_type": "code",
      "execution_count": 50,
      "metadata": {
        "colab": {
          "base_uri": "https://localhost:8080/",
          "height": 167
        },
        "id": "HLqVhkPIMIs_",
        "outputId": "6a627ffe-c209-4e47-b24d-971e0d648986"
      },
      "outputs": [
        {
          "output_type": "execute_result",
          "data": {
            "text/plain": [
              "<rdkit.Chem.rdchem.Mol at 0x79c318824740>"
            ],
            "image/png": "[encoded data removed]"
          },
          "metadata": {},
          "execution_count": 50
        }
      ],
      "source": [
        "dicarbonyl = Chem.MolFromSmarts('*C(=O)C(=O)*')\n",
        "dicarbonyl"
      ]
    },
    {
      "cell_type": "code",
      "source": [
        "smiles_list = df[df.FILTER == \"Filter41_12_dicarbonyl > 0\"].SMILES[:10]\n",
        "mol_list = [Chem.MolFromSmiles(x) for x in smiles_list]\n",
        "match_list = [mol.GetSubstructMatch(dicarbonyl) for mol in mol_list]\n",
        "Draw.MolsToGridImage(mol_list,highlightAtomLists=match_list,molsPerRow=5)"
      ],
      "metadata": {
        "id": "_TZYYMeFqr-t",
        "outputId": "c2545263-f962-4f30-f0ca-1ca0fa7ecc77",
        "colab": {
          "base_uri": "https://localhost:8080/",
          "height": 349
        }
      },
      "execution_count": 51,
      "outputs": [
        {
          "output_type": "execute_result",
          "data": {
            "image/png": "[encoded data removed]",
            "text/plain": [
              "<IPython.core.display.Image object>"
            ]
          },
          "metadata": {},
          "execution_count": 51
        }
      ]
    },
    {
      "cell_type": "markdown",
      "metadata": {
        "id": "AIp-NTayFEqJ"
      },
      "source": [
        "# 모델 사용하기\n",
        "- GCN 모델을 불러오고, 피처화기를 만든후, 분자 데이터를 피처화 한다\n",
        "- 예측값을 확인하고 가장 높은 점수를 얻은 화학구조를 확인한다\n",
        "- 분자 데이터를 CSV로 저장한다"
      ]
    },
    {
      "cell_type": "code",
      "execution_count": 52,
      "metadata": {
        "id": "JaVT22MaFhTM"
      },
      "outputs": [],
      "source": [
        "# 저장된 모델 불러오기\n",
        "# model = dc.models.GraphConvModel(1, batch_size=128,\n",
        "#           mode='classification',model_dir=\"model_dir\")\n",
        "# model.restore()"
      ]
    },
    {
      "cell_type": "code",
      "execution_count": 54,
      "metadata": {
        "colab": {
          "base_uri": "https://localhost:8080/",
          "height": 206
        },
        "id": "iSsUjS2_Ft45",
        "outputId": "3b79dada-4946-438a-87d1-c01fc9d32fed"
      },
      "outputs": [
        {
          "output_type": "execute_result",
          "data": {
            "text/plain": [
              "                                              SMILES              Name  Val\n",
              "0        CN(CCO)C[C@@H](O)Cn1cnc2c1c(=O)n(C)c(=O)n2C  ZINC000000000843    0\n",
              "1  O=c1[nH]c(=O)n([C@@H]2C[C@@H](O)[C@H](CO)O2)cc1Br  ZINC000000001063    0\n",
              "2            Cn1c2ncn(CC(=O)N3CCOCC3)c2c(=O)n(C)c1=O  ZINC000000003942    0\n",
              "3        CN1C(=O)C[C@H](N2CCN(C(=O)CN3CCCC3)CC2)C1=O  ZINC000000036436    0\n",
              "4  CC(=O)NC[C@H](O)[C@H]1O[C@H]2OC(C)(C)O[C@H]2[C...  ZINC000000041101    0"
            ],
            "text/html": [
              "\n",
              "\n",
              "  <div id=\"df-6066fdc0-69a2-445e-a65f-8b2d5165d7e9\">\n",
              "    <div class=\"colab-df-container\">\n",
              "      <div>\n",
              "<style scoped>\n",
              "    .dataframe tbody tr th:only-of-type {\n",
              "        vertical-align: middle;\n",
              "    }\n",
              "\n",
              "    .dataframe tbody tr th {\n",
              "        vertical-align: top;\n",
              "    }\n",
              "\n",
              "    .dataframe thead th {\n",
              "        text-align: right;\n",
              "    }\n",
              "</style>\n",
              "<table border=\"1\" class=\"dataframe\">\n",
              "  <thead>\n",
              "    <tr style=\"text-align: right;\">\n",
              "      <th></th>\n",
              "      <th>SMILES</th>\n",
              "      <th>Name</th>\n",
              "      <th>Val</th>\n",
              "    </tr>\n",
              "  </thead>\n",
              "  <tbody>\n",
              "    <tr>\n",
              "      <th>0</th>\n",
              "      <td>CN(CCO)C[C@@H](O)Cn1cnc2c1c(=O)n(C)c(=O)n2C</td>\n",
              "      <td>ZINC000000000843</td>\n",
              "      <td>0</td>\n",
              "    </tr>\n",
              "    <tr>\n",
              "      <th>1</th>\n",
              "      <td>O=c1[nH]c(=O)n([C@@H]2C[C@@H](O)[C@H](CO)O2)cc1Br</td>\n",
              "      <td>ZINC000000001063</td>\n",
              "      <td>0</td>\n",
              "    </tr>\n",
              "    <tr>\n",
              "      <th>2</th>\n",
              "      <td>Cn1c2ncn(CC(=O)N3CCOCC3)c2c(=O)n(C)c1=O</td>\n",
              "      <td>ZINC000000003942</td>\n",
              "      <td>0</td>\n",
              "    </tr>\n",
              "    <tr>\n",
              "      <th>3</th>\n",
              "      <td>CN1C(=O)C[C@H](N2CCN(C(=O)CN3CCCC3)CC2)C1=O</td>\n",
              "      <td>ZINC000000036436</td>\n",
              "      <td>0</td>\n",
              "    </tr>\n",
              "    <tr>\n",
              "      <th>4</th>\n",
              "      <td>CC(=O)NC[C@H](O)[C@H]1O[C@H]2OC(C)(C)O[C@H]2[C...</td>\n",
              "      <td>ZINC000000041101</td>\n",
              "      <td>0</td>\n",
              "    </tr>\n",
              "  </tbody>\n",
              "</table>\n",
              "</div>\n",
              "      <button class=\"colab-df-convert\" onclick=\"convertToInteractive('df-6066fdc0-69a2-445e-a65f-8b2d5165d7e9')\"\n",
              "              title=\"Convert this dataframe to an interactive table.\"\n",
              "              style=\"display:none;\">\n",
              "\n",
              "  <svg xmlns=\"http://www.w3.org/2000/svg\" height=\"24px\"viewBox=\"0 0 24 24\"\n",
              "       width=\"24px\">\n",
              "    <path d=\"M0 0h24v24H0V0z\" fill=\"none\"/>\n",
              "    <path d=\"M18.56 5.44l.94 2.06.94-2.06 2.06-.94-2.06-.94-.94-2.06-.94 2.06-2.06.94zm-11 1L8.5 8.5l.94-2.06 2.06-.94-2.06-.94L8.5 2.5l-.94 2.06-2.06.94zm10 10l.94 2.06.94-2.06 2.06-.94-2.06-.94-.94-2.06-.94 2.06-2.06.94z\"/><path d=\"M17.41 7.96l-1.37-1.37c-.4-.4-.92-.59-1.43-.59-.52 0-1.04.2-1.43.59L10.3 9.45l-7.72 7.72c-.78.78-.78 2.05 0 2.83L4 21.41c.39.39.9.59 1.41.59.51 0 1.02-.2 1.41-.59l7.78-7.78 2.81-2.81c.8-.78.8-2.07 0-2.86zM5.41 20L4 18.59l7.72-7.72 1.47 1.35L5.41 20z\"/>\n",
              "  </svg>\n",
              "      </button>\n",
              "\n",
              "\n",
              "\n",
              "    <div id=\"df-2df0d1ff-707a-4bf4-b076-04d649295fd6\">\n",
              "      <button class=\"colab-df-quickchart\" onclick=\"quickchart('df-2df0d1ff-707a-4bf4-b076-04d649295fd6')\"\n",
              "              title=\"Suggest charts.\"\n",
              "              style=\"display:none;\">\n",
              "\n",
              "<svg xmlns=\"http://www.w3.org/2000/svg\" height=\"24px\"viewBox=\"0 0 24 24\"\n",
              "     width=\"24px\">\n",
              "    <g>\n",
              "        <path d=\"M19 3H5c-1.1 0-2 .9-2 2v14c0 1.1.9 2 2 2h14c1.1 0 2-.9 2-2V5c0-1.1-.9-2-2-2zM9 17H7v-7h2v7zm4 0h-2V7h2v10zm4 0h-2v-4h2v4z\"/>\n",
              "    </g>\n",
              "</svg>\n",
              "      </button>\n",
              "    </div>\n",
              "\n",
              "<style>\n",
              "  .colab-df-quickchart {\n",
              "    background-color: #E8F0FE;\n",
              "    border: none;\n",
              "    border-radius: 50%;\n",
              "    cursor: pointer;\n",
              "    display: none;\n",
              "    fill: #1967D2;\n",
              "    height: 32px;\n",
              "    padding: 0 0 0 0;\n",
              "    width: 32px;\n",
              "  }\n",
              "\n",
              "  .colab-df-quickchart:hover {\n",
              "    background-color: #E2EBFA;\n",
              "    box-shadow: 0px 1px 2px rgba(60, 64, 67, 0.3), 0px 1px 3px 1px rgba(60, 64, 67, 0.15);\n",
              "    fill: #174EA6;\n",
              "  }\n",
              "\n",
              "  [theme=dark] .colab-df-quickchart {\n",
              "    background-color: #3B4455;\n",
              "    fill: #D2E3FC;\n",
              "  }\n",
              "\n",
              "  [theme=dark] .colab-df-quickchart:hover {\n",
              "    background-color: #434B5C;\n",
              "    box-shadow: 0px 1px 3px 1px rgba(0, 0, 0, 0.15);\n",
              "    filter: drop-shadow(0px 1px 2px rgba(0, 0, 0, 0.3));\n",
              "    fill: #FFFFFF;\n",
              "  }\n",
              "</style>\n",
              "\n",
              "    <script>\n",
              "      async function quickchart(key) {\n",
              "        const containerElement = document.querySelector('#' + key);\n",
              "        const charts = await google.colab.kernel.invokeFunction(\n",
              "            'suggestCharts', [key], {});\n",
              "      }\n",
              "    </script>\n",
              "\n",
              "      <script>\n",
              "\n",
              "function displayQuickchartButton(domScope) {\n",
              "  let quickchartButtonEl =\n",
              "    domScope.querySelector('#df-2df0d1ff-707a-4bf4-b076-04d649295fd6 button.colab-df-quickchart');\n",
              "  quickchartButtonEl.style.display =\n",
              "    google.colab.kernel.accessAllowed ? 'block' : 'none';\n",
              "}\n",
              "\n",
              "        displayQuickchartButton(document);\n",
              "      </script>\n",
              "      <style>\n",
              "    .colab-df-container {\n",
              "      display:flex;\n",
              "      flex-wrap:wrap;\n",
              "      gap: 12px;\n",
              "    }\n",
              "\n",
              "    .colab-df-convert {\n",
              "      background-color: #E8F0FE;\n",
              "      border: none;\n",
              "      border-radius: 50%;\n",
              "      cursor: pointer;\n",
              "      display: none;\n",
              "      fill: #1967D2;\n",
              "      height: 32px;\n",
              "      padding: 0 0 0 0;\n",
              "      width: 32px;\n",
              "    }\n",
              "\n",
              "    .colab-df-convert:hover {\n",
              "      background-color: #E2EBFA;\n",
              "      box-shadow: 0px 1px 2px rgba(60, 64, 67, 0.3), 0px 1px 3px 1px rgba(60, 64, 67, 0.15);\n",
              "      fill: #174EA6;\n",
              "    }\n",
              "\n",
              "    [theme=dark] .colab-df-convert {\n",
              "      background-color: #3B4455;\n",
              "      fill: #D2E3FC;\n",
              "    }\n",
              "\n",
              "    [theme=dark] .colab-df-convert:hover {\n",
              "      background-color: #434B5C;\n",
              "      box-shadow: 0px 1px 3px 1px rgba(0, 0, 0, 0.15);\n",
              "      filter: drop-shadow(0px 1px 2px rgba(0, 0, 0, 0.3));\n",
              "      fill: #FFFFFF;\n",
              "    }\n",
              "  </style>\n",
              "\n",
              "      <script>\n",
              "        const buttonEl =\n",
              "          document.querySelector('#df-6066fdc0-69a2-445e-a65f-8b2d5165d7e9 button.colab-df-convert');\n",
              "        buttonEl.style.display =\n",
              "          google.colab.kernel.accessAllowed ? 'block' : 'none';\n",
              "\n",
              "        async function convertToInteractive(key) {\n",
              "          const element = document.querySelector('#df-6066fdc0-69a2-445e-a65f-8b2d5165d7e9');\n",
              "          const dataTable =\n",
              "            await google.colab.kernel.invokeFunction('convertToInteractive',\n",
              "                                                     [key], {});\n",
              "          if (!dataTable) return;\n",
              "\n",
              "          const docLinkHtml = 'Like what you see? Visit the ' +\n",
              "            '<a target=\"_blank\" href=https://colab.research.google.com/notebooks/data_table.ipynb>data table notebook</a>'\n",
              "            + ' to learn more about interactive tables.';\n",
              "          element.innerHTML = '';\n",
              "          dataTable['output_type'] = 'display_data';\n",
              "          await google.colab.output.renderOutput(dataTable, element);\n",
              "          const docLink = document.createElement('div');\n",
              "          docLink.innerHTML = docLinkHtml;\n",
              "          element.appendChild(docLink);\n",
              "        }\n",
              "      </script>\n",
              "    </div>\n",
              "  </div>\n"
            ]
          },
          "metadata": {},
          "execution_count": 54
        }
      ],
      "source": [
        "df = pd.read_csv(\"zinc_100k.smi\",sep=\" \",header=None)\n",
        "df.columns=[\"SMILES\",\"Name\"]\n",
        "rows,cols = df.shape\n",
        "df[\"Val\"] = [0] * rows # 피처화를 위한 빈 자리\n",
        "df.head()"
      ]
    },
    {
      "cell_type": "code",
      "execution_count": 55,
      "metadata": {
        "id": "J_VKtsqoF3ax"
      },
      "outputs": [],
      "source": [
        "infile_name = \"zinc_filtered.csv\"\n",
        "df.to_csv(infile_name,index=False)"
      ]
    },
    {
      "cell_type": "markdown",
      "metadata": {
        "id": "oDXtw2sBHohF"
      },
      "source": [
        "- CSV 파일을 읽어온다\n",
        "- dataset을 만든후 모델을 사용하기 위해서 피처화를 수행한다\n",
        " - ConvMolFeaturizer 사용\n",
        "- 시간이 오래걸린다 (7분)"
      ]
    },
    {
      "cell_type": "code",
      "execution_count": 56,
      "metadata": {
        "id": "i32zwV_DF9Sy"
      },
      "outputs": [],
      "source": [
        "loader = dc.data.CSVLoader(tasks=['Val'], feature_field=\"SMILES\", featurizer=featurizer)\n",
        "dataset = loader.create_dataset(infile_name, shard_size=8192)\n",
        "pred = model.predict(dataset)"
      ]
    },
    {
      "cell_type": "markdown",
      "metadata": {
        "id": "HGGxDSX6H6J9"
      },
      "source": [
        "- 활성화와 비활성화를 구분하기 위해서 점수를 시각화 한다\n",
        "- SMILES와 예측값이 있는 데이터프레임을 합친다\n",
        "- 예측값이 높은 분자를 살펴본다\n",
        " - 아래 그림에서 0.3 이상을 선택하겠다"
      ]
    },
    {
      "cell_type": "code",
      "execution_count": 57,
      "metadata": {
        "colab": {
          "base_uri": "https://localhost:8080/",
          "height": 524
        },
        "id": "lMnBaFNPGEFH",
        "outputId": "223fb629-437e-43d8-8b44-f056d715ff43"
      },
      "outputs": [
        {
          "output_type": "execute_result",
          "data": {
            "text/plain": [
              "<seaborn.axisgrid.FacetGrid at 0x79c3aac47310>"
            ]
          },
          "metadata": {},
          "execution_count": 57
        },
        {
          "output_type": "display_data",
          "data": {
            "text/plain": [
              "<Figure size 500x500 with 1 Axes>"
            ],
            "image/png": "[encoded data removed]"
          },
          "metadata": {
            "image/png": {
              "width": 490,
              "height": 489
            }
          }
        }
      ],
      "source": [
        "pred_df = pd.DataFrame([x.flatten() for x in pred],columns=[\"Neg\",\"Pos\"])\n",
        "sns.displot(x=pred_df.Pos,kind=\"kde\",rug=True)\n"
      ]
    },
    {
      "cell_type": "code",
      "execution_count": 58,
      "metadata": {
        "id": "aRE_GxpTGJxf"
      },
      "outputs": [],
      "source": [
        "combo_df = df.join(pred_df,how=\"outer\")\n",
        "combo_df.sort_values(\"Pos\",inplace=True,ascending=False)"
      ]
    },
    {
      "cell_type": "code",
      "execution_count": 59,
      "metadata": {
        "collapsed": true,
        "id": "33dg10-TGO_l",
        "outputId": "84acdad2-6db8-4bc9-dd1f-aab15801e2d5",
        "colab": {
          "base_uri": "https://localhost:8080/",
          "height": 337
        }
      },
      "outputs": [
        {
          "output_type": "execute_result",
          "data": {
            "text/plain": [
              "                                                 SMILES              Name  \\\n",
              "1998  OCCNc1ncnc2c1ncn2[C@H]1O[C@@H](CO)[C@@H](O)[C@...  ZINC000004722772   \n",
              "2000  OCCNc1ncnc2c1ncn2[C@@H]1O[C@@H](CO)[C@@H](O)[C...  ZINC000004722774   \n",
              "1999  OCCNc1ncnc2c1ncn2[C@@H]1O[C@@H](CO)[C@@H](O)[C...  ZINC000004722773   \n",
              "1819  OCCNc1ncnc2c1ncn2[C@H]1O[C@@H](CO)[C@@H](O)[C@...  ZINC000001685071   \n",
              "309   OCCNc1ncnc2c1ncn2[C@@H]1O[C@H](CO)[C@@H](O)[C@...  ZINC000006119248   \n",
              "\n",
              "      Val       Neg       Pos  \\\n",
              "1998    0  0.278743  0.721257   \n",
              "2000    0  0.278743  0.721257   \n",
              "1999    0  0.278744  0.721256   \n",
              "1819    0  0.278744  0.721256   \n",
              "309     0  0.278744  0.721256   \n",
              "\n",
              "                                                   Mol  \n",
              "1998  <rdkit.Chem.rdchem.Mol object at 0x79c2ac6dd0e0>  \n",
              "2000  <rdkit.Chem.rdchem.Mol object at 0x79c2ac6dd230>  \n",
              "1999  <rdkit.Chem.rdchem.Mol object at 0x79c2ac6dd2a0>  \n",
              "1819  <rdkit.Chem.rdchem.Mol object at 0x79c2ac6dd380>  \n",
              "309   <rdkit.Chem.rdchem.Mol object at 0x79c2ac6dd460>  "
            ],
            "text/html": [
              "\n",
              "\n",
              "  <div id=\"df-93d4359c-ebe7-4e42-87fb-97298b19e54f\">\n",
              "    <div class=\"colab-df-container\">\n",
              "      <div>\n",
              "<style scoped>\n",
              "    .dataframe tbody tr th:only-of-type {\n",
              "        vertical-align: middle;\n",
              "    }\n",
              "\n",
              "    .dataframe tbody tr th {\n",
              "        vertical-align: top;\n",
              "    }\n",
              "\n",
              "    .dataframe thead th {\n",
              "        text-align: right;\n",
              "    }\n",
              "</style>\n",
              "<table border=\"1\" class=\"dataframe\">\n",
              "  <thead>\n",
              "    <tr style=\"text-align: right;\">\n",
              "      <th></th>\n",
              "      <th>SMILES</th>\n",
              "      <th>Name</th>\n",
              "      <th>Val</th>\n",
              "      <th>Neg</th>\n",
              "      <th>Pos</th>\n",
              "      <th>Mol</th>\n",
              "    </tr>\n",
              "  </thead>\n",
              "  <tbody>\n",
              "    <tr>\n",
              "      <th>1998</th>\n",
              "      <td>OCCNc1ncnc2c1ncn2[C@H]1O[C@@H](CO)[C@@H](O)[C@...</td>\n",
              "      <td>ZINC000004722772</td>\n",
              "      <td>0</td>\n",
              "      <td>0.278743</td>\n",
              "      <td>0.721257</td>\n",
              "      <td>&lt;rdkit.Chem.rdchem.Mol object at 0x79c2ac6dd0e0&gt;</td>\n",
              "    </tr>\n",
              "    <tr>\n",
              "      <th>2000</th>\n",
              "      <td>OCCNc1ncnc2c1ncn2[C@@H]1O[C@@H](CO)[C@@H](O)[C...</td>\n",
              "      <td>ZINC000004722774</td>\n",
              "      <td>0</td>\n",
              "      <td>0.278743</td>\n",
              "      <td>0.721257</td>\n",
              "      <td>&lt;rdkit.Chem.rdchem.Mol object at 0x79c2ac6dd230&gt;</td>\n",
              "    </tr>\n",
              "    <tr>\n",
              "      <th>1999</th>\n",
              "      <td>OCCNc1ncnc2c1ncn2[C@@H]1O[C@@H](CO)[C@@H](O)[C...</td>\n",
              "      <td>ZINC000004722773</td>\n",
              "      <td>0</td>\n",
              "      <td>0.278744</td>\n",
              "      <td>0.721256</td>\n",
              "      <td>&lt;rdkit.Chem.rdchem.Mol object at 0x79c2ac6dd2a0&gt;</td>\n",
              "    </tr>\n",
              "    <tr>\n",
              "      <th>1819</th>\n",
              "      <td>OCCNc1ncnc2c1ncn2[C@H]1O[C@@H](CO)[C@@H](O)[C@...</td>\n",
              "      <td>ZINC000001685071</td>\n",
              "      <td>0</td>\n",
              "      <td>0.278744</td>\n",
              "      <td>0.721256</td>\n",
              "      <td>&lt;rdkit.Chem.rdchem.Mol object at 0x79c2ac6dd380&gt;</td>\n",
              "    </tr>\n",
              "    <tr>\n",
              "      <th>309</th>\n",
              "      <td>OCCNc1ncnc2c1ncn2[C@@H]1O[C@H](CO)[C@@H](O)[C@...</td>\n",
              "      <td>ZINC000006119248</td>\n",
              "      <td>0</td>\n",
              "      <td>0.278744</td>\n",
              "      <td>0.721256</td>\n",
              "      <td>&lt;rdkit.Chem.rdchem.Mol object at 0x79c2ac6dd460&gt;</td>\n",
              "    </tr>\n",
              "  </tbody>\n",
              "</table>\n",
              "</div>\n",
              "      <button class=\"colab-df-convert\" onclick=\"convertToInteractive('df-93d4359c-ebe7-4e42-87fb-97298b19e54f')\"\n",
              "              title=\"Convert this dataframe to an interactive table.\"\n",
              "              style=\"display:none;\">\n",
              "\n",
              "  <svg xmlns=\"http://www.w3.org/2000/svg\" height=\"24px\"viewBox=\"0 0 24 24\"\n",
              "       width=\"24px\">\n",
              "    <path d=\"M0 0h24v24H0V0z\" fill=\"none\"/>\n",
              "    <path d=\"M18.56 5.44l.94 2.06.94-2.06 2.06-.94-2.06-.94-.94-2.06-.94 2.06-2.06.94zm-11 1L8.5 8.5l.94-2.06 2.06-.94-2.06-.94L8.5 2.5l-.94 2.06-2.06.94zm10 10l.94 2.06.94-2.06 2.06-.94-2.06-.94-.94-2.06-.94 2.06-2.06.94z\"/><path d=\"M17.41 7.96l-1.37-1.37c-.4-.4-.92-.59-1.43-.59-.52 0-1.04.2-1.43.59L10.3 9.45l-7.72 7.72c-.78.78-.78 2.05 0 2.83L4 21.41c.39.39.9.59 1.41.59.51 0 1.02-.2 1.41-.59l7.78-7.78 2.81-2.81c.8-.78.8-2.07 0-2.86zM5.41 20L4 18.59l7.72-7.72 1.47 1.35L5.41 20z\"/>\n",
              "  </svg>\n",
              "      </button>\n",
              "\n",
              "\n",
              "\n",
              "    <div id=\"df-2242f2bb-866b-4381-83a1-96a8cf9739e9\">\n",
              "      <button class=\"colab-df-quickchart\" onclick=\"quickchart('df-2242f2bb-866b-4381-83a1-96a8cf9739e9')\"\n",
              "              title=\"Suggest charts.\"\n",
              "              style=\"display:none;\">\n",
              "\n",
              "<svg xmlns=\"http://www.w3.org/2000/svg\" height=\"24px\"viewBox=\"0 0 24 24\"\n",
              "     width=\"24px\">\n",
              "    <g>\n",
              "        <path d=\"M19 3H5c-1.1 0-2 .9-2 2v14c0 1.1.9 2 2 2h14c1.1 0 2-.9 2-2V5c0-1.1-.9-2-2-2zM9 17H7v-7h2v7zm4 0h-2V7h2v10zm4 0h-2v-4h2v4z\"/>\n",
              "    </g>\n",
              "</svg>\n",
              "      </button>\n",
              "    </div>\n",
              "\n",
              "<style>\n",
              "  .colab-df-quickchart {\n",
              "    background-color: #E8F0FE;\n",
              "    border: none;\n",
              "    border-radius: 50%;\n",
              "    cursor: pointer;\n",
              "    display: none;\n",
              "    fill: #1967D2;\n",
              "    height: 32px;\n",
              "    padding: 0 0 0 0;\n",
              "    width: 32px;\n",
              "  }\n",
              "\n",
              "  .colab-df-quickchart:hover {\n",
              "    background-color: #E2EBFA;\n",
              "    box-shadow: 0px 1px 2px rgba(60, 64, 67, 0.3), 0px 1px 3px 1px rgba(60, 64, 67, 0.15);\n",
              "    fill: #174EA6;\n",
              "  }\n",
              "\n",
              "  [theme=dark] .colab-df-quickchart {\n",
              "    background-color: #3B4455;\n",
              "    fill: #D2E3FC;\n",
              "  }\n",
              "\n",
              "  [theme=dark] .colab-df-quickchart:hover {\n",
              "    background-color: #434B5C;\n",
              "    box-shadow: 0px 1px 3px 1px rgba(0, 0, 0, 0.15);\n",
              "    filter: drop-shadow(0px 1px 2px rgba(0, 0, 0, 0.3));\n",
              "    fill: #FFFFFF;\n",
              "  }\n",
              "</style>\n",
              "\n",
              "    <script>\n",
              "      async function quickchart(key) {\n",
              "        const containerElement = document.querySelector('#' + key);\n",
              "        const charts = await google.colab.kernel.invokeFunction(\n",
              "            'suggestCharts', [key], {});\n",
              "      }\n",
              "    </script>\n",
              "\n",
              "      <script>\n",
              "\n",
              "function displayQuickchartButton(domScope) {\n",
              "  let quickchartButtonEl =\n",
              "    domScope.querySelector('#df-2242f2bb-866b-4381-83a1-96a8cf9739e9 button.colab-df-quickchart');\n",
              "  quickchartButtonEl.style.display =\n",
              "    google.colab.kernel.accessAllowed ? 'block' : 'none';\n",
              "}\n",
              "\n",
              "        displayQuickchartButton(document);\n",
              "      </script>\n",
              "      <style>\n",
              "    .colab-df-container {\n",
              "      display:flex;\n",
              "      flex-wrap:wrap;\n",
              "      gap: 12px;\n",
              "    }\n",
              "\n",
              "    .colab-df-convert {\n",
              "      background-color: #E8F0FE;\n",
              "      border: none;\n",
              "      border-radius: 50%;\n",
              "      cursor: pointer;\n",
              "      display: none;\n",
              "      fill: #1967D2;\n",
              "      height: 32px;\n",
              "      padding: 0 0 0 0;\n",
              "      width: 32px;\n",
              "    }\n",
              "\n",
              "    .colab-df-convert:hover {\n",
              "      background-color: #E2EBFA;\n",
              "      box-shadow: 0px 1px 2px rgba(60, 64, 67, 0.3), 0px 1px 3px 1px rgba(60, 64, 67, 0.15);\n",
              "      fill: #174EA6;\n",
              "    }\n",
              "\n",
              "    [theme=dark] .colab-df-convert {\n",
              "      background-color: #3B4455;\n",
              "      fill: #D2E3FC;\n",
              "    }\n",
              "\n",
              "    [theme=dark] .colab-df-convert:hover {\n",
              "      background-color: #434B5C;\n",
              "      box-shadow: 0px 1px 3px 1px rgba(0, 0, 0, 0.15);\n",
              "      filter: drop-shadow(0px 1px 2px rgba(0, 0, 0, 0.3));\n",
              "      fill: #FFFFFF;\n",
              "    }\n",
              "  </style>\n",
              "\n",
              "      <script>\n",
              "        const buttonEl =\n",
              "          document.querySelector('#df-93d4359c-ebe7-4e42-87fb-97298b19e54f button.colab-df-convert');\n",
              "        buttonEl.style.display =\n",
              "          google.colab.kernel.accessAllowed ? 'block' : 'none';\n",
              "\n",
              "        async function convertToInteractive(key) {\n",
              "          const element = document.querySelector('#df-93d4359c-ebe7-4e42-87fb-97298b19e54f');\n",
              "          const dataTable =\n",
              "            await google.colab.kernel.invokeFunction('convertToInteractive',\n",
              "                                                     [key], {});\n",
              "          if (!dataTable) return;\n",
              "\n",
              "          const docLinkHtml = 'Like what you see? Visit the ' +\n",
              "            '<a target=\"_blank\" href=https://colab.research.google.com/notebooks/data_table.ipynb>data table notebook</a>'\n",
              "            + ' to learn more about interactive tables.';\n",
              "          element.innerHTML = '';\n",
              "          dataTable['output_type'] = 'display_data';\n",
              "          await google.colab.output.renderOutput(dataTable, element);\n",
              "          const docLink = document.createElement('div');\n",
              "          docLink.innerHTML = docLinkHtml;\n",
              "          element.appendChild(docLink);\n",
              "        }\n",
              "      </script>\n",
              "    </div>\n",
              "  </div>\n"
            ]
          },
          "metadata": {},
          "execution_count": 59
        }
      ],
      "source": [
        "PandasTools.AddMoleculeColumnToFrame(combo_df,\"SMILES\",\"Mol\")\n",
        "combo_df.head()"
      ]
    },
    {
      "cell_type": "code",
      "execution_count": 60,
      "metadata": {
        "colab": {
          "base_uri": "https://localhost:8080/",
          "height": 349
        },
        "id": "KdPlhNsjGS16",
        "outputId": "031538bd-ea4f-46c5-98b2-b4b3d6c34ed0"
      },
      "outputs": [
        {
          "output_type": "execute_result",
          "data": {
            "image/png": "[encoded data removed]",
            "text/plain": [
              "<IPython.core.display.Image object>"
            ]
          },
          "metadata": {},
          "execution_count": 60
        }
      ],
      "source": [
        "Draw.MolsToGridImage(combo_df.Mol[:10],molsPerRow=5,legends=[\"%.2f\" % x for x in combo_df.Pos[:10]])\n"
      ]
    },
    {
      "cell_type": "markdown",
      "metadata": {
        "id": "yAZVrUJGITTy"
      },
      "source": [
        "- 예측값이 높는 분자들의 모양이 비슷한 것을 알 수 있다\n",
        "- 중복되는 것을 피하기 위해서 군집화를 수행한다\n",
        " - 화학적 유사성을 사용하는 Butina 군집화를 사용하겠다\n",
        " - 군집화를 하려면 기준값을 주어야 한다 (아래에서 Tanimoto 유사도 > 0.35)"
      ]
    },
    {
      "cell_type": "code",
      "execution_count": 61,
      "metadata": {
        "id": "ORtV-sBeGZ6A"
      },
      "outputs": [],
      "source": [
        "def butina_cluster(mol_list,cutoff=0.35):\n",
        "    fp_list = [rdmd.GetMorganFingerprintAsBitVect(m, 3, nBits=2048) for m in mol_list]\n",
        "    dists = []\n",
        "    nfps = len(fp_list)\n",
        "    for i in range(1,nfps):\n",
        "        sims = DataStructs.BulkTanimotoSimilarity(fp_list[i],fp_list[:i])\n",
        "        dists.extend([1-x for x in sims])\n",
        "    mol_clusters = Butina.ClusterData(dists,nfps,cutoff,isDistData=True)\n",
        "    cluster_id_list = [0]*nfps\n",
        "    for idx,cluster in enumerate(mol_clusters,1):\n",
        "        for member in cluster:\n",
        "            cluster_id_list[member] = idx\n",
        "    return cluster_id_list"
      ]
    },
    {
      "cell_type": "code",
      "execution_count": 62,
      "metadata": {
        "colab": {
          "base_uri": "https://localhost:8080/",
          "height": 444
        },
        "id": "fHc2FoN-GchK",
        "outputId": "2e2ba953-8ba6-48c6-b5f3-13d734f7eba2"
      },
      "outputs": [
        {
          "output_type": "execute_result",
          "data": {
            "text/plain": [
              "                                                 SMILES              Name  \\\n",
              "1998  OCCNc1ncnc2c1ncn2[C@H]1O[C@@H](CO)[C@@H](O)[C@...  ZINC000004722772   \n",
              "2000  OCCNc1ncnc2c1ncn2[C@@H]1O[C@@H](CO)[C@@H](O)[C...  ZINC000004722774   \n",
              "1999  OCCNc1ncnc2c1ncn2[C@@H]1O[C@@H](CO)[C@@H](O)[C...  ZINC000004722773   \n",
              "1819  OCCNc1ncnc2c1ncn2[C@H]1O[C@@H](CO)[C@@H](O)[C@...  ZINC000001685071   \n",
              "309   OCCNc1ncnc2c1ncn2[C@@H]1O[C@H](CO)[C@@H](O)[C@...  ZINC000006119248   \n",
              "\n",
              "      Val       Neg       Pos  \\\n",
              "1998    0  0.278743  0.721257   \n",
              "2000    0  0.278743  0.721257   \n",
              "1999    0  0.278744  0.721256   \n",
              "1819    0  0.278744  0.721256   \n",
              "309     0  0.278744  0.721256   \n",
              "\n",
              "                                                   Mol  Cluster  \n",
              "1998  <rdkit.Chem.rdchem.Mol object at 0x79c2ac6dd0e0>        4  \n",
              "2000  <rdkit.Chem.rdchem.Mol object at 0x79c2ac6dd230>        4  \n",
              "1999  <rdkit.Chem.rdchem.Mol object at 0x79c2ac6dd2a0>        4  \n",
              "1819  <rdkit.Chem.rdchem.Mol object at 0x79c2ac6dd380>        4  \n",
              "309   <rdkit.Chem.rdchem.Mol object at 0x79c2ac6dd460>        4  "
            ],
            "text/html": [
              "\n",
              "\n",
              "  <div id=\"df-90c15919-20a1-4a94-9fb7-6f53394ed346\">\n",
              "    <div class=\"colab-df-container\">\n",
              "      <div>\n",
              "<style scoped>\n",
              "    .dataframe tbody tr th:only-of-type {\n",
              "        vertical-align: middle;\n",
              "    }\n",
              "\n",
              "    .dataframe tbody tr th {\n",
              "        vertical-align: top;\n",
              "    }\n",
              "\n",
              "    .dataframe thead th {\n",
              "        text-align: right;\n",
              "    }\n",
              "</style>\n",
              "<table border=\"1\" class=\"dataframe\">\n",
              "  <thead>\n",
              "    <tr style=\"text-align: right;\">\n",
              "      <th></th>\n",
              "      <th>SMILES</th>\n",
              "      <th>Name</th>\n",
              "      <th>Val</th>\n",
              "      <th>Neg</th>\n",
              "      <th>Pos</th>\n",
              "      <th>Mol</th>\n",
              "      <th>Cluster</th>\n",
              "    </tr>\n",
              "  </thead>\n",
              "  <tbody>\n",
              "    <tr>\n",
              "      <th>1998</th>\n",
              "      <td>OCCNc1ncnc2c1ncn2[C@H]1O[C@@H](CO)[C@@H](O)[C@...</td>\n",
              "      <td>ZINC000004722772</td>\n",
              "      <td>0</td>\n",
              "      <td>0.278743</td>\n",
              "      <td>0.721257</td>\n",
              "      <td>&lt;rdkit.Chem.rdchem.Mol object at 0x79c2ac6dd0e0&gt;</td>\n",
              "      <td>4</td>\n",
              "    </tr>\n",
              "    <tr>\n",
              "      <th>2000</th>\n",
              "      <td>OCCNc1ncnc2c1ncn2[C@@H]1O[C@@H](CO)[C@@H](O)[C...</td>\n",
              "      <td>ZINC000004722774</td>\n",
              "      <td>0</td>\n",
              "      <td>0.278743</td>\n",
              "      <td>0.721257</td>\n",
              "      <td>&lt;rdkit.Chem.rdchem.Mol object at 0x79c2ac6dd230&gt;</td>\n",
              "      <td>4</td>\n",
              "    </tr>\n",
              "    <tr>\n",
              "      <th>1999</th>\n",
              "      <td>OCCNc1ncnc2c1ncn2[C@@H]1O[C@@H](CO)[C@@H](O)[C...</td>\n",
              "      <td>ZINC000004722773</td>\n",
              "      <td>0</td>\n",
              "      <td>0.278744</td>\n",
              "      <td>0.721256</td>\n",
              "      <td>&lt;rdkit.Chem.rdchem.Mol object at 0x79c2ac6dd2a0&gt;</td>\n",
              "      <td>4</td>\n",
              "    </tr>\n",
              "    <tr>\n",
              "      <th>1819</th>\n",
              "      <td>OCCNc1ncnc2c1ncn2[C@H]1O[C@@H](CO)[C@@H](O)[C@...</td>\n",
              "      <td>ZINC000001685071</td>\n",
              "      <td>0</td>\n",
              "      <td>0.278744</td>\n",
              "      <td>0.721256</td>\n",
              "      <td>&lt;rdkit.Chem.rdchem.Mol object at 0x79c2ac6dd380&gt;</td>\n",
              "      <td>4</td>\n",
              "    </tr>\n",
              "    <tr>\n",
              "      <th>309</th>\n",
              "      <td>OCCNc1ncnc2c1ncn2[C@@H]1O[C@H](CO)[C@@H](O)[C@...</td>\n",
              "      <td>ZINC000006119248</td>\n",
              "      <td>0</td>\n",
              "      <td>0.278744</td>\n",
              "      <td>0.721256</td>\n",
              "      <td>&lt;rdkit.Chem.rdchem.Mol object at 0x79c2ac6dd460&gt;</td>\n",
              "      <td>4</td>\n",
              "    </tr>\n",
              "  </tbody>\n",
              "</table>\n",
              "</div>\n",
              "      <button class=\"colab-df-convert\" onclick=\"convertToInteractive('df-90c15919-20a1-4a94-9fb7-6f53394ed346')\"\n",
              "              title=\"Convert this dataframe to an interactive table.\"\n",
              "              style=\"display:none;\">\n",
              "\n",
              "  <svg xmlns=\"http://www.w3.org/2000/svg\" height=\"24px\"viewBox=\"0 0 24 24\"\n",
              "       width=\"24px\">\n",
              "    <path d=\"M0 0h24v24H0V0z\" fill=\"none\"/>\n",
              "    <path d=\"M18.56 5.44l.94 2.06.94-2.06 2.06-.94-2.06-.94-.94-2.06-.94 2.06-2.06.94zm-11 1L8.5 8.5l.94-2.06 2.06-.94-2.06-.94L8.5 2.5l-.94 2.06-2.06.94zm10 10l.94 2.06.94-2.06 2.06-.94-2.06-.94-.94-2.06-.94 2.06-2.06.94z\"/><path d=\"M17.41 7.96l-1.37-1.37c-.4-.4-.92-.59-1.43-.59-.52 0-1.04.2-1.43.59L10.3 9.45l-7.72 7.72c-.78.78-.78 2.05 0 2.83L4 21.41c.39.39.9.59 1.41.59.51 0 1.02-.2 1.41-.59l7.78-7.78 2.81-2.81c.8-.78.8-2.07 0-2.86zM5.41 20L4 18.59l7.72-7.72 1.47 1.35L5.41 20z\"/>\n",
              "  </svg>\n",
              "      </button>\n",
              "\n",
              "\n",
              "\n",
              "    <div id=\"df-ece12e9c-5d79-4dfe-9314-d13a37ea7411\">\n",
              "      <button class=\"colab-df-quickchart\" onclick=\"quickchart('df-ece12e9c-5d79-4dfe-9314-d13a37ea7411')\"\n",
              "              title=\"Suggest charts.\"\n",
              "              style=\"display:none;\">\n",
              "\n",
              "<svg xmlns=\"http://www.w3.org/2000/svg\" height=\"24px\"viewBox=\"0 0 24 24\"\n",
              "     width=\"24px\">\n",
              "    <g>\n",
              "        <path d=\"M19 3H5c-1.1 0-2 .9-2 2v14c0 1.1.9 2 2 2h14c1.1 0 2-.9 2-2V5c0-1.1-.9-2-2-2zM9 17H7v-7h2v7zm4 0h-2V7h2v10zm4 0h-2v-4h2v4z\"/>\n",
              "    </g>\n",
              "</svg>\n",
              "      </button>\n",
              "    </div>\n",
              "\n",
              "<style>\n",
              "  .colab-df-quickchart {\n",
              "    background-color: #E8F0FE;\n",
              "    border: none;\n",
              "    border-radius: 50%;\n",
              "    cursor: pointer;\n",
              "    display: none;\n",
              "    fill: #1967D2;\n",
              "    height: 32px;\n",
              "    padding: 0 0 0 0;\n",
              "    width: 32px;\n",
              "  }\n",
              "\n",
              "  .colab-df-quickchart:hover {\n",
              "    background-color: #E2EBFA;\n",
              "    box-shadow: 0px 1px 2px rgba(60, 64, 67, 0.3), 0px 1px 3px 1px rgba(60, 64, 67, 0.15);\n",
              "    fill: #174EA6;\n",
              "  }\n",
              "\n",
              "  [theme=dark] .colab-df-quickchart {\n",
              "    background-color: #3B4455;\n",
              "    fill: #D2E3FC;\n",
              "  }\n",
              "\n",
              "  [theme=dark] .colab-df-quickchart:hover {\n",
              "    background-color: #434B5C;\n",
              "    box-shadow: 0px 1px 3px 1px rgba(0, 0, 0, 0.15);\n",
              "    filter: drop-shadow(0px 1px 2px rgba(0, 0, 0, 0.3));\n",
              "    fill: #FFFFFF;\n",
              "  }\n",
              "</style>\n",
              "\n",
              "    <script>\n",
              "      async function quickchart(key) {\n",
              "        const containerElement = document.querySelector('#' + key);\n",
              "        const charts = await google.colab.kernel.invokeFunction(\n",
              "            'suggestCharts', [key], {});\n",
              "      }\n",
              "    </script>\n",
              "\n",
              "      <script>\n",
              "\n",
              "function displayQuickchartButton(domScope) {\n",
              "  let quickchartButtonEl =\n",
              "    domScope.querySelector('#df-ece12e9c-5d79-4dfe-9314-d13a37ea7411 button.colab-df-quickchart');\n",
              "  quickchartButtonEl.style.display =\n",
              "    google.colab.kernel.accessAllowed ? 'block' : 'none';\n",
              "}\n",
              "\n",
              "        displayQuickchartButton(document);\n",
              "      </script>\n",
              "      <style>\n",
              "    .colab-df-container {\n",
              "      display:flex;\n",
              "      flex-wrap:wrap;\n",
              "      gap: 12px;\n",
              "    }\n",
              "\n",
              "    .colab-df-convert {\n",
              "      background-color: #E8F0FE;\n",
              "      border: none;\n",
              "      border-radius: 50%;\n",
              "      cursor: pointer;\n",
              "      display: none;\n",
              "      fill: #1967D2;\n",
              "      height: 32px;\n",
              "      padding: 0 0 0 0;\n",
              "      width: 32px;\n",
              "    }\n",
              "\n",
              "    .colab-df-convert:hover {\n",
              "      background-color: #E2EBFA;\n",
              "      box-shadow: 0px 1px 2px rgba(60, 64, 67, 0.3), 0px 1px 3px 1px rgba(60, 64, 67, 0.15);\n",
              "      fill: #174EA6;\n",
              "    }\n",
              "\n",
              "    [theme=dark] .colab-df-convert {\n",
              "      background-color: #3B4455;\n",
              "      fill: #D2E3FC;\n",
              "    }\n",
              "\n",
              "    [theme=dark] .colab-df-convert:hover {\n",
              "      background-color: #434B5C;\n",
              "      box-shadow: 0px 1px 3px 1px rgba(0, 0, 0, 0.15);\n",
              "      filter: drop-shadow(0px 1px 2px rgba(0, 0, 0, 0.3));\n",
              "      fill: #FFFFFF;\n",
              "    }\n",
              "  </style>\n",
              "\n",
              "      <script>\n",
              "        const buttonEl =\n",
              "          document.querySelector('#df-90c15919-20a1-4a94-9fb7-6f53394ed346 button.colab-df-convert');\n",
              "        buttonEl.style.display =\n",
              "          google.colab.kernel.accessAllowed ? 'block' : 'none';\n",
              "\n",
              "        async function convertToInteractive(key) {\n",
              "          const element = document.querySelector('#df-90c15919-20a1-4a94-9fb7-6f53394ed346');\n",
              "          const dataTable =\n",
              "            await google.colab.kernel.invokeFunction('convertToInteractive',\n",
              "                                                     [key], {});\n",
              "          if (!dataTable) return;\n",
              "\n",
              "          const docLinkHtml = 'Like what you see? Visit the ' +\n",
              "            '<a target=\"_blank\" href=https://colab.research.google.com/notebooks/data_table.ipynb>data table notebook</a>'\n",
              "            + ' to learn more about interactive tables.';\n",
              "          element.innerHTML = '';\n",
              "          dataTable['output_type'] = 'display_data';\n",
              "          await google.colab.output.renderOutput(dataTable, element);\n",
              "          const docLink = document.createElement('div');\n",
              "          docLink.innerHTML = docLinkHtml;\n",
              "          element.appendChild(docLink);\n",
              "        }\n",
              "      </script>\n",
              "    </div>\n",
              "  </div>\n"
            ]
          },
          "metadata": {},
          "execution_count": 62
        }
      ],
      "source": [
        "best_100_df = combo_df.head(100).copy()\n",
        "best_100_df[\"Cluster\"] = butina_cluster(best_100_df.Mol)\n",
        "best_100_df[:5]"
      ]
    },
    {
      "cell_type": "code",
      "execution_count": 63,
      "metadata": {
        "colab": {
          "base_uri": "https://localhost:8080/"
        },
        "id": "M-fIqQtgGh9E",
        "outputId": "8d133570-b274-4919-b640-1be9c8fefc01"
      },
      "outputs": [
        {
          "output_type": "execute_result",
          "data": {
            "text/plain": [
              "(49, 7)"
            ]
          },
          "metadata": {},
          "execution_count": 63
        }
      ],
      "source": [
        "len(best_100_df.Cluster.unique())\n",
        "best_cluster_rep_df = best_100_df.drop_duplicates(\"Cluster\")\n",
        "best_cluster_rep_df.shape"
      ]
    },
    {
      "cell_type": "markdown",
      "metadata": {
        "id": "Uw4RMOGhgHm_"
      },
      "source": [
        "- 결과를 파일로 저장하기"
      ]
    },
    {
      "cell_type": "code",
      "execution_count": 64,
      "metadata": {
        "id": "EWzpTHO2GnzB"
      },
      "outputs": [],
      "source": [
        "best_cluster_rep_df.to_csv(\"best_cluster_represenatives.csv\")"
      ]
    }
  ],
  "metadata": {
    "accelerator": "GPU",
    "colab": {
      "provenance": [],
      "toc_visible": true
    },
    "kernelspec": {
      "display_name": "Python 3",
      "language": "python",
      "name": "python3"
    },
    "language_info": {
      "codemirror_mode": {
        "name": "ipython",
        "version": 3
      },
      "file_extension": ".py",
      "mimetype": "text/x-python",
      "name": "python",
      "nbconvert_exporter": "python",
      "pygments_lexer": "ipython3",
      "version": "3.8.8"
    },
    "toc": {
      "base_numbering": 1,
      "nav_menu": {},
      "number_sections": false,
      "sideBar": true,
      "skip_h1_title": false,
      "title_cell": "Table of Contents",
      "title_sidebar": "Contents",
      "toc_cell": false,
      "toc_position": {},
      "toc_section_display": true,
      "toc_window_display": true
    },
    "widgets": {
      "application/vnd.jupyter.widget-state+json": {
        "19a9a72be8624323885add5609b4cfaf": {
          "model_module": "@jupyter-widgets/controls",
          "model_name": "HBoxModel",
          "model_module_version": "1.5.0",
          "state": {
            "_dom_classes": [],
            "_model_module": "@jupyter-widgets/controls",
            "_model_module_version": "1.5.0",
            "_model_name": "HBoxModel",
            "_view_count": null,
            "_view_module": "@jupyter-widgets/controls",
            "_view_module_version": "1.5.0",
            "_view_name": "HBoxView",
            "box_style": "",
            "children": [
              "IPY_MODEL_5520786526e34414904cefb8d9777640",
              "IPY_MODEL_41900eab09114eec9ef818f46f50a3e3",
              "IPY_MODEL_4bb1628e25ee4375ac0e70bbb2d3de9c"
            ],
            "layout": "IPY_MODEL_addf9798861d43b9a6ab635129824389"
          }
        },
        "5520786526e34414904cefb8d9777640": {
          "model_module": "@jupyter-widgets/controls",
          "model_name": "HTMLModel",
          "model_module_version": "1.5.0",
          "state": {
            "_dom_classes": [],
            "_model_module": "@jupyter-widgets/controls",
            "_model_module_version": "1.5.0",
            "_model_name": "HTMLModel",
            "_view_count": null,
            "_view_module": "@jupyter-widgets/controls",
            "_view_module_version": "1.5.0",
            "_view_name": "HTMLView",
            "description": "",
            "description_tooltip": null,
            "layout": "IPY_MODEL_e3b2dd113f7649089b3746a49232a231",
            "placeholder": "​",
            "style": "IPY_MODEL_6224e68de939443f9b1a7b717c2dc796",
            "value": "100%"
          }
        },
        "41900eab09114eec9ef818f46f50a3e3": {
          "model_module": "@jupyter-widgets/controls",
          "model_name": "FloatProgressModel",
          "model_module_version": "1.5.0",
          "state": {
            "_dom_classes": [],
            "_model_module": "@jupyter-widgets/controls",
            "_model_module_version": "1.5.0",
            "_model_name": "FloatProgressModel",
            "_view_count": null,
            "_view_module": "@jupyter-widgets/controls",
            "_view_module_version": "1.5.0",
            "_view_name": "ProgressView",
            "bar_style": "success",
            "description": "",
            "description_tooltip": null,
            "layout": "IPY_MODEL_29403c9e4ba34f7e9f346c9e8c3f7e92",
            "max": 5,
            "min": 0,
            "orientation": "horizontal",
            "style": "IPY_MODEL_b69f3a9a497744ec876d789759dd0238",
            "value": 5
          }
        },
        "4bb1628e25ee4375ac0e70bbb2d3de9c": {
          "model_module": "@jupyter-widgets/controls",
          "model_name": "HTMLModel",
          "model_module_version": "1.5.0",
          "state": {
            "_dom_classes": [],
            "_model_module": "@jupyter-widgets/controls",
            "_model_module_version": "1.5.0",
            "_model_name": "HTMLModel",
            "_view_count": null,
            "_view_module": "@jupyter-widgets/controls",
            "_view_module_version": "1.5.0",
            "_view_name": "HTMLView",
            "description": "",
            "description_tooltip": null,
            "layout": "IPY_MODEL_c1f6a97df0e742ef9413405a6f694e54",
            "placeholder": "​",
            "style": "IPY_MODEL_bdee7671d9f34e9684058f5a2cd7b6cd",
            "value": " 5/5 [03:18&lt;00:00, 37.10s/it]"
          }
        },
        "addf9798861d43b9a6ab635129824389": {
          "model_module": "@jupyter-widgets/base",
          "model_name": "LayoutModel",
          "model_module_version": "1.2.0",
          "state": {
            "_model_module": "@jupyter-widgets/base",
            "_model_module_version": "1.2.0",
            "_model_name": "LayoutModel",
            "_view_count": null,
            "_view_module": "@jupyter-widgets/base",
            "_view_module_version": "1.2.0",
            "_view_name": "LayoutView",
            "align_content": null,
            "align_items": null,
            "align_self": null,
            "border": null,
            "bottom": null,
            "display": null,
            "flex": null,
            "flex_flow": null,
            "grid_area": null,
            "grid_auto_columns": null,
            "grid_auto_flow": null,
            "grid_auto_rows": null,
            "grid_column": null,
            "grid_gap": null,
            "grid_row": null,
            "grid_template_areas": null,
            "grid_template_columns": null,
            "grid_template_rows": null,
            "height": null,
            "justify_content": null,
            "justify_items": null,
            "left": null,
            "margin": null,
            "max_height": null,
            "max_width": null,
            "min_height": null,
            "min_width": null,
            "object_fit": null,
            "object_position": null,
            "order": null,
            "overflow": null,
            "overflow_x": null,
            "overflow_y": null,
            "padding": null,
            "right": null,
            "top": null,
            "visibility": null,
            "width": null
          }
        },
        "e3b2dd113f7649089b3746a49232a231": {
          "model_module": "@jupyter-widgets/base",
          "model_name": "LayoutModel",
          "model_module_version": "1.2.0",
          "state": {
            "_model_module": "@jupyter-widgets/base",
            "_model_module_version": "1.2.0",
            "_model_name": "LayoutModel",
            "_view_count": null,
            "_view_module": "@jupyter-widgets/base",
            "_view_module_version": "1.2.0",
            "_view_name": "LayoutView",
            "align_content": null,
            "align_items": null,
            "align_self": null,
            "border": null,
            "bottom": null,
            "display": null,
            "flex": null,
            "flex_flow": null,
            "grid_area": null,
            "grid_auto_columns": null,
            "grid_auto_flow": null,
            "grid_auto_rows": null,
            "grid_column": null,
            "grid_gap": null,
            "grid_row": null,
            "grid_template_areas": null,
            "grid_template_columns": null,
            "grid_template_rows": null,
            "height": null,
            "justify_content": null,
            "justify_items": null,
            "left": null,
            "margin": null,
            "max_height": null,
            "max_width": null,
            "min_height": null,
            "min_width": null,
            "object_fit": null,
            "object_position": null,
            "order": null,
            "overflow": null,
            "overflow_x": null,
            "overflow_y": null,
            "padding": null,
            "right": null,
            "top": null,
            "visibility": null,
            "width": null
          }
        },
        "6224e68de939443f9b1a7b717c2dc796": {
          "model_module": "@jupyter-widgets/controls",
          "model_name": "DescriptionStyleModel",
          "model_module_version": "1.5.0",
          "state": {
            "_model_module": "@jupyter-widgets/controls",
            "_model_module_version": "1.5.0",
            "_model_name": "DescriptionStyleModel",
            "_view_count": null,
            "_view_module": "@jupyter-widgets/base",
            "_view_module_version": "1.2.0",
            "_view_name": "StyleView",
            "description_width": ""
          }
        },
        "29403c9e4ba34f7e9f346c9e8c3f7e92": {
          "model_module": "@jupyter-widgets/base",
          "model_name": "LayoutModel",
          "model_module_version": "1.2.0",
          "state": {
            "_model_module": "@jupyter-widgets/base",
            "_model_module_version": "1.2.0",
            "_model_name": "LayoutModel",
            "_view_count": null,
            "_view_module": "@jupyter-widgets/base",
            "_view_module_version": "1.2.0",
            "_view_name": "LayoutView",
            "align_content": null,
            "align_items": null,
            "align_self": null,
            "border": null,
            "bottom": null,
            "display": null,
            "flex": null,
            "flex_flow": null,
            "grid_area": null,
            "grid_auto_columns": null,
            "grid_auto_flow": null,
            "grid_auto_rows": null,
            "grid_column": null,
            "grid_gap": null,
            "grid_row": null,
            "grid_template_areas": null,
            "grid_template_columns": null,
            "grid_template_rows": null,
            "height": null,
            "justify_content": null,
            "justify_items": null,
            "left": null,
            "margin": null,
            "max_height": null,
            "max_width": null,
            "min_height": null,
            "min_width": null,
            "object_fit": null,
            "object_position": null,
            "order": null,
            "overflow": null,
            "overflow_x": null,
            "overflow_y": null,
            "padding": null,
            "right": null,
            "top": null,
            "visibility": null,
            "width": null
          }
        },
        "b69f3a9a497744ec876d789759dd0238": {
          "model_module": "@jupyter-widgets/controls",
          "model_name": "ProgressStyleModel",
          "model_module_version": "1.5.0",
          "state": {
            "_model_module": "@jupyter-widgets/controls",
            "_model_module_version": "1.5.0",
            "_model_name": "ProgressStyleModel",
            "_view_count": null,
            "_view_module": "@jupyter-widgets/base",
            "_view_module_version": "1.2.0",
            "_view_name": "StyleView",
            "bar_color": null,
            "description_width": ""
          }
        },
        "c1f6a97df0e742ef9413405a6f694e54": {
          "model_module": "@jupyter-widgets/base",
          "model_name": "LayoutModel",
          "model_module_version": "1.2.0",
          "state": {
            "_model_module": "@jupyter-widgets/base",
            "_model_module_version": "1.2.0",
            "_model_name": "LayoutModel",
            "_view_count": null,
            "_view_module": "@jupyter-widgets/base",
            "_view_module_version": "1.2.0",
            "_view_name": "LayoutView",
            "align_content": null,
            "align_items": null,
            "align_self": null,
            "border": null,
            "bottom": null,
            "display": null,
            "flex": null,
            "flex_flow": null,
            "grid_area": null,
            "grid_auto_columns": null,
            "grid_auto_flow": null,
            "grid_auto_rows": null,
            "grid_column": null,
            "grid_gap": null,
            "grid_row": null,
            "grid_template_areas": null,
            "grid_template_columns": null,
            "grid_template_rows": null,
            "height": null,
            "justify_content": null,
            "justify_items": null,
            "left": null,
            "margin": null,
            "max_height": null,
            "max_width": null,
            "min_height": null,
            "min_width": null,
            "object_fit": null,
            "object_position": null,
            "order": null,
            "overflow": null,
            "overflow_x": null,
            "overflow_y": null,
            "padding": null,
            "right": null,
            "top": null,
            "visibility": null,
            "width": null
          }
        },
        "bdee7671d9f34e9684058f5a2cd7b6cd": {
          "model_module": "@jupyter-widgets/controls",
          "model_name": "DescriptionStyleModel",
          "model_module_version": "1.5.0",
          "state": {
            "_model_module": "@jupyter-widgets/controls",
            "_model_module_version": "1.5.0",
            "_model_name": "DescriptionStyleModel",
            "_view_count": null,
            "_view_module": "@jupyter-widgets/base",
            "_view_module_version": "1.2.0",
            "_view_name": "StyleView",
            "description_width": ""
          }
        }
      }
    }
  },
  "nbformat": 4,
  "nbformat_minor": 0
}