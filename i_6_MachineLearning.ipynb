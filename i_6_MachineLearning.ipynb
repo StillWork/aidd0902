{
 "cells": [
  {
   "cell_type": "markdown",
   "metadata": {
    "id": "yvyiqZT39nfc"
   },
   "source": [
    "# 머신러닝 이해\n",
    "\n",
    "- 회귀 예측, 분류 예측, 최적의 추천 등을 수행하는 소프트웨어로, 데이터를 보고 학습하며 다량의, 다양한 데이터로 학습시킬수록 점차 성능이 개선되는 방식으로 구현된다\n",
    "- 현재 인공지능을 구현하는 대표적인 방법이 머신러닝 기법이다\n",
    " - \"Machine Learning\"이란 컴퓨터가 데이터를 보고 스스로 학습한다는 의미이다\n",
    " - 예전에는 인공지능을 구현하기 위해서 \"생각하는\" 컴퓨터를 만들거나, 사람의 지식을 알고리즘이나 데이터로 구축하는 방법을 시도하였으나 성공하지 못했다\n",
    "\n",
    "## 머신러닝 구현 방법\n",
    "\n",
    "- 입력 데이터(X)를 보고 원하는 출력(y)을 얻는 방식으로 동작하며 예측 오차를 줄이도록 학습을 시킨다  \n",
    "\n",
    "<img src=\"https://raw.githubusercontent.com/data-labs/image/main/%E1%84%89%E1%85%B3%E1%84%8F%E1%85%B3%E1%84%85%E1%85%B5%E1%86%AB%E1%84%89%E1%85%A3%E1%86%BA%202020-12-29%20%E1%84%8B%E1%85%A9%E1%84%92%E1%85%AE%2010.08.38.png?raw=1\" align='left'>\n",
    "\n",
    "### 데이터 (X)\n",
    "- 훈련 (train) 데이터: 모델을 학습시키는데 사용하는 데이터\n",
    "- 검증 (validation) 데이터: 학습시킨 모델의 동작을 검증하는데 사용하는 데이터\n",
    "- 학습에 사용하는 데이터가 많을수록 예측, 추천 성능이 향상된다\n",
    " - 데이터 타입: 정형 데이터(테이블 데이터), 비정형 데이터(이미지, 텍스트, 센서 데이터 등)\n",
    "- 머신러닝 모델의 성능을 높이기 위해서는 원시(raw) 데이터로부터 적절한 학습 및 검증 데이터를 만드는 **데이터 전처리**가 반드시 필요하다\n",
    "\n",
    "### 머신러닝 모델\n",
    "- 입력 데이터(X)로부터 최적의 출력(y)을 얻는 소프트웨어\n",
    "- 최적의 출력이란 정답(label, target)을 잘 예측하는 것을 말한다\n",
    " - 최적의 출력을 얻기 위해서 모델을 구성하는 파라미터의 최적치를 찾는다(예: 선형 회귀에서 가중치 값)\n",
    "- 모델의 종류: 선형모델, 로지스틱 회귀, SVM, 결정트리, 랜덤 포레스트, kNN, 베이시언, 딥러닝 모델 (MLP, CNN, RNN, GCN, Transformer 등)\n",
    "\n",
    "### 목적\n",
    "- 머신러닝의 목적은 다음 중 하나이다\n",
    " - 예측(predictive) 분석\n",
    "> 회귀 예측(regression): 수치를 예측  \n",
    "> 분류 예측(classification): 카테고리를 예측\n",
    " - 설명(descriptive)적 분석\n",
    " - 군집화(clustering)\n",
    " - 추천(recommendation)\n",
    "\n",
    "### 성능평가 (performance measure)\n",
    "- 모델이 원하는 동작을 잘 수행하는지를 평가하는 값으로, 주요 평가 척도는 다음과 같다\n",
    " - 회귀모델에서는 R-squared를 사용\n",
    " - 분류 모델에서는 정확도(accuracy), 정밀도(precision), 리콜(recall), f-1 점수, ROC-AUC 등을 사용\n",
    "\n",
    "### 최적화기 (optimizer)\n",
    "- 학습을 통하여 모델 파라미터를 최적의 값으로 수렴시키는 알고리즘\n",
    "- 최적화 알고리즘으로는 경사하강법(GD: gradient descent)이 기본적으로 사용된다\n",
    "\n",
    "### 손실함수 (loss function)\n",
    "- 최적화기는 손실함수를 최소화 하는 방향으로 동작한다\n",
    "- 즉, 손실함수는 최적화기의 동작이 잘 이루어지고 있는지를 모니터링하는 값이다\n",
    "- 손실함수로, 회귀 모델에서는 MSE(mean square error)를, 분류에서는 크로스 엔트로피(cross entrophy)를 주로 사용한다\n"
   ]
  },
  {
   "cell_type": "markdown",
   "metadata": {
    "id": "CwV5d8M15e3N"
   },
   "source": [
    "# import"
   ]
  },
  {
   "cell_type": "code",
   "execution_count": 1,
   "metadata": {
    "colab": {
     "base_uri": "https://localhost:8080/"
    },
    "id": "A0I6LpL6Q0Ru",
    "outputId": "a9494f03-4da1-4278-d136-71e615308c44"
   },
   "outputs": [
    {
     "name": "stdout",
     "output_type": "stream",
     "text": [
      "Requirement already satisfied: rdkit in /opt/anaconda3/lib/python3.8/site-packages (2023.3.2)\r\n",
      "Requirement already satisfied: Pillow in /opt/anaconda3/lib/python3.8/site-packages (from rdkit) (8.2.0)\r\n",
      "Requirement already satisfied: numpy in /opt/anaconda3/lib/python3.8/site-packages (from rdkit) (1.22.4)\r\n"
     ]
    }
   ],
   "source": [
    "!pip install rdkit"
   ]
  },
  {
   "cell_type": "code",
   "execution_count": 2,
   "metadata": {
    "ExecuteTime": {
     "end_time": "2023-07-11T16:21:41.572481Z",
     "start_time": "2023-07-11T16:21:38.532191Z"
    },
    "colab": {
     "base_uri": "https://localhost:8080/"
    },
    "id": "uIoZjC2HPObq",
    "outputId": "e8f4b9ba-242d-41d4-b944-86636a0c7481"
   },
   "outputs": [],
   "source": [
    "import numpy as np\n",
    "import pandas as pd\n",
    "import matplotlib.pyplot as plt\n",
    "import seaborn as sns\n",
    "%config InlineBackend.figure_format = 'retina'\n",
    "%matplotlib inline\n",
    "\n",
    "from rdkit import Chem\n",
    "from rdkit.Chem import Descriptors\n",
    "from rdkit.Chem import AllChem\n",
    "from rdkit import DataStructs\n",
    "from rdkit.Chem import Draw\n",
    "from rdkit.Chem.Draw import IPythonConsole     # 화면에 출력하기 위한 옵션\n",
    "IPythonConsole.ipython_useSVG=True\n",
    "\n",
    "from sklearn.linear_model import LinearRegression\n",
    "from sklearn.model_selection import train_test_split\n",
    "from sklearn.metrics import mean_absolute_error, r2_score, mean_squared_error"
   ]
  },
  {
   "cell_type": "markdown",
   "metadata": {
    "id": "6sYNVbo3shul"
   },
   "source": [
    "# 데이터\n",
    "\n",
    "- 소분자 유기화합물의 lipophilicity 용해도 사용"
   ]
  },
  {
   "cell_type": "code",
   "execution_count": 3,
   "metadata": {
    "ExecuteTime": {
     "end_time": "2023-07-11T16:21:43.373849Z",
     "start_time": "2023-07-11T16:21:42.923550Z"
    },
    "colab": {
     "base_uri": "https://localhost:8080/",
     "height": 161
    },
    "id": "daKff-nyPObq",
    "outputId": "4d4c912a-812a-4f31-ba25-e86ed2af6ffe"
   },
   "outputs": [
    {
     "name": "stdout",
     "output_type": "stream",
     "text": [
      "(14610, 2)\n"
     ]
    },
    {
     "data": {
      "text/html": [
       "<div>\n",
       "<style scoped>\n",
       "    .dataframe tbody tr th:only-of-type {\n",
       "        vertical-align: middle;\n",
       "    }\n",
       "\n",
       "    .dataframe tbody tr th {\n",
       "        vertical-align: top;\n",
       "    }\n",
       "\n",
       "    .dataframe thead th {\n",
       "        text-align: right;\n",
       "    }\n",
       "</style>\n",
       "<table border=\"1\" class=\"dataframe\">\n",
       "  <thead>\n",
       "    <tr style=\"text-align: right;\">\n",
       "      <th></th>\n",
       "      <th>smiles</th>\n",
       "      <th>logP</th>\n",
       "    </tr>\n",
       "  </thead>\n",
       "  <tbody>\n",
       "    <tr>\n",
       "      <th>0</th>\n",
       "      <td>C[C@H]([C@@H](C)Cl)Cl</td>\n",
       "      <td>2.3</td>\n",
       "    </tr>\n",
       "    <tr>\n",
       "      <th>1</th>\n",
       "      <td>C(C=CBr)N</td>\n",
       "      <td>0.3</td>\n",
       "    </tr>\n",
       "    <tr>\n",
       "      <th>2</th>\n",
       "      <td>CCC(CO)Br</td>\n",
       "      <td>1.3</td>\n",
       "    </tr>\n",
       "  </tbody>\n",
       "</table>\n",
       "</div>"
      ],
      "text/plain": [
       "                  smiles  logP\n",
       "0  C[C@H]([C@@H](C)Cl)Cl   2.3\n",
       "1              C(C=CBr)N   0.3\n",
       "2              CCC(CO)Br   1.3"
      ]
     },
     "execution_count": 3,
     "metadata": {},
     "output_type": "execute_result"
    }
   ],
   "source": [
    "# 데이터 다운로드 (컬럼명을 'smiles'와 'logP'로 지정)\n",
    "logP_data = pd.read_csv('https://raw.githubusercontent.com/StillWork/data/master/logP_dataset.csv',\n",
    "            names=['smiles', 'logP'])\n",
    "\n",
    "print(logP_data.shape)\n",
    "logP_data[:3]"
   ]
  },
  {
   "cell_type": "code",
   "execution_count": 4,
   "metadata": {
    "ExecuteTime": {
     "end_time": "2023-07-11T16:21:43.621521Z",
     "start_time": "2023-07-11T16:21:43.387581Z"
    },
    "colab": {
     "base_uri": "https://localhost:8080/",
     "height": 448
    },
    "id": "gARUu_q-mx8Z",
    "outputId": "ef1f47fa-5a3e-4847-efd8-7de5a585f76a"
   },
   "outputs": [
    {
     "data": {
      "text/plain": [
       "<AxesSubplot:>"
      ]
     },
     "execution_count": 4,
     "metadata": {},
     "output_type": "execute_result"
    },
    {
     "data": {
      "image/png": "[encoded data removed]",
      "text/plain": [
       "<Figure size 432x288 with 1 Axes>"
      ]
     },
     "metadata": {
      "image/png": {
       "height": 248,
       "width": 381
      },
      "needs_background": "light"
     },
     "output_type": "display_data"
    }
   ],
   "source": [
    "# 목적 변수 분포\n",
    "logP_data.logP.hist(bins=30)"
   ]
  },
  {
   "cell_type": "markdown",
   "metadata": {
    "id": "imFzMlZJdDkE"
   },
   "source": [
    "- Chem.MolFromSmiles() 함수를 이용하여 SMILES로부터 Mol 객체를 얻는다"
   ]
  },
  {
   "cell_type": "code",
   "execution_count": 5,
   "metadata": {
    "ExecuteTime": {
     "end_time": "2023-07-11T16:21:43.637060Z",
     "start_time": "2023-07-11T16:21:43.633567Z"
    },
    "colab": {
     "base_uri": "https://localhost:8080/"
    },
    "id": "Gf-mnTHFr68t",
    "outputId": "bda12079-ab49-47bb-b4d3-6ebcdc4d43c5"
   },
   "outputs": [],
   "source": [
    "# 사본 데이터프레임 사용\n",
    "df = logP_data.copy()\n",
    "df['mol'] = df['smiles'].apply(lambda x: Chem.MolFromSmiles(x))"
   ]
  },
  {
   "cell_type": "code",
   "execution_count": 6,
   "metadata": {
    "ExecuteTime": {
     "end_time": "2023-07-11T16:21:44.209283Z",
     "start_time": "2023-07-11T16:21:44.156604Z"
    },
    "colab": {
     "base_uri": "https://localhost:8080/",
     "height": 172
    },
    "id": "YkcFyUIds98X",
    "outputId": "fbd80183-6062-451e-a9e9-04dedc6b5736"
   },
   "outputs": [
    {
     "data": {
      "image/png": "[encoded data removed]",
      "image/svg+xml": [
       "<?xml version='1.0' encoding='iso-8859-1'?>\n",
       "<svg version='1.1' baseProfile='full'\n",
       "              xmlns='http://www.w3.org/2000/svg'\n",
       "                      xmlns:rdkit='http://www.rdkit.org/xml'\n",
       "                      xmlns:xlink='http://www.w3.org/1999/xlink'\n",
       "                  xml:space='preserve'\n",
       "width='450px' height='150px' viewBox='0 0 450 150'>\n",
       "<!-- END OF HEADER -->\n",
       "<rect style='opacity:1.0;fill:#FFFFFF;stroke:none' width='450.0' height='150.0' x='0.0' y='0.0'> </rect>\n",
       "<path class='bond-0 atom-1 atom-0' d='M 261.5,74.9 L 290.6,14.5 L 299.2,19.5 Z' style='fill:#000000;fill-rule:evenodd;fill-opacity:1;stroke:#000000;stroke-width:0.5px;stroke-linecap:butt;stroke-linejoin:miter;stroke-opacity:1;' />\n",
       "<path class='bond-1 atom-1 atom-2' d='M 261.5,74.9 L 194.6,74.9' style='fill:none;fill-rule:evenodd;stroke:#000000;stroke-width:2.0px;stroke-linecap:butt;stroke-linejoin:miter;stroke-opacity:1' />\n",
       "<path class='bond-2 atom-2 atom-3' d='M 194.6,74.9 L 165.5,135.3 L 156.8,130.3 Z' style='fill:#000000;fill-rule:evenodd;fill-opacity:1;stroke:#000000;stroke-width:0.5px;stroke-linecap:butt;stroke-linejoin:miter;stroke-opacity:1;' />\n",
       "<path class='bond-3 atom-2 atom-4' d='M 194.6,74.9 L 179.6,48.9' style='fill:none;fill-rule:evenodd;stroke:#000000;stroke-width:2.0px;stroke-linecap:butt;stroke-linejoin:miter;stroke-opacity:1' />\n",
       "<path class='bond-3 atom-2 atom-4' d='M 179.6,48.9 L 164.6,22.9' style='fill:none;fill-rule:evenodd;stroke:#00CC00;stroke-width:2.0px;stroke-linecap:butt;stroke-linejoin:miter;stroke-opacity:1' />\n",
       "<path class='bond-4 atom-1 atom-5' d='M 261.5,74.9 L 275.0,98.2' style='fill:none;fill-rule:evenodd;stroke:#000000;stroke-width:2.0px;stroke-linecap:butt;stroke-linejoin:miter;stroke-opacity:1' />\n",
       "<path class='bond-4 atom-1 atom-5' d='M 275.0,98.2 L 288.4,121.6' style='fill:none;fill-rule:evenodd;stroke:#00CC00;stroke-width:2.0px;stroke-linecap:butt;stroke-linejoin:miter;stroke-opacity:1' />\n",
       "<path d='M 258.1,74.9 L 261.5,74.9 L 262.1,76.0' style='fill:none;stroke:#000000;stroke-width:2.0px;stroke-linecap:butt;stroke-linejoin:miter;stroke-opacity:1;' />\n",
       "<path d='M 197.9,74.9 L 194.6,74.9 L 193.9,73.6' style='fill:none;stroke:#000000;stroke-width:2.0px;stroke-linecap:butt;stroke-linejoin:miter;stroke-opacity:1;' />\n",
       "<path class='atom-4' d='M 143.4 17.6\n",
       "Q 143.4 12.9, 145.6 10.5\n",
       "Q 147.8 8.0, 152.0 8.0\n",
       "Q 155.9 8.0, 158.0 10.7\n",
       "L 156.2 12.2\n",
       "Q 154.7 10.2, 152.0 10.2\n",
       "Q 149.2 10.2, 147.6 12.1\n",
       "Q 146.1 14.0, 146.1 17.6\n",
       "Q 146.1 21.4, 147.7 23.3\n",
       "Q 149.3 25.2, 152.3 25.2\n",
       "Q 154.4 25.2, 156.8 24.0\n",
       "L 157.6 26.0\n",
       "Q 156.6 26.6, 155.1 27.0\n",
       "Q 153.6 27.4, 151.9 27.4\n",
       "Q 147.8 27.4, 145.6 24.8\n",
       "Q 143.4 22.3, 143.4 17.6\n",
       "' fill='#00CC00'/>\n",
       "<path class='atom-4' d='M 159.9 6.8\n",
       "L 162.4 6.8\n",
       "L 162.4 27.1\n",
       "L 159.9 27.1\n",
       "L 159.9 6.8\n",
       "' fill='#00CC00'/>\n",
       "<path class='atom-5' d='M 287.6 133.4\n",
       "Q 287.6 128.7, 289.8 126.3\n",
       "Q 292.0 123.8, 296.2 123.8\n",
       "Q 300.1 123.8, 302.2 126.5\n",
       "L 300.4 128.0\n",
       "Q 298.9 126.0, 296.2 126.0\n",
       "Q 293.4 126.0, 291.8 127.9\n",
       "Q 290.3 129.8, 290.3 133.4\n",
       "Q 290.3 137.2, 291.9 139.1\n",
       "Q 293.5 141.0, 296.5 141.0\n",
       "Q 298.6 141.0, 301.0 139.8\n",
       "L 301.8 141.8\n",
       "Q 300.8 142.4, 299.3 142.8\n",
       "Q 297.8 143.2, 296.1 143.2\n",
       "Q 292.0 143.2, 289.8 140.7\n",
       "Q 287.6 138.2, 287.6 133.4\n",
       "' fill='#00CC00'/>\n",
       "<path class='atom-5' d='M 304.1 122.6\n",
       "L 306.6 122.6\n",
       "L 306.6 142.9\n",
       "L 304.1 142.9\n",
       "L 304.1 122.6\n",
       "' fill='#00CC00'/>\n",
       "</svg>\n"
      ],
      "text/html": [
       "<?xml version='1.0' encoding='iso-8859-1'?>\n",
       "<svg version='1.1' baseProfile='full'\n",
       "              xmlns='http://www.w3.org/2000/svg'\n",
       "                      xmlns:rdkit='http://www.rdkit.org/xml'\n",
       "                      xmlns:xlink='http://www.w3.org/1999/xlink'\n",
       "                  xml:space='preserve'\n",
       "width='450px' height='150px' viewBox='0 0 450 150'>\n",
       "<!-- END OF HEADER -->\n",
       "<rect style='opacity:1.0;fill:#FFFFFF;stroke:none' width='450.0' height='150.0' x='0.0' y='0.0'> </rect>\n",
       "<path class='bond-0 atom-1 atom-0' d='M 261.5,74.9 L 290.6,14.5 L 299.2,19.5 Z' style='fill:#000000;fill-rule:evenodd;fill-opacity:1;stroke:#000000;stroke-width:0.5px;stroke-linecap:butt;stroke-linejoin:miter;stroke-opacity:1;' />\n",
       "<path class='bond-1 atom-1 atom-2' d='M 261.5,74.9 L 194.6,74.9' style='fill:none;fill-rule:evenodd;stroke:#000000;stroke-width:2.0px;stroke-linecap:butt;stroke-linejoin:miter;stroke-opacity:1' />\n",
       "<path class='bond-2 atom-2 atom-3' d='M 194.6,74.9 L 165.5,135.3 L 156.8,130.3 Z' style='fill:#000000;fill-rule:evenodd;fill-opacity:1;stroke:#000000;stroke-width:0.5px;stroke-linecap:butt;stroke-linejoin:miter;stroke-opacity:1;' />\n",
       "<path class='bond-3 atom-2 atom-4' d='M 194.6,74.9 L 179.6,48.9' style='fill:none;fill-rule:evenodd;stroke:#000000;stroke-width:2.0px;stroke-linecap:butt;stroke-linejoin:miter;stroke-opacity:1' />\n",
       "<path class='bond-3 atom-2 atom-4' d='M 179.6,48.9 L 164.6,22.9' style='fill:none;fill-rule:evenodd;stroke:#00CC00;stroke-width:2.0px;stroke-linecap:butt;stroke-linejoin:miter;stroke-opacity:1' />\n",
       "<path class='bond-4 atom-1 atom-5' d='M 261.5,74.9 L 275.0,98.2' style='fill:none;fill-rule:evenodd;stroke:#000000;stroke-width:2.0px;stroke-linecap:butt;stroke-linejoin:miter;stroke-opacity:1' />\n",
       "<path class='bond-4 atom-1 atom-5' d='M 275.0,98.2 L 288.4,121.6' style='fill:none;fill-rule:evenodd;stroke:#00CC00;stroke-width:2.0px;stroke-linecap:butt;stroke-linejoin:miter;stroke-opacity:1' />\n",
       "<path d='M 258.1,74.9 L 261.5,74.9 L 262.1,76.0' style='fill:none;stroke:#000000;stroke-width:2.0px;stroke-linecap:butt;stroke-linejoin:miter;stroke-opacity:1;' />\n",
       "<path d='M 197.9,74.9 L 194.6,74.9 L 193.9,73.6' style='fill:none;stroke:#000000;stroke-width:2.0px;stroke-linecap:butt;stroke-linejoin:miter;stroke-opacity:1;' />\n",
       "<path class='atom-4' d='M 143.4 17.6\n",
       "Q 143.4 12.9, 145.6 10.5\n",
       "Q 147.8 8.0, 152.0 8.0\n",
       "Q 155.9 8.0, 158.0 10.7\n",
       "L 156.2 12.2\n",
       "Q 154.7 10.2, 152.0 10.2\n",
       "Q 149.2 10.2, 147.6 12.1\n",
       "Q 146.1 14.0, 146.1 17.6\n",
       "Q 146.1 21.4, 147.7 23.3\n",
       "Q 149.3 25.2, 152.3 25.2\n",
       "Q 154.4 25.2, 156.8 24.0\n",
       "L 157.6 26.0\n",
       "Q 156.6 26.6, 155.1 27.0\n",
       "Q 153.6 27.4, 151.9 27.4\n",
       "Q 147.8 27.4, 145.6 24.8\n",
       "Q 143.4 22.3, 143.4 17.6\n",
       "' fill='#00CC00'/>\n",
       "<path class='atom-4' d='M 159.9 6.8\n",
       "L 162.4 6.8\n",
       "L 162.4 27.1\n",
       "L 159.9 27.1\n",
       "L 159.9 6.8\n",
       "' fill='#00CC00'/>\n",
       "<path class='atom-5' d='M 287.6 133.4\n",
       "Q 287.6 128.7, 289.8 126.3\n",
       "Q 292.0 123.8, 296.2 123.8\n",
       "Q 300.1 123.8, 302.2 126.5\n",
       "L 300.4 128.0\n",
       "Q 298.9 126.0, 296.2 126.0\n",
       "Q 293.4 126.0, 291.8 127.9\n",
       "Q 290.3 129.8, 290.3 133.4\n",
       "Q 290.3 137.2, 291.9 139.1\n",
       "Q 293.5 141.0, 296.5 141.0\n",
       "Q 298.6 141.0, 301.0 139.8\n",
       "L 301.8 141.8\n",
       "Q 300.8 142.4, 299.3 142.8\n",
       "Q 297.8 143.2, 296.1 143.2\n",
       "Q 292.0 143.2, 289.8 140.7\n",
       "Q 287.6 138.2, 287.6 133.4\n",
       "' fill='#00CC00'/>\n",
       "<path class='atom-5' d='M 304.1 122.6\n",
       "L 306.6 122.6\n",
       "L 306.6 142.9\n",
       "L 304.1 142.9\n",
       "L 304.1 122.6\n",
       "' fill='#00CC00'/>\n",
       "</svg>\n"
      ],
      "text/plain": [
       "<rdkit.Chem.rdchem.Mol at 0x7fadd0033350>"
      ]
     },
     "execution_count": 6,
     "metadata": {},
     "output_type": "execute_result"
    }
   ],
   "source": [
    "df.mol[0]"
   ]
  },
  {
   "cell_type": "markdown",
   "metadata": {
    "id": "OmSd-wuePObs"
   },
   "source": [
    "## 특성 추가하기"
   ]
  },
  {
   "cell_type": "code",
   "execution_count": 7,
   "metadata": {
    "ExecuteTime": {
     "end_time": "2023-07-11T16:21:44.650967Z",
     "start_time": "2023-07-11T16:21:44.339979Z"
    },
    "colab": {
     "base_uri": "https://localhost:8080/",
     "height": 143
    },
    "id": "u0y_SNjPPObs",
    "outputId": "66418d14-f8d6-4a51-c5d8-1c684e47e97d"
   },
   "outputs": [
    {
     "data": {
      "text/html": [
       "<div>\n",
       "<style scoped>\n",
       "    .dataframe tbody tr th:only-of-type {\n",
       "        vertical-align: middle;\n",
       "    }\n",
       "\n",
       "    .dataframe tbody tr th {\n",
       "        vertical-align: top;\n",
       "    }\n",
       "\n",
       "    .dataframe thead th {\n",
       "        text-align: right;\n",
       "    }\n",
       "</style>\n",
       "<table border=\"1\" class=\"dataframe\">\n",
       "  <thead>\n",
       "    <tr style=\"text-align: right;\">\n",
       "      <th></th>\n",
       "      <th>smiles</th>\n",
       "      <th>logP</th>\n",
       "      <th>mol</th>\n",
       "      <th>num_of_atoms</th>\n",
       "      <th>num_of_heavy_atoms</th>\n",
       "    </tr>\n",
       "  </thead>\n",
       "  <tbody>\n",
       "    <tr>\n",
       "      <th>0</th>\n",
       "      <td>C[C@H]([C@@H](C)Cl)Cl</td>\n",
       "      <td>2.3</td>\n",
       "      <td>&lt;rdkit.Chem.rdchem.Mol object at 0x7fae30fe6820&gt;</td>\n",
       "      <td>14</td>\n",
       "      <td>6</td>\n",
       "    </tr>\n",
       "    <tr>\n",
       "      <th>1</th>\n",
       "      <td>C(C=CBr)N</td>\n",
       "      <td>0.3</td>\n",
       "      <td>&lt;rdkit.Chem.rdchem.Mol object at 0x7fae30fe65f0&gt;</td>\n",
       "      <td>11</td>\n",
       "      <td>5</td>\n",
       "    </tr>\n",
       "    <tr>\n",
       "      <th>2</th>\n",
       "      <td>CCC(CO)Br</td>\n",
       "      <td>1.3</td>\n",
       "      <td>&lt;rdkit.Chem.rdchem.Mol object at 0x7fae30fe6900&gt;</td>\n",
       "      <td>15</td>\n",
       "      <td>6</td>\n",
       "    </tr>\n",
       "  </tbody>\n",
       "</table>\n",
       "</div>"
      ],
      "text/plain": [
       "                  smiles  logP  \\\n",
       "0  C[C@H]([C@@H](C)Cl)Cl   2.3   \n",
       "1              C(C=CBr)N   0.3   \n",
       "2              CCC(CO)Br   1.3   \n",
       "\n",
       "                                                mol  num_of_atoms  \\\n",
       "0  <rdkit.Chem.rdchem.Mol object at 0x7fae30fe6820>            14   \n",
       "1  <rdkit.Chem.rdchem.Mol object at 0x7fae30fe65f0>            11   \n",
       "2  <rdkit.Chem.rdchem.Mol object at 0x7fae30fe6900>            15   \n",
       "\n",
       "   num_of_heavy_atoms  \n",
       "0                   6  \n",
       "1                   5  \n",
       "2                   6  "
      ]
     },
     "execution_count": 7,
     "metadata": {},
     "output_type": "execute_result"
    }
   ],
   "source": [
    "df['mol'] = df['mol'].apply(lambda x: Chem.AddHs(x))\n",
    "df['num_of_atoms'] = df['mol'].apply(lambda x: x.GetNumAtoms())\n",
    "df['num_of_heavy_atoms'] = df['mol'].apply(lambda x: x.GetNumHeavyAtoms())\n",
    "df[:3]"
   ]
  },
  {
   "cell_type": "markdown",
   "metadata": {
    "id": "zKHD8e2kPObs"
   },
   "source": [
    "## 원자별 갯수를 추가하기\n",
    "\n",
    "- GetSubstructMatches()를 사용하면 분자 내에 특정한 패턴이 들어있는지를 찾아낼 수 있다"
   ]
  },
  {
   "cell_type": "code",
   "execution_count": 8,
   "metadata": {
    "ExecuteTime": {
     "end_time": "2023-07-11T16:21:44.769231Z",
     "start_time": "2023-07-11T16:21:44.763763Z"
    },
    "colab": {
     "base_uri": "https://localhost:8080/"
    },
    "id": "BfWDTmIrPObs",
    "outputId": "04cc3965-ee52-474f-8b9a-34e2b8f169e2"
   },
   "outputs": [
    {
     "name": "stdout",
     "output_type": "stream",
     "text": [
      "((0,), (1,), (2,), (3,))\n"
     ]
    }
   ],
   "source": [
    "# 탄소 패턴을 지정한다\n",
    "c_patt = Chem.MolFromSmiles('C')\n",
    "\n",
    "# 이 패턴이 들어있는 곳을 찾는다. 패턴의 수를 세면 탄소 원자가 몇개 들어있는지 알 수 있다\n",
    "print(df['mol'][0].GetSubstructMatches(c_patt))"
   ]
  },
  {
   "cell_type": "code",
   "execution_count": 9,
   "metadata": {
    "ExecuteTime": {
     "end_time": "2023-07-11T16:21:46.095036Z",
     "start_time": "2023-07-11T16:21:44.907444Z"
    },
    "id": "qoMuXPCbPObs"
   },
   "outputs": [],
   "source": [
    "# 임의의 원자를 몇개 포함하고 있는지를 얻는 함수\n",
    "def number_of_atoms(atom_list, df):\n",
    "    for i in atom_list:\n",
    "        df['num_of_{}_atoms'.format(i)] = df['mol'].apply(lambda x: len(x.GetSubstructMatches(Chem.MolFromSmiles(i))))"
   ]
  },
  {
   "cell_type": "code",
   "execution_count": 10,
   "metadata": {
    "ExecuteTime": {
     "end_time": "2023-07-11T16:21:46.121378Z",
     "start_time": "2023-07-11T16:21:46.111892Z"
    },
    "colab": {
     "base_uri": "https://localhost:8080/",
     "height": 312
    },
    "id": "Kguhu1_68gc9",
    "outputId": "decc13a9-3b77-4fb6-cdd0-b52bff9ec845"
   },
   "outputs": [
    {
     "data": {
      "text/html": [
       "<div>\n",
       "<style scoped>\n",
       "    .dataframe tbody tr th:only-of-type {\n",
       "        vertical-align: middle;\n",
       "    }\n",
       "\n",
       "    .dataframe tbody tr th {\n",
       "        vertical-align: top;\n",
       "    }\n",
       "\n",
       "    .dataframe thead th {\n",
       "        text-align: right;\n",
       "    }\n",
       "</style>\n",
       "<table border=\"1\" class=\"dataframe\">\n",
       "  <thead>\n",
       "    <tr style=\"text-align: right;\">\n",
       "      <th></th>\n",
       "      <th>smiles</th>\n",
       "      <th>logP</th>\n",
       "      <th>mol</th>\n",
       "      <th>num_of_atoms</th>\n",
       "      <th>num_of_heavy_atoms</th>\n",
       "      <th>num_of_C_atoms</th>\n",
       "      <th>num_of_O_atoms</th>\n",
       "      <th>num_of_N_atoms</th>\n",
       "      <th>num_of_Cl_atoms</th>\n",
       "    </tr>\n",
       "  </thead>\n",
       "  <tbody>\n",
       "    <tr>\n",
       "      <th>0</th>\n",
       "      <td>C[C@H]([C@@H](C)Cl)Cl</td>\n",
       "      <td>2.3</td>\n",
       "      <td>&lt;rdkit.Chem.rdchem.Mol object at 0x7fae30fe6820&gt;</td>\n",
       "      <td>14</td>\n",
       "      <td>6</td>\n",
       "      <td>4</td>\n",
       "      <td>0</td>\n",
       "      <td>0</td>\n",
       "      <td>2</td>\n",
       "    </tr>\n",
       "    <tr>\n",
       "      <th>1</th>\n",
       "      <td>C(C=CBr)N</td>\n",
       "      <td>0.3</td>\n",
       "      <td>&lt;rdkit.Chem.rdchem.Mol object at 0x7fae30fe65f0&gt;</td>\n",
       "      <td>11</td>\n",
       "      <td>5</td>\n",
       "      <td>3</td>\n",
       "      <td>0</td>\n",
       "      <td>1</td>\n",
       "      <td>0</td>\n",
       "    </tr>\n",
       "    <tr>\n",
       "      <th>2</th>\n",
       "      <td>CCC(CO)Br</td>\n",
       "      <td>1.3</td>\n",
       "      <td>&lt;rdkit.Chem.rdchem.Mol object at 0x7fae30fe6900&gt;</td>\n",
       "      <td>15</td>\n",
       "      <td>6</td>\n",
       "      <td>4</td>\n",
       "      <td>1</td>\n",
       "      <td>0</td>\n",
       "      <td>0</td>\n",
       "    </tr>\n",
       "  </tbody>\n",
       "</table>\n",
       "</div>"
      ],
      "text/plain": [
       "                  smiles  logP  \\\n",
       "0  C[C@H]([C@@H](C)Cl)Cl   2.3   \n",
       "1              C(C=CBr)N   0.3   \n",
       "2              CCC(CO)Br   1.3   \n",
       "\n",
       "                                                mol  num_of_atoms  \\\n",
       "0  <rdkit.Chem.rdchem.Mol object at 0x7fae30fe6820>            14   \n",
       "1  <rdkit.Chem.rdchem.Mol object at 0x7fae30fe65f0>            11   \n",
       "2  <rdkit.Chem.rdchem.Mol object at 0x7fae30fe6900>            15   \n",
       "\n",
       "   num_of_heavy_atoms  num_of_C_atoms  num_of_O_atoms  num_of_N_atoms  \\\n",
       "0                   6               4               0               0   \n",
       "1                   5               3               0               1   \n",
       "2                   6               4               1               0   \n",
       "\n",
       "   num_of_Cl_atoms  \n",
       "0                2  \n",
       "1                0  \n",
       "2                0  "
      ]
     },
     "execution_count": 10,
     "metadata": {},
     "output_type": "execute_result"
    }
   ],
   "source": [
    "number_of_atoms(['C','O', 'N', 'Cl'], df)\n",
    "df[:3]"
   ]
  },
  {
   "cell_type": "markdown",
   "metadata": {
    "id": "i5JBa9gC8msM"
   },
   "source": [
    "# 회귀 모델\n",
    "- 위에서 구한 분자의 여러 특성을 사용하여 용해도를 예측하는 회귀 모델을 만든다"
   ]
  },
  {
   "cell_type": "markdown",
   "metadata": {
    "id": "HPPvzgi29nff"
   },
   "source": [
    "## 훈련/검증 데이터 나누기"
   ]
  },
  {
   "cell_type": "code",
   "execution_count": 11,
   "metadata": {
    "colab": {
     "base_uri": "https://localhost:8080/"
    },
    "id": "3uDDM5yy9fTd",
    "outputId": "e9f4f0e4-f53d-4002-9265-f4cb3961254a"
   },
   "outputs": [
    {
     "name": "stdout",
     "output_type": "stream",
     "text": [
      "Index(['num_of_atoms', 'num_of_heavy_atoms', 'num_of_C_atoms',\n",
      "       'num_of_O_atoms', 'num_of_N_atoms', 'num_of_Cl_atoms'],\n",
      "      dtype='object')\n"
     ]
    }
   ],
   "source": [
    "# 특성 컬럼을 선택하여 X를 만들고 목적변수를 정의한다\n",
    "train_df = df.drop(columns=['smiles', 'mol', 'logP'])\n",
    "y = df['logP'].values\n",
    "\n",
    "print(train_df.columns)\n",
    "\n",
    "# 훈련과 검증 데이터를 나눈다 (검증 데이터로 10% 할당)\n",
    "X_train, X_test, y_train, y_test = train_test_split(train_df, y, test_size=.1)\n"
   ]
  },
  {
   "cell_type": "markdown",
   "metadata": {
    "id": "Bn9uNE66M0dS"
   },
   "source": [
    "- 아래는 훈련과 검증 데이터를 나누는 개념도이다. 주어진 데이터 순서를 유지하면서 데이터를 나누려면 shuffle=False 옵션을 지정하면 된다 (디폴트 값은 랜덤하게 섞는다)\n",
    "\n",
    "<img src=\"https://raw.githubusercontent.com/data-labs/image/main/%E1%84%89%E1%85%B3%E1%84%8F%E1%85%B3%E1%84%85%E1%85%B5%E1%86%AB%E1%84%89%E1%85%A3%E1%86%BA%202020-12-29%20%E1%84%8B%E1%85%A9%E1%84%92%E1%85%AE%2011.45.47.png?raw=1\" width=300 align='left'>"
   ]
  },
  {
   "cell_type": "markdown",
   "metadata": {
    "id": "9HYH5iRkEO68"
   },
   "source": [
    "## 회귀 모델 성능 평가\n",
    "- 회귀 모델의 성능을 평가하는 척도로 기본적으로 R-Squared를 사용하며 MAE, RMSE 등을 참고로 본다\n",
    " - MAE: mean absolute error  \n",
    " - MSE: mean squared error    \n",
    " - RMSE: root MSE  "
   ]
  },
  {
   "cell_type": "markdown",
   "metadata": {
    "id": "3mICiOZtEO69"
   },
   "source": [
    "$MAE = $$1\\over{N}$$ \\sum |y_{i} - \\hat{y}|$\n",
    "\n",
    "$MSE = $$1\\over{N}$$ \\sum (y_{i} - \\hat{y})^{2}$\n",
    "\n",
    "$RMSE = \\sqrt{MSE}$\n",
    "\n",
    "$R^{2} = 1$-$\\sum(y_{i}-\\hat{y})^{2}\\over{\\sum(y_{i}-\\bar{y})^{2}}$ $= 1$-$MSE\\over{Variance}$  \n",
    " >  $y$ :  실제값, $\\hat{y}$ :  예측치, $\\bar{y}$ :  평균치\n",
    "\n",
    "-  R-Squared\n",
    " - 회귀 성능의 기본적인 평가 지표\n",
    " - MSE를 분산으로 정규화한 값을 사용한다\n",
    " - R-sqaured 값은 1에 가까울수록 완벽한 예측을 수행한 것이고, 0 근처이면 오차 평균치가 표준편차 정도인 경우이다"
   ]
  },
  {
   "cell_type": "markdown",
   "metadata": {
    "id": "1IUDldmuPObt"
   },
   "source": [
    "## 회귀 성능 평가 함수"
   ]
  },
  {
   "cell_type": "code",
   "execution_count": 12,
   "metadata": {
    "ExecuteTime": {
     "end_time": "2023-07-11T16:21:46.571965Z",
     "start_time": "2023-07-11T16:21:46.530738Z"
    },
    "id": "xAhZmyeYPObt"
   },
   "outputs": [],
   "source": [
    "def show_reg_result(y_test, y_pred, N=50):\n",
    "    mae = mean_absolute_error(y_test, y_pred)\n",
    "    rmse = mean_squared_error(y_test, y_pred, squared=False)\n",
    "    R2 = r2_score(y_test, y_pred)\n",
    "    max_err = np.abs(y_test - y_pred).max()\n",
    "\n",
    "    print('R2:', round(R2,4))\n",
    "    print('MAE:', round(mae, 4))\n",
    "    print('RMSE:', round(rmse,4))\n",
    "    print('Max error:', round(max_err, 4))\n",
    "\n",
    "    # 일부 실제값과 예측값 샘플을 plot으로 비교하여 그려본다 (N 개)\n",
    "\n",
    "    if N > 0:\n",
    "      plt.figure(figsize=(8, 6))\n",
    "      plt.plot(y_pred[:N], \".b-\", label=\"prediction\", linewidth=1.0)\n",
    "      plt.plot(y_test[:N], '.r-', label=\"actual\", linewidth=1.0)\n",
    "      plt.legend()\n",
    "      plt.ylabel('logP')\n",
    "      plt.show()"
   ]
  },
  {
   "cell_type": "markdown",
   "metadata": {
    "id": "T-XY5OLKFKWk"
   },
   "source": [
    "## 선형모델"
   ]
  },
  {
   "cell_type": "code",
   "execution_count": 13,
   "metadata": {
    "ExecuteTime": {
     "end_time": "2023-07-11T16:21:47.254804Z",
     "start_time": "2023-07-11T16:21:46.673288Z"
    },
    "colab": {
     "base_uri": "https://localhost:8080/",
     "height": 596
    },
    "id": "3GxXI98VPObt",
    "outputId": "98c628e1-30cb-42c7-de64-2fdc06605326"
   },
   "outputs": [
    {
     "name": "stdout",
     "output_type": "stream",
     "text": [
      "R2: 0.6695\n",
      "MAE: 0.6037\n",
      "RMSE: 0.7691\n",
      "Max error: 4.5378\n"
     ]
    },
    {
     "data": {
      "image/png": "[encoded data removed]",
      "text/plain": [
       "<Figure size 576x432 with 1 Axes>"
      ]
     },
     "metadata": {
      "image/png": {
       "height": 357,
       "width": 496
      },
      "needs_background": "light"
     },
     "output_type": "display_data"
    }
   ],
   "source": [
    "# 모델 학습 및 성능 평가\n",
    "lin = LinearRegression() # y = ax + b\n",
    "lin.fit(X_train, y_train)\n",
    "y_pred = lin.predict(X_test) # logP의 예측값\n",
    "show_reg_result(y_test, y_pred)"
   ]
  },
  {
   "cell_type": "code",
   "execution_count": 14,
   "metadata": {
    "ExecuteTime": {
     "end_time": "2023-07-11T16:21:51.730467Z",
     "start_time": "2023-07-11T16:21:51.725734Z"
    },
    "colab": {
     "base_uri": "https://localhost:8080/"
    },
    "id": "62kwSGM2DUHF",
    "outputId": "4deeab6d-2fa7-4d4e-8de2-9c664a9882fc"
   },
   "outputs": [
    {
     "data": {
      "text/plain": [
       "array([-0.14780465,  0.41020958,  0.38291783, -0.73482688, -0.81936042,\n",
       "        0.13399172])"
      ]
     },
     "execution_count": 14,
     "metadata": {},
     "output_type": "execute_result"
    }
   ],
   "source": [
    "# 선형 모델의 가중치 보기, a\n",
    "lin.coef_"
   ]
  },
  {
   "cell_type": "code",
   "execution_count": 15,
   "metadata": {
    "ExecuteTime": {
     "end_time": "2023-07-11T16:21:51.764483Z",
     "start_time": "2023-07-11T16:21:51.761305Z"
    },
    "id": "uoeTX6x8F7kk"
   },
   "outputs": [],
   "source": [
    "# 가중치를 그려보는 함수 정의\n",
    "\n",
    "def plot_feature_weight(feature, weight):\n",
    "    W = pd.DataFrame({'feature':feature,'weight':weight})\n",
    "    W.sort_values('weight', inplace=True)\n",
    "    plt.barh(W.feature, W.weight)"
   ]
  },
  {
   "cell_type": "code",
   "execution_count": 16,
   "metadata": {
    "ExecuteTime": {
     "end_time": "2023-07-11T16:21:51.961808Z",
     "start_time": "2023-07-11T16:21:51.797346Z"
    },
    "colab": {
     "base_uri": "https://localhost:8080/",
     "height": 430
    },
    "id": "Z0h2YT5iG5yk",
    "outputId": "2c3b36a9-0a23-4f9a-b1ad-42993ef76e58"
   },
   "outputs": [
    {
     "data": {
      "image/png": "[encoded data removed]",
      "text/plain": [
       "<Figure size 432x288 with 1 Axes>"
      ]
     },
     "metadata": {
      "image/png": {
       "height": 248,
       "width": 465
      },
      "needs_background": "light"
     },
     "output_type": "display_data"
    }
   ],
   "source": [
    "plot_feature_weight(train_df.columns, lin.coef_)"
   ]
  },
  {
   "cell_type": "markdown",
   "metadata": {
    "id": "JRQ4bXwftbDU"
   },
   "source": [
    "# Fingerprint 표현형 사용\n",
    "\n",
    "- mol 객체로부터 ECFP Fingerprint를 구하는 함수 정의\n",
    "- GetMorganFingerprintAsBitVect() 함수를 사용한다"
   ]
  },
  {
   "cell_type": "code",
   "execution_count": 17,
   "metadata": {
    "ExecuteTime": {
     "end_time": "2023-07-11T16:21:57.549813Z",
     "start_time": "2023-07-11T16:21:57.546935Z"
    },
    "id": "0k6s4URSmHdb"
   },
   "outputs": [],
   "source": [
    "def mol_2_fp(mol):\n",
    "  fp = AllChem.GetMorganFingerprintAsBitVect(mol, 3, nBits=1024)\n",
    "  return fp"
   ]
  },
  {
   "cell_type": "markdown",
   "metadata": {
    "id": "EOcjYnCH9nfh"
   },
   "source": [
    "- 분자별 Fingerprint 정보를 2차원 어레이로 만들기\n",
    "- 여러 어레이를 합치기 위해서 np.vstack()을 사용한다"
   ]
  },
  {
   "cell_type": "code",
   "execution_count": 18,
   "metadata": {
    "ExecuteTime": {
     "end_time": "2023-07-11T16:22:08.850304Z",
     "start_time": "2023-07-11T16:21:57.581994Z"
    },
    "colab": {
     "base_uri": "https://localhost:8080/"
    },
    "id": "vjQ5MvTJg5Ef",
    "outputId": "f01b65f9-396e-4877-9c3b-4a187549d449"
   },
   "outputs": [
    {
     "name": "stdout",
     "output_type": "stream",
     "text": [
      "(14610, 1024)\n"
     ]
    },
    {
     "data": {
      "text/plain": [
       "array([[0, 1, 0, ..., 0, 0, 0],\n",
       "       [0, 0, 0, ..., 0, 0, 0],\n",
       "       [0, 1, 0, ..., 0, 0, 0]])"
      ]
     },
     "execution_count": 18,
     "metadata": {},
     "output_type": "execute_result"
    }
   ],
   "source": [
    "list_fp = df['mol'].apply(mol_2_fp)\n",
    "ecfp = np.vstack(list_fp)\n",
    "print(ecfp.shape)\n",
    "ecfp[:3]"
   ]
  },
  {
   "cell_type": "markdown",
   "metadata": {
    "id": "hnWnIBk49nfh"
   },
   "source": [
    "- Fingerprint를 사용한 경우의 모델 성능 보기"
   ]
  },
  {
   "cell_type": "code",
   "execution_count": 19,
   "metadata": {
    "ExecuteTime": {
     "end_time": "2023-07-11T16:22:08.921805Z",
     "start_time": "2023-07-11T16:22:08.886501Z"
    },
    "id": "3Ia9x_mbi-mh"
   },
   "outputs": [],
   "source": [
    "X_train, X_test, y_train, y_test = train_test_split(ecfp, y, test_size=.1)"
   ]
  },
  {
   "cell_type": "code",
   "execution_count": 20,
   "metadata": {
    "ExecuteTime": {
     "end_time": "2023-07-11T16:22:09.848961Z",
     "start_time": "2023-07-11T16:22:08.950388Z"
    },
    "colab": {
     "base_uri": "https://localhost:8080/"
    },
    "id": "XdghMa7Blw4W",
    "outputId": "242cb907-0552-47e6-c172-0174b8e88877"
   },
   "outputs": [
    {
     "name": "stdout",
     "output_type": "stream",
     "text": [
      "R2: 0.7591\n",
      "MAE: 0.4754\n",
      "RMSE: 0.6446\n",
      "Max error: 3.6636\n"
     ]
    }
   ],
   "source": [
    "# 선형모델\n",
    "lin = LinearRegression()\n",
    "lin.fit(X_train, y_train)\n",
    "y_pred = lin.predict(X_test)\n",
    "show_reg_result(y_test, y_pred, 0)"
   ]
  },
  {
   "cell_type": "code",
   "execution_count": null,
   "metadata": {},
   "outputs": [],
   "source": []
  }
 ],
 "metadata": {
  "accelerator": "GPU",
  "colab": {
   "provenance": []
  },
  "gpuClass": "standard",
  "kernelspec": {
   "display_name": "Python 3",
   "language": "python",
   "name": "python3"
  },
  "language_info": {
   "codemirror_mode": {
    "name": "ipython",
    "version": 3
   },
   "file_extension": ".py",
   "mimetype": "text/x-python",
   "name": "python",
   "nbconvert_exporter": "python",
   "pygments_lexer": "ipython3",
   "version": "3.8.8"
  },
  "toc": {
   "base_numbering": 1,
   "nav_menu": {},
   "number_sections": false,
   "sideBar": true,
   "skip_h1_title": false,
   "title_cell": "Table of Contents",
   "title_sidebar": "Contents",
   "toc_cell": false,
   "toc_position": {},
   "toc_section_display": true,
   "toc_window_display": true
  },
  "varInspector": {
   "cols": {
    "lenName": 16,
    "lenType": 16,
    "lenVar": 40
   },
   "kernels_config": {
    "python": {
     "delete_cmd_postfix": "",
     "delete_cmd_prefix": "del ",
     "library": "var_list.py",
     "varRefreshCmd": "print(var_dic_list())"
    },
    "r": {
     "delete_cmd_postfix": ") ",
     "delete_cmd_prefix": "rm(",
     "library": "var_list.r",
     "varRefreshCmd": "cat(var_dic_list()) "
    }
   },
   "types_to_exclude": [
    "module",
    "function",
    "builtin_function_or_method",
    "instance",
    "_Feature"
   ],
   "window_display": false
  }
 },
 "nbformat": 4,
 "nbformat_minor": 1
}
