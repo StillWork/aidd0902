{
 "cells": [
  {
   "cell_type": "markdown",
   "metadata": {
    "id": "7WqUxMsYciVu"
   },
   "source": [
    "# 테이블 데이터 다루기\n",
    "\n",
    "- 데이터프레임 다루기\n",
    "- pIC50 데이터 사용\n",
    "- groupby 사용"
   ]
  },
  {
   "cell_type": "markdown",
   "metadata": {
    "id": "iqVtTIz58Oqw"
   },
   "source": [
    "# import"
   ]
  },
  {
   "cell_type": "code",
   "execution_count": 1,
   "metadata": {
    "id": "mN8oi6iVciVx"
   },
   "outputs": [],
   "source": [
    "import pandas as pd\n",
    "import numpy as np\n",
    "import matplotlib.pyplot as plt\n",
    "import seaborn as sns\n",
    "%matplotlib inline\n",
    "%config InlineBackend.figure_format = 'retina'"
   ]
  },
  {
   "cell_type": "markdown",
   "metadata": {
    "id": "HPPGD0lsciVy"
   },
   "source": [
    "# 데이터 처리\n",
    "- SD File 포맷\n",
    "- hERG assays in the ChEMBL database"
   ]
  },
  {
   "cell_type": "code",
   "execution_count": 2,
   "metadata": {
    "colab": {
     "base_uri": "https://localhost:8080/",
     "height": 399
    },
    "id": "wvm-IMEUciVy",
    "outputId": "c2818497-7d88-4bec-d543-3126eb026497"
   },
   "outputs": [
    {
     "name": "stdout",
     "output_type": "stream",
     "text": [
      "(8989, 13)\n"
     ]
    },
    {
     "data": {
      "text/html": [
       "<div>\n",
       "<style scoped>\n",
       "    .dataframe tbody tr th:only-of-type {\n",
       "        vertical-align: middle;\n",
       "    }\n",
       "\n",
       "    .dataframe tbody tr th {\n",
       "        vertical-align: top;\n",
       "    }\n",
       "\n",
       "    .dataframe thead th {\n",
       "        text-align: right;\n",
       "    }\n",
       "</style>\n",
       "<table border=\"1\" class=\"dataframe\">\n",
       "  <thead>\n",
       "    <tr style=\"text-align: right;\">\n",
       "      <th></th>\n",
       "      <th>canonical_smiles</th>\n",
       "      <th>molregno</th>\n",
       "      <th>mol_chembl_id</th>\n",
       "      <th>standard_relation</th>\n",
       "      <th>standard_value</th>\n",
       "      <th>standard_type</th>\n",
       "      <th>standard_units</th>\n",
       "      <th>description</th>\n",
       "      <th>organism</th>\n",
       "      <th>assay_type</th>\n",
       "      <th>confidence_score</th>\n",
       "      <th>pref_name</th>\n",
       "      <th>tgt_chembl_id</th>\n",
       "    </tr>\n",
       "  </thead>\n",
       "  <tbody>\n",
       "    <tr>\n",
       "      <th>0</th>\n",
       "      <td>COCC(=O)O[C@]1(CCN(C)CCCc2nc3ccccc3[nH]2)CCc4c...</td>\n",
       "      <td>72035</td>\n",
       "      <td>CHEMBL45816</td>\n",
       "      <td>=</td>\n",
       "      <td>1430.0</td>\n",
       "      <td>IC50</td>\n",
       "      <td>nM</td>\n",
       "      <td>K+ channel blocking activity in COS-7 African ...</td>\n",
       "      <td>Homo sapiens</td>\n",
       "      <td>F</td>\n",
       "      <td>9</td>\n",
       "      <td>HERG</td>\n",
       "      <td>CHEMBL240</td>\n",
       "    </tr>\n",
       "    <tr>\n",
       "      <th>1</th>\n",
       "      <td>CC(C)COCC(CN(Cc1ccccc1)c2ccccc2)N3CCCC3</td>\n",
       "      <td>112651</td>\n",
       "      <td>CHEMBL1008</td>\n",
       "      <td>=</td>\n",
       "      <td>550.0</td>\n",
       "      <td>IC50</td>\n",
       "      <td>nM</td>\n",
       "      <td>K+ channel blocking activity in COS-7 African ...</td>\n",
       "      <td>Homo sapiens</td>\n",
       "      <td>F</td>\n",
       "      <td>9</td>\n",
       "      <td>HERG</td>\n",
       "      <td>CHEMBL240</td>\n",
       "    </tr>\n",
       "    <tr>\n",
       "      <th>2</th>\n",
       "      <td>COc1c(N2C[C@@H]3CCCN[C@@H]3C2)c(F)cc4C(=O)C(=C...</td>\n",
       "      <td>1788</td>\n",
       "      <td>CHEMBL32</td>\n",
       "      <td>=</td>\n",
       "      <td>129000.0</td>\n",
       "      <td>IC50</td>\n",
       "      <td>nM</td>\n",
       "      <td>K+ channel blocking activity in Chinese hamste...</td>\n",
       "      <td>Homo sapiens</td>\n",
       "      <td>F</td>\n",
       "      <td>9</td>\n",
       "      <td>HERG</td>\n",
       "      <td>CHEMBL240</td>\n",
       "    </tr>\n",
       "  </tbody>\n",
       "</table>\n",
       "</div>"
      ],
      "text/plain": [
       "                                    canonical_smiles  molregno mol_chembl_id  \\\n",
       "0  COCC(=O)O[C@]1(CCN(C)CCCc2nc3ccccc3[nH]2)CCc4c...     72035   CHEMBL45816   \n",
       "1            CC(C)COCC(CN(Cc1ccccc1)c2ccccc2)N3CCCC3    112651    CHEMBL1008   \n",
       "2  COc1c(N2C[C@@H]3CCCN[C@@H]3C2)c(F)cc4C(=O)C(=C...      1788      CHEMBL32   \n",
       "\n",
       "  standard_relation  standard_value standard_type standard_units  \\\n",
       "0                 =          1430.0          IC50             nM   \n",
       "1                 =           550.0          IC50             nM   \n",
       "2                 =        129000.0          IC50             nM   \n",
       "\n",
       "                                         description      organism assay_type  \\\n",
       "0  K+ channel blocking activity in COS-7 African ...  Homo sapiens          F   \n",
       "1  K+ channel blocking activity in COS-7 African ...  Homo sapiens          F   \n",
       "2  K+ channel blocking activity in Chinese hamste...  Homo sapiens          F   \n",
       "\n",
       "   confidence_score pref_name tgt_chembl_id  \n",
       "0                 9      HERG     CHEMBL240  \n",
       "1                 9      HERG     CHEMBL240  \n",
       "2                 9      HERG     CHEMBL240  "
      ]
     },
     "execution_count": 2,
     "metadata": {},
     "output_type": "execute_result"
    }
   ],
   "source": [
    "df = pd.read_csv(\"https://raw.githubusercontent.com/PatWalters/practical_cheminformatics_tutorials/main/data/ChEMBL_hERG.csv\")\n",
    "print(df.shape)\n",
    "df[:3]"
   ]
  },
  {
   "cell_type": "markdown",
   "metadata": {
    "id": "aA5_GnxqciVz"
   },
   "source": [
    "- 데이터프레임 기본 정보"
   ]
  },
  {
   "cell_type": "code",
   "execution_count": 3,
   "metadata": {
    "colab": {
     "base_uri": "https://localhost:8080/"
    },
    "id": "HwkQd8olciVz",
    "outputId": "e05038b0-cf21-4b1a-a8b5-11f14c22d9d7"
   },
   "outputs": [
    {
     "name": "stdout",
     "output_type": "stream",
     "text": [
      "<class 'pandas.core.frame.DataFrame'>\n",
      "RangeIndex: 8989 entries, 0 to 8988\n",
      "Data columns (total 13 columns):\n",
      " #   Column             Non-Null Count  Dtype  \n",
      "---  ------             --------------  -----  \n",
      " 0   canonical_smiles   8989 non-null   object \n",
      " 1   molregno           8989 non-null   int64  \n",
      " 2   mol_chembl_id      8989 non-null   object \n",
      " 3   standard_relation  8989 non-null   object \n",
      " 4   standard_value     8989 non-null   float64\n",
      " 5   standard_type      8989 non-null   object \n",
      " 6   standard_units     8989 non-null   object \n",
      " 7   description        8989 non-null   object \n",
      " 8   organism           8989 non-null   object \n",
      " 9   assay_type         8989 non-null   object \n",
      " 10  confidence_score   8989 non-null   int64  \n",
      " 11  pref_name          8989 non-null   object \n",
      " 12  tgt_chembl_id      8989 non-null   object \n",
      "dtypes: float64(1), int64(2), object(10)\n",
      "memory usage: 913.1+ KB\n"
     ]
    }
   ],
   "source": [
    "df.info()"
   ]
  },
  {
   "cell_type": "markdown",
   "metadata": {
    "id": "heDzgCy6ciVz"
   },
   "source": [
    "- 컬럼 인덱스 보기"
   ]
  },
  {
   "cell_type": "code",
   "execution_count": 4,
   "metadata": {
    "colab": {
     "base_uri": "https://localhost:8080/"
    },
    "id": "yQLZP4IDciVz",
    "outputId": "20901618-66f0-49df-d348-56c04023c438"
   },
   "outputs": [
    {
     "data": {
      "text/plain": [
       "Index(['canonical_smiles', 'molregno', 'mol_chembl_id', 'standard_relation',\n",
       "       'standard_value', 'standard_type', 'standard_units', 'description',\n",
       "       'organism', 'assay_type', 'confidence_score', 'pref_name',\n",
       "       'tgt_chembl_id'],\n",
       "      dtype='object')"
      ]
     },
     "execution_count": 4,
     "metadata": {},
     "output_type": "execute_result"
    }
   ],
   "source": [
    "df.columns"
   ]
  },
  {
   "cell_type": "markdown",
   "metadata": {
    "id": "gOaB1Z9mciVz"
   },
   "source": [
    "- 연속 변수 속성 보기"
   ]
  },
  {
   "cell_type": "code",
   "execution_count": 5,
   "metadata": {
    "colab": {
     "base_uri": "https://localhost:8080/",
     "height": 300
    },
    "id": "bGi7ra3dciVz",
    "outputId": "115b6a9f-9837-48f6-90bb-18a2d9b5a5ea"
   },
   "outputs": [
    {
     "data": {
      "text/html": [
       "<div>\n",
       "<style scoped>\n",
       "    .dataframe tbody tr th:only-of-type {\n",
       "        vertical-align: middle;\n",
       "    }\n",
       "\n",
       "    .dataframe tbody tr th {\n",
       "        vertical-align: top;\n",
       "    }\n",
       "\n",
       "    .dataframe thead th {\n",
       "        text-align: right;\n",
       "    }\n",
       "</style>\n",
       "<table border=\"1\" class=\"dataframe\">\n",
       "  <thead>\n",
       "    <tr style=\"text-align: right;\">\n",
       "      <th></th>\n",
       "      <th>molregno</th>\n",
       "      <th>standard_value</th>\n",
       "      <th>confidence_score</th>\n",
       "    </tr>\n",
       "  </thead>\n",
       "  <tbody>\n",
       "    <tr>\n",
       "      <th>count</th>\n",
       "      <td>8.989000e+03</td>\n",
       "      <td>8.989000e+03</td>\n",
       "      <td>8989.000000</td>\n",
       "    </tr>\n",
       "    <tr>\n",
       "      <th>mean</th>\n",
       "      <td>1.162010e+06</td>\n",
       "      <td>9.680188e+05</td>\n",
       "      <td>8.944599</td>\n",
       "    </tr>\n",
       "    <tr>\n",
       "      <th>std</th>\n",
       "      <td>6.612153e+05</td>\n",
       "      <td>2.558712e+07</td>\n",
       "      <td>0.228774</td>\n",
       "    </tr>\n",
       "    <tr>\n",
       "      <th>min</th>\n",
       "      <td>9.700000e+01</td>\n",
       "      <td>1.400000e-01</td>\n",
       "      <td>8.000000</td>\n",
       "    </tr>\n",
       "    <tr>\n",
       "      <th>25%</th>\n",
       "      <td>5.569920e+05</td>\n",
       "      <td>1.880000e+03</td>\n",
       "      <td>9.000000</td>\n",
       "    </tr>\n",
       "    <tr>\n",
       "      <th>50%</th>\n",
       "      <td>1.280901e+06</td>\n",
       "      <td>9.400000e+03</td>\n",
       "      <td>9.000000</td>\n",
       "    </tr>\n",
       "    <tr>\n",
       "      <th>75%</th>\n",
       "      <td>1.748621e+06</td>\n",
       "      <td>2.900000e+04</td>\n",
       "      <td>9.000000</td>\n",
       "    </tr>\n",
       "    <tr>\n",
       "      <th>max</th>\n",
       "      <td>2.196506e+06</td>\n",
       "      <td>1.000000e+09</td>\n",
       "      <td>9.000000</td>\n",
       "    </tr>\n",
       "  </tbody>\n",
       "</table>\n",
       "</div>"
      ],
      "text/plain": [
       "           molregno  standard_value  confidence_score\n",
       "count  8.989000e+03    8.989000e+03       8989.000000\n",
       "mean   1.162010e+06    9.680188e+05          8.944599\n",
       "std    6.612153e+05    2.558712e+07          0.228774\n",
       "min    9.700000e+01    1.400000e-01          8.000000\n",
       "25%    5.569920e+05    1.880000e+03          9.000000\n",
       "50%    1.280901e+06    9.400000e+03          9.000000\n",
       "75%    1.748621e+06    2.900000e+04          9.000000\n",
       "max    2.196506e+06    1.000000e+09          9.000000"
      ]
     },
     "execution_count": 5,
     "metadata": {},
     "output_type": "execute_result"
    }
   ],
   "source": [
    "df.describe()"
   ]
  },
  {
   "cell_type": "code",
   "execution_count": 6,
   "metadata": {
    "colab": {
     "base_uri": "https://localhost:8080/",
     "height": 363
    },
    "id": "h1XepSF3iuZp",
    "outputId": "faab58e1-cec0-4029-c463-a5b71b42344a"
   },
   "outputs": [
    {
     "data": {
      "text/html": [
       "<div>\n",
       "<style scoped>\n",
       "    .dataframe tbody tr th:only-of-type {\n",
       "        vertical-align: middle;\n",
       "    }\n",
       "\n",
       "    .dataframe tbody tr th {\n",
       "        vertical-align: top;\n",
       "    }\n",
       "\n",
       "    .dataframe thead th {\n",
       "        text-align: right;\n",
       "    }\n",
       "</style>\n",
       "<table border=\"1\" class=\"dataframe\">\n",
       "  <thead>\n",
       "    <tr style=\"text-align: right;\">\n",
       "      <th></th>\n",
       "      <th>count</th>\n",
       "      <th>unique</th>\n",
       "      <th>top</th>\n",
       "      <th>freq</th>\n",
       "    </tr>\n",
       "  </thead>\n",
       "  <tbody>\n",
       "    <tr>\n",
       "      <th>canonical_smiles</th>\n",
       "      <td>8989</td>\n",
       "      <td>7438</td>\n",
       "      <td>CC(C)(C)c1ccc(cc1)C(O)CCCN2CCC(CC2)C(O)(c3cccc...</td>\n",
       "      <td>18</td>\n",
       "    </tr>\n",
       "    <tr>\n",
       "      <th>mol_chembl_id</th>\n",
       "      <td>8989</td>\n",
       "      <td>7438</td>\n",
       "      <td>CHEMBL17157</td>\n",
       "      <td>18</td>\n",
       "    </tr>\n",
       "    <tr>\n",
       "      <th>standard_relation</th>\n",
       "      <td>8989</td>\n",
       "      <td>6</td>\n",
       "      <td>=</td>\n",
       "      <td>6655</td>\n",
       "    </tr>\n",
       "    <tr>\n",
       "      <th>standard_type</th>\n",
       "      <td>8989</td>\n",
       "      <td>1</td>\n",
       "      <td>IC50</td>\n",
       "      <td>8989</td>\n",
       "    </tr>\n",
       "    <tr>\n",
       "      <th>standard_units</th>\n",
       "      <td>8989</td>\n",
       "      <td>1</td>\n",
       "      <td>nM</td>\n",
       "      <td>8989</td>\n",
       "    </tr>\n",
       "    <tr>\n",
       "      <th>description</th>\n",
       "      <td>8989</td>\n",
       "      <td>539</td>\n",
       "      <td>Inhibition of human ERG</td>\n",
       "      <td>1346</td>\n",
       "    </tr>\n",
       "    <tr>\n",
       "      <th>organism</th>\n",
       "      <td>8989</td>\n",
       "      <td>1</td>\n",
       "      <td>Homo sapiens</td>\n",
       "      <td>8989</td>\n",
       "    </tr>\n",
       "    <tr>\n",
       "      <th>assay_type</th>\n",
       "      <td>8989</td>\n",
       "      <td>2</td>\n",
       "      <td>B</td>\n",
       "      <td>8791</td>\n",
       "    </tr>\n",
       "    <tr>\n",
       "      <th>pref_name</th>\n",
       "      <td>8989</td>\n",
       "      <td>1</td>\n",
       "      <td>HERG</td>\n",
       "      <td>8989</td>\n",
       "    </tr>\n",
       "    <tr>\n",
       "      <th>tgt_chembl_id</th>\n",
       "      <td>8989</td>\n",
       "      <td>1</td>\n",
       "      <td>CHEMBL240</td>\n",
       "      <td>8989</td>\n",
       "    </tr>\n",
       "  </tbody>\n",
       "</table>\n",
       "</div>"
      ],
      "text/plain": [
       "                  count unique  \\\n",
       "canonical_smiles   8989   7438   \n",
       "mol_chembl_id      8989   7438   \n",
       "standard_relation  8989      6   \n",
       "standard_type      8989      1   \n",
       "standard_units     8989      1   \n",
       "description        8989    539   \n",
       "organism           8989      1   \n",
       "assay_type         8989      2   \n",
       "pref_name          8989      1   \n",
       "tgt_chembl_id      8989      1   \n",
       "\n",
       "                                                                 top  freq  \n",
       "canonical_smiles   CC(C)(C)c1ccc(cc1)C(O)CCCN2CCC(CC2)C(O)(c3cccc...    18  \n",
       "mol_chembl_id                                            CHEMBL17157    18  \n",
       "standard_relation                                                  =  6655  \n",
       "standard_type                                                   IC50  8989  \n",
       "standard_units                                                    nM  8989  \n",
       "description                                  Inhibition of human ERG  1346  \n",
       "organism                                                Homo sapiens  8989  \n",
       "assay_type                                                         B  8791  \n",
       "pref_name                                                       HERG  8989  \n",
       "tgt_chembl_id                                              CHEMBL240  8989  "
      ]
     },
     "execution_count": 6,
     "metadata": {},
     "output_type": "execute_result"
    }
   ],
   "source": [
    "# 문자열 변수 속성 보기\n",
    "df.describe(include=object).T"
   ]
  },
  {
   "cell_type": "markdown",
   "metadata": {
    "id": "BF-t7izYciVz"
   },
   "source": [
    "## 범주형 변수로 표시\n",
    "\n",
    "- molregno는 숫자로 표현되어 있지만 범주형(categorical) 변수임\n",
    "- 파이썬의 int 타입을 str 으로 변경\n",
    "- 데이터프레임에서는 파이썬의 str(문자열)을 object로 표현함"
   ]
  },
  {
   "cell_type": "code",
   "execution_count": 7,
   "metadata": {
    "colab": {
     "base_uri": "https://localhost:8080/",
     "height": 394
    },
    "id": "bYlNhcWwciVz",
    "outputId": "b7d5cdce-db7b-481d-bf04-82b617e5fa4f"
   },
   "outputs": [
    {
     "data": {
      "text/html": [
       "<div>\n",
       "<style scoped>\n",
       "    .dataframe tbody tr th:only-of-type {\n",
       "        vertical-align: middle;\n",
       "    }\n",
       "\n",
       "    .dataframe tbody tr th {\n",
       "        vertical-align: top;\n",
       "    }\n",
       "\n",
       "    .dataframe thead th {\n",
       "        text-align: right;\n",
       "    }\n",
       "</style>\n",
       "<table border=\"1\" class=\"dataframe\">\n",
       "  <thead>\n",
       "    <tr style=\"text-align: right;\">\n",
       "      <th></th>\n",
       "      <th>count</th>\n",
       "      <th>unique</th>\n",
       "      <th>top</th>\n",
       "      <th>freq</th>\n",
       "    </tr>\n",
       "  </thead>\n",
       "  <tbody>\n",
       "    <tr>\n",
       "      <th>canonical_smiles</th>\n",
       "      <td>8989</td>\n",
       "      <td>7438</td>\n",
       "      <td>CC(C)(C)c1ccc(cc1)C(O)CCCN2CCC(CC2)C(O)(c3cccc...</td>\n",
       "      <td>18</td>\n",
       "    </tr>\n",
       "    <tr>\n",
       "      <th>molregno</th>\n",
       "      <td>8989</td>\n",
       "      <td>7438</td>\n",
       "      <td>19569</td>\n",
       "      <td>18</td>\n",
       "    </tr>\n",
       "    <tr>\n",
       "      <th>mol_chembl_id</th>\n",
       "      <td>8989</td>\n",
       "      <td>7438</td>\n",
       "      <td>CHEMBL17157</td>\n",
       "      <td>18</td>\n",
       "    </tr>\n",
       "    <tr>\n",
       "      <th>standard_relation</th>\n",
       "      <td>8989</td>\n",
       "      <td>6</td>\n",
       "      <td>=</td>\n",
       "      <td>6655</td>\n",
       "    </tr>\n",
       "    <tr>\n",
       "      <th>standard_type</th>\n",
       "      <td>8989</td>\n",
       "      <td>1</td>\n",
       "      <td>IC50</td>\n",
       "      <td>8989</td>\n",
       "    </tr>\n",
       "    <tr>\n",
       "      <th>standard_units</th>\n",
       "      <td>8989</td>\n",
       "      <td>1</td>\n",
       "      <td>nM</td>\n",
       "      <td>8989</td>\n",
       "    </tr>\n",
       "    <tr>\n",
       "      <th>description</th>\n",
       "      <td>8989</td>\n",
       "      <td>539</td>\n",
       "      <td>Inhibition of human ERG</td>\n",
       "      <td>1346</td>\n",
       "    </tr>\n",
       "    <tr>\n",
       "      <th>organism</th>\n",
       "      <td>8989</td>\n",
       "      <td>1</td>\n",
       "      <td>Homo sapiens</td>\n",
       "      <td>8989</td>\n",
       "    </tr>\n",
       "    <tr>\n",
       "      <th>assay_type</th>\n",
       "      <td>8989</td>\n",
       "      <td>2</td>\n",
       "      <td>B</td>\n",
       "      <td>8791</td>\n",
       "    </tr>\n",
       "    <tr>\n",
       "      <th>pref_name</th>\n",
       "      <td>8989</td>\n",
       "      <td>1</td>\n",
       "      <td>HERG</td>\n",
       "      <td>8989</td>\n",
       "    </tr>\n",
       "    <tr>\n",
       "      <th>tgt_chembl_id</th>\n",
       "      <td>8989</td>\n",
       "      <td>1</td>\n",
       "      <td>CHEMBL240</td>\n",
       "      <td>8989</td>\n",
       "    </tr>\n",
       "  </tbody>\n",
       "</table>\n",
       "</div>"
      ],
      "text/plain": [
       "                  count unique  \\\n",
       "canonical_smiles   8989   7438   \n",
       "molregno           8989   7438   \n",
       "mol_chembl_id      8989   7438   \n",
       "standard_relation  8989      6   \n",
       "standard_type      8989      1   \n",
       "standard_units     8989      1   \n",
       "description        8989    539   \n",
       "organism           8989      1   \n",
       "assay_type         8989      2   \n",
       "pref_name          8989      1   \n",
       "tgt_chembl_id      8989      1   \n",
       "\n",
       "                                                                 top  freq  \n",
       "canonical_smiles   CC(C)(C)c1ccc(cc1)C(O)CCCN2CCC(CC2)C(O)(c3cccc...    18  \n",
       "molregno                                                       19569    18  \n",
       "mol_chembl_id                                            CHEMBL17157    18  \n",
       "standard_relation                                                  =  6655  \n",
       "standard_type                                                   IC50  8989  \n",
       "standard_units                                                    nM  8989  \n",
       "description                                  Inhibition of human ERG  1346  \n",
       "organism                                                Homo sapiens  8989  \n",
       "assay_type                                                         B  8791  \n",
       "pref_name                                                       HERG  8989  \n",
       "tgt_chembl_id                                              CHEMBL240  8989  "
      ]
     },
     "execution_count": 7,
     "metadata": {},
     "output_type": "execute_result"
    }
   ],
   "source": [
    "df.molregno = df.molregno.apply(str)\n",
    "df.describe(include=object).T"
   ]
  },
  {
   "cell_type": "markdown",
   "metadata": {
    "id": "5rxz9qymciVz"
   },
   "source": [
    "## 어세이 타입\n",
    "\n",
    "- binding assays (B), and functional assays (F)"
   ]
  },
  {
   "cell_type": "code",
   "execution_count": 8,
   "metadata": {
    "colab": {
     "base_uri": "https://localhost:8080/",
     "height": 443
    },
    "id": "aMCPcL9RciVz",
    "outputId": "dd8f428f-cc3c-4cb3-864c-cfd4745a4b94"
   },
   "outputs": [
    {
     "data": {
      "text/plain": [
       "<AxesSubplot:>"
      ]
     },
     "execution_count": 8,
     "metadata": {},
     "output_type": "execute_result"
    },
    {
     "data": {
      "image/png": "[encoded data removed]",
      "text/plain": [
       "<Figure size 432x288 with 1 Axes>"
      ]
     },
     "metadata": {
      "image/png": {
       "height": 245,
       "width": 381
      },
      "needs_background": "light"
     },
     "output_type": "display_data"
    }
   ],
   "source": [
    "df.assay_type.value_counts().plot(kind='bar')"
   ]
  },
  {
   "cell_type": "markdown",
   "metadata": {
    "id": "O6L9Y6ExciVz"
   },
   "source": [
    "- binding assays 데이터만 사용하는 경우"
   ]
  },
  {
   "cell_type": "code",
   "execution_count": 9,
   "metadata": {
    "colab": {
     "base_uri": "https://localhost:8080/"
    },
    "id": "BFbCmNMvkWQ7",
    "outputId": "60e21880-019d-4eee-8537-145be518e0e1"
   },
   "outputs": [
    {
     "data": {
      "text/plain": [
       "(8791, 13)"
      ]
     },
     "execution_count": 9,
     "metadata": {},
     "output_type": "execute_result"
    }
   ],
   "source": [
    "df =df[df.assay_type == 'B']\n",
    "df.shape"
   ]
  },
  {
   "cell_type": "markdown",
   "metadata": {
    "id": "MhXCo6xcciVz"
   },
   "source": [
    "## 중복된 값 처리\n",
    "\n",
    "- 중복된 molregno (같은 분자) 데이터를 찾아본다\n",
    "- 평균치를 취하겠다"
   ]
  },
  {
   "cell_type": "code",
   "execution_count": 10,
   "metadata": {
    "colab": {
     "base_uri": "https://localhost:8080/"
    },
    "id": "nkiqOXH0ciVz",
    "outputId": "091bc499-c9e0-480c-8435-d1ef3cfa10c8",
    "scrolled": true
   },
   "outputs": [
    {
     "data": {
      "text/plain": [
       "(8791, 7382)"
      ]
     },
     "execution_count": 10,
     "metadata": {},
     "output_type": "execute_result"
    }
   ],
   "source": [
    "len(df), len(df.molregno.unique())"
   ]
  },
  {
   "cell_type": "code",
   "execution_count": 11,
   "metadata": {
    "id": "JaqNU0C2ciV0"
   },
   "outputs": [],
   "source": [
    "gb = df.groupby(\"molregno\")"
   ]
  },
  {
   "cell_type": "code",
   "execution_count": 12,
   "metadata": {
    "colab": {
     "base_uri": "https://localhost:8080/"
    },
    "id": "xGJ3fC-7mcbG",
    "outputId": "6e9b30a3-71ed-4e87-ec7e-643135313935"
   },
   "outputs": [
    {
     "data": {
      "text/plain": [
       "7382"
      ]
     },
     "execution_count": 12,
     "metadata": {},
     "output_type": "execute_result"
    }
   ],
   "source": [
    "gb.ngroups"
   ]
  },
  {
   "cell_type": "markdown",
   "metadata": {
    "id": "-I7r6FdjciV0"
   },
   "source": [
    "- molregno가 같은 샘플 수가 2개 이상인 경우 standard_value 값들 보기"
   ]
  },
  {
   "cell_type": "code",
   "execution_count": 13,
   "metadata": {
    "colab": {
     "base_uri": "https://localhost:8080/",
     "height": 694
    },
    "id": "Ejejm6zUciV0",
    "outputId": "35503d24-1a6e-4e31-bbc6-3277fe38eab8"
   },
   "outputs": [
    {
     "name": "stdout",
     "output_type": "stream",
     "text": [
      "(822, 2)\n"
     ]
    },
    {
     "data": {
      "text/html": [
       "<div>\n",
       "<style scoped>\n",
       "    .dataframe tbody tr th:only-of-type {\n",
       "        vertical-align: middle;\n",
       "    }\n",
       "\n",
       "    .dataframe tbody tr th {\n",
       "        vertical-align: top;\n",
       "    }\n",
       "\n",
       "    .dataframe thead th {\n",
       "        text-align: right;\n",
       "    }\n",
       "</style>\n",
       "<table border=\"1\" class=\"dataframe\">\n",
       "  <thead>\n",
       "    <tr style=\"text-align: right;\">\n",
       "      <th></th>\n",
       "      <th>name</th>\n",
       "      <th>standard_value</th>\n",
       "    </tr>\n",
       "  </thead>\n",
       "  <tbody>\n",
       "    <tr>\n",
       "      <th>0</th>\n",
       "      <td>10358</td>\n",
       "      <td>[20892.96, 1100.0, 20892.96, 20892.96, 20892.96]</td>\n",
       "    </tr>\n",
       "    <tr>\n",
       "      <th>1</th>\n",
       "      <td>1037723</td>\n",
       "      <td>[130.0, 130.0]</td>\n",
       "    </tr>\n",
       "    <tr>\n",
       "      <th>2</th>\n",
       "      <td>1056655</td>\n",
       "      <td>[3900.0, 3900.0]</td>\n",
       "    </tr>\n",
       "    <tr>\n",
       "      <th>3</th>\n",
       "      <td>10661</td>\n",
       "      <td>[1100.0, 12618.2]</td>\n",
       "    </tr>\n",
       "    <tr>\n",
       "      <th>4</th>\n",
       "      <td>1073158</td>\n",
       "      <td>[1700.0, 1700.0, 1700.0]</td>\n",
       "    </tr>\n",
       "    <tr>\n",
       "      <th>5</th>\n",
       "      <td>1073455</td>\n",
       "      <td>[7400.0, 7400.0]</td>\n",
       "    </tr>\n",
       "    <tr>\n",
       "      <th>6</th>\n",
       "      <td>1074880</td>\n",
       "      <td>[11200.0, 11200.0, 19000.0]</td>\n",
       "    </tr>\n",
       "    <tr>\n",
       "      <th>7</th>\n",
       "      <td>1075287</td>\n",
       "      <td>[10000.0, 10000.0]</td>\n",
       "    </tr>\n",
       "    <tr>\n",
       "      <th>8</th>\n",
       "      <td>10813</td>\n",
       "      <td>[10.0, 3.0, 3.0, 10.0, 14.7, 14.7, 10.0, 14.13...</td>\n",
       "    </tr>\n",
       "    <tr>\n",
       "      <th>9</th>\n",
       "      <td>10819</td>\n",
       "      <td>[7.0, 6.918]</td>\n",
       "    </tr>\n",
       "    <tr>\n",
       "      <th>10</th>\n",
       "      <td>10859</td>\n",
       "      <td>[204.0, 204.17]</td>\n",
       "    </tr>\n",
       "    <tr>\n",
       "      <th>11</th>\n",
       "      <td>10942</td>\n",
       "      <td>[10.0, 10.0]</td>\n",
       "    </tr>\n",
       "    <tr>\n",
       "      <th>12</th>\n",
       "      <td>110803</td>\n",
       "      <td>[169.82, 169.82, 169.82, 173.78, 173.78, 39086.6]</td>\n",
       "    </tr>\n",
       "    <tr>\n",
       "      <th>13</th>\n",
       "      <td>111060</td>\n",
       "      <td>[3019.95, 331.13, 104.8]</td>\n",
       "    </tr>\n",
       "    <tr>\n",
       "      <th>14</th>\n",
       "      <td>111185</td>\n",
       "      <td>[30199.52, 108000.0, 30199.52, 30000.0, 30199....</td>\n",
       "    </tr>\n",
       "    <tr>\n",
       "      <th>15</th>\n",
       "      <td>11143</td>\n",
       "      <td>[91201.08, 12000.0, 91201.08, 91201.08, 91201.08]</td>\n",
       "    </tr>\n",
       "    <tr>\n",
       "      <th>16</th>\n",
       "      <td>112651</td>\n",
       "      <td>[549.54, 430.0, 549.54, 549.54, 549.54, 22.91]</td>\n",
       "    </tr>\n",
       "    <tr>\n",
       "      <th>17</th>\n",
       "      <td>11305</td>\n",
       "      <td>[30000.0, 30000.0]</td>\n",
       "    </tr>\n",
       "    <tr>\n",
       "      <th>18</th>\n",
       "      <td>1137328</td>\n",
       "      <td>[160.0, 110.0]</td>\n",
       "    </tr>\n",
       "    <tr>\n",
       "      <th>19</th>\n",
       "      <td>1137505</td>\n",
       "      <td>[66.0, 2.0]</td>\n",
       "    </tr>\n",
       "  </tbody>\n",
       "</table>\n",
       "</div>"
      ],
      "text/plain": [
       "       name                                     standard_value\n",
       "0     10358   [20892.96, 1100.0, 20892.96, 20892.96, 20892.96]\n",
       "1   1037723                                     [130.0, 130.0]\n",
       "2   1056655                                   [3900.0, 3900.0]\n",
       "3     10661                                  [1100.0, 12618.2]\n",
       "4   1073158                           [1700.0, 1700.0, 1700.0]\n",
       "5   1073455                                   [7400.0, 7400.0]\n",
       "6   1074880                        [11200.0, 11200.0, 19000.0]\n",
       "7   1075287                                 [10000.0, 10000.0]\n",
       "8     10813  [10.0, 3.0, 3.0, 10.0, 14.7, 14.7, 10.0, 14.13...\n",
       "9     10819                                       [7.0, 6.918]\n",
       "10    10859                                    [204.0, 204.17]\n",
       "11    10942                                       [10.0, 10.0]\n",
       "12   110803  [169.82, 169.82, 169.82, 173.78, 173.78, 39086.6]\n",
       "13   111060                           [3019.95, 331.13, 104.8]\n",
       "14   111185  [30199.52, 108000.0, 30199.52, 30000.0, 30199....\n",
       "15    11143  [91201.08, 12000.0, 91201.08, 91201.08, 91201.08]\n",
       "16   112651     [549.54, 430.0, 549.54, 549.54, 549.54, 22.91]\n",
       "17    11305                                 [30000.0, 30000.0]\n",
       "18  1137328                                     [160.0, 110.0]\n",
       "19  1137505                                        [66.0, 2.0]"
      ]
     },
     "execution_count": 13,
     "metadata": {},
     "output_type": "execute_result"
    }
   ],
   "source": [
    "dup_list = []\n",
    "for k,v in gb:\n",
    "    if len(v) > 1:\n",
    "      dup_list.append([k,v.standard_value.values])\n",
    "dup_df = pd.DataFrame(dup_list,columns=[\"name\",\"standard_value\"])\n",
    "\n",
    "print(dup_df.shape)\n",
    "dup_df[:20]"
   ]
  },
  {
   "cell_type": "markdown",
   "metadata": {
    "id": "unXhAG-WSgxV"
   },
   "source": [
    "- 중복 샘플의 경우 평균치로 대체하고 데이터프레임을 새로 작성"
   ]
  },
  {
   "cell_type": "code",
   "execution_count": 14,
   "metadata": {
    "colab": {
     "base_uri": "https://localhost:8080/",
     "height": 381
    },
    "id": "F7yMwzOHSZA0",
    "outputId": "5b799116-8a0e-46be-fe62-cf6ffadfd8b8"
   },
   "outputs": [
    {
     "name": "stdout",
     "output_type": "stream",
     "text": [
      "(7382, 2)\n"
     ]
    },
    {
     "data": {
      "text/html": [
       "<div>\n",
       "<style scoped>\n",
       "    .dataframe tbody tr th:only-of-type {\n",
       "        vertical-align: middle;\n",
       "    }\n",
       "\n",
       "    .dataframe tbody tr th {\n",
       "        vertical-align: top;\n",
       "    }\n",
       "\n",
       "    .dataframe thead th {\n",
       "        text-align: right;\n",
       "    }\n",
       "</style>\n",
       "<table border=\"1\" class=\"dataframe\">\n",
       "  <thead>\n",
       "    <tr style=\"text-align: right;\">\n",
       "      <th></th>\n",
       "      <th>name</th>\n",
       "      <th>standard_value</th>\n",
       "    </tr>\n",
       "  </thead>\n",
       "  <tbody>\n",
       "    <tr>\n",
       "      <th>0</th>\n",
       "      <td>10358</td>\n",
       "      <td>16934.368</td>\n",
       "    </tr>\n",
       "    <tr>\n",
       "      <th>1</th>\n",
       "      <td>1037723</td>\n",
       "      <td>130.000</td>\n",
       "    </tr>\n",
       "    <tr>\n",
       "      <th>2</th>\n",
       "      <td>1038161</td>\n",
       "      <td>700.000</td>\n",
       "    </tr>\n",
       "    <tr>\n",
       "      <th>3</th>\n",
       "      <td>1038163</td>\n",
       "      <td>20000.000</td>\n",
       "    </tr>\n",
       "    <tr>\n",
       "      <th>4</th>\n",
       "      <td>1038164</td>\n",
       "      <td>20000.000</td>\n",
       "    </tr>\n",
       "    <tr>\n",
       "      <th>5</th>\n",
       "      <td>1038197</td>\n",
       "      <td>8000.000</td>\n",
       "    </tr>\n",
       "    <tr>\n",
       "      <th>6</th>\n",
       "      <td>1038198</td>\n",
       "      <td>65000.000</td>\n",
       "    </tr>\n",
       "    <tr>\n",
       "      <th>7</th>\n",
       "      <td>104385</td>\n",
       "      <td>100.000</td>\n",
       "    </tr>\n",
       "    <tr>\n",
       "      <th>8</th>\n",
       "      <td>1050197</td>\n",
       "      <td>380.000</td>\n",
       "    </tr>\n",
       "    <tr>\n",
       "      <th>9</th>\n",
       "      <td>1052745</td>\n",
       "      <td>5902.400</td>\n",
       "    </tr>\n",
       "  </tbody>\n",
       "</table>\n",
       "</div>"
      ],
      "text/plain": [
       "      name  standard_value\n",
       "0    10358       16934.368\n",
       "1  1037723         130.000\n",
       "2  1038161         700.000\n",
       "3  1038163       20000.000\n",
       "4  1038164       20000.000\n",
       "5  1038197        8000.000\n",
       "6  1038198       65000.000\n",
       "7   104385         100.000\n",
       "8  1050197         380.000\n",
       "9  1052745        5902.400"
      ]
     },
     "execution_count": 14,
     "metadata": {},
     "output_type": "execute_result"
    }
   ],
   "source": [
    "row_list = []\n",
    "for k,v in gb:\n",
    "  row_list.append([k,v.standard_value.mean()])\n",
    "row_df = pd.DataFrame(row_list,columns=[\"name\",\"standard_value\"])\n",
    "\n",
    "print(row_df.shape)\n",
    "row_df[:10]"
   ]
  },
  {
   "cell_type": "markdown",
   "metadata": {
    "id": "kq6Aie9SciV0"
   },
   "source": [
    "- 데이터 분포 보기"
   ]
  },
  {
   "cell_type": "code",
   "execution_count": 15,
   "metadata": {
    "colab": {
     "base_uri": "https://localhost:8080/",
     "height": 507
    },
    "id": "tPHL35emciV0",
    "outputId": "e8c7da96-4ee4-4e8a-8153-666bc1815db1"
   },
   "outputs": [
    {
     "data": {
      "image/png": "[encoded data removed]",
      "text/plain": [
       "<Figure size 360x360 with 1 Axes>"
      ]
     },
     "metadata": {
      "image/png": {
       "height": 350,
       "width": 352
      },
      "needs_background": "light"
     },
     "output_type": "display_data"
    }
   ],
   "source": [
    "ax = sns.displot(row_df.standard_value,kind=\"kde\")"
   ]
  },
  {
   "cell_type": "markdown",
   "metadata": {
    "id": "WwEx-9ybciV0"
   },
   "source": [
    "## pIC50\n",
    "\n",
    "-  -log(PIC50)"
   ]
  },
  {
   "cell_type": "code",
   "execution_count": 16,
   "metadata": {
    "id": "VcdNyyDNciV0"
   },
   "outputs": [
    {
     "data": {
      "text/html": [
       "<div>\n",
       "<style scoped>\n",
       "    .dataframe tbody tr th:only-of-type {\n",
       "        vertical-align: middle;\n",
       "    }\n",
       "\n",
       "    .dataframe tbody tr th {\n",
       "        vertical-align: top;\n",
       "    }\n",
       "\n",
       "    .dataframe thead th {\n",
       "        text-align: right;\n",
       "    }\n",
       "</style>\n",
       "<table border=\"1\" class=\"dataframe\">\n",
       "  <thead>\n",
       "    <tr style=\"text-align: right;\">\n",
       "      <th></th>\n",
       "      <th>name</th>\n",
       "      <th>standard_value</th>\n",
       "      <th>pIC50</th>\n",
       "    </tr>\n",
       "  </thead>\n",
       "  <tbody>\n",
       "    <tr>\n",
       "      <th>0</th>\n",
       "      <td>10358</td>\n",
       "      <td>16934.368</td>\n",
       "      <td>4.771231</td>\n",
       "    </tr>\n",
       "    <tr>\n",
       "      <th>1</th>\n",
       "      <td>1037723</td>\n",
       "      <td>130.000</td>\n",
       "      <td>6.886057</td>\n",
       "    </tr>\n",
       "    <tr>\n",
       "      <th>2</th>\n",
       "      <td>1038161</td>\n",
       "      <td>700.000</td>\n",
       "      <td>6.154902</td>\n",
       "    </tr>\n",
       "  </tbody>\n",
       "</table>\n",
       "</div>"
      ],
      "text/plain": [
       "      name  standard_value     pIC50\n",
       "0    10358       16934.368  4.771231\n",
       "1  1037723         130.000  6.886057\n",
       "2  1038161         700.000  6.154902"
      ]
     },
     "execution_count": 16,
     "metadata": {},
     "output_type": "execute_result"
    }
   ],
   "source": [
    "row_df[\"pIC50\"] = -np.log10(row_df.standard_value * 1e-9)\n",
    "row_df[:3]"
   ]
  },
  {
   "cell_type": "code",
   "execution_count": 17,
   "metadata": {
    "colab": {
     "base_uri": "https://localhost:8080/",
     "height": 430
    },
    "id": "LAn2DVt3ZH9P",
    "outputId": "560d80d3-5d3e-4368-8781-4b428b03ed10"
   },
   "outputs": [
    {
     "data": {
      "image/png": "[encoded data removed]",
      "text/plain": [
       "<Figure size 432x288 with 1 Axes>"
      ]
     },
     "metadata": {
      "image/png": {
       "height": 248,
       "width": 381
      },
      "needs_background": "light"
     },
     "output_type": "display_data"
    }
   ],
   "source": [
    "import matplotlib.pyplot as plt\n",
    "ax = plt.hist(row_df.pIC50, bins=30)"
   ]
  },
  {
   "cell_type": "code",
   "execution_count": 18,
   "metadata": {
    "colab": {
     "base_uri": "https://localhost:8080/",
     "height": 507
    },
    "id": "rIpzNsBzciV3",
    "outputId": "cd90b8ef-e9b5-4a80-b5af-38191f381aa2"
   },
   "outputs": [
    {
     "data": {
      "image/png": "[encoded data removed]",
      "text/plain": [
       "<Figure size 360x360 with 1 Axes>"
      ]
     },
     "metadata": {
      "image/png": {
       "height": 351,
       "width": 352
      },
      "needs_background": "light"
     },
     "output_type": "display_data"
    }
   ],
   "source": [
    "_ = sns.displot(row_df.pIC50,kind=\"kde\")"
   ]
  },
  {
   "cell_type": "markdown",
   "metadata": {
    "id": "ojwcuuCLciV3"
   },
   "source": [
    "## 데이터 오류\n",
    "\n",
    "- 오류로 0이 입력된 것을 찾는다"
   ]
  },
  {
   "cell_type": "code",
   "execution_count": 19,
   "metadata": {
    "colab": {
     "base_uri": "https://localhost:8080/",
     "height": 363
    },
    "id": "iESJ66gKciV4",
    "outputId": "a8854b07-d214-4db9-e62c-72674ddffcc4"
   },
   "outputs": [
    {
     "data": {
      "text/html": [
       "<div>\n",
       "<style scoped>\n",
       "    .dataframe tbody tr th:only-of-type {\n",
       "        vertical-align: middle;\n",
       "    }\n",
       "\n",
       "    .dataframe tbody tr th {\n",
       "        vertical-align: top;\n",
       "    }\n",
       "\n",
       "    .dataframe thead th {\n",
       "        text-align: right;\n",
       "    }\n",
       "</style>\n",
       "<table border=\"1\" class=\"dataframe\">\n",
       "  <thead>\n",
       "    <tr style=\"text-align: right;\">\n",
       "      <th></th>\n",
       "      <th>name</th>\n",
       "      <th>standard_value</th>\n",
       "      <th>pIC50</th>\n",
       "    </tr>\n",
       "  </thead>\n",
       "  <tbody>\n",
       "    <tr>\n",
       "      <th>3066</th>\n",
       "      <td>1758382</td>\n",
       "      <td>1.000000e+09</td>\n",
       "      <td>-0.00000</td>\n",
       "    </tr>\n",
       "    <tr>\n",
       "      <th>3065</th>\n",
       "      <td>1758380</td>\n",
       "      <td>1.000000e+09</td>\n",
       "      <td>-0.00000</td>\n",
       "    </tr>\n",
       "    <tr>\n",
       "      <th>3067</th>\n",
       "      <td>1758385</td>\n",
       "      <td>1.000000e+09</td>\n",
       "      <td>-0.00000</td>\n",
       "    </tr>\n",
       "    <tr>\n",
       "      <th>5531</th>\n",
       "      <td>440049</td>\n",
       "      <td>9.549926e+08</td>\n",
       "      <td>0.02000</td>\n",
       "    </tr>\n",
       "    <tr>\n",
       "      <th>5545</th>\n",
       "      <td>440263</td>\n",
       "      <td>7.585776e+08</td>\n",
       "      <td>0.12000</td>\n",
       "    </tr>\n",
       "    <tr>\n",
       "      <th>5538</th>\n",
       "      <td>440132</td>\n",
       "      <td>6.456542e+08</td>\n",
       "      <td>0.19000</td>\n",
       "    </tr>\n",
       "    <tr>\n",
       "      <th>5543</th>\n",
       "      <td>440223</td>\n",
       "      <td>5.128614e+08</td>\n",
       "      <td>0.29000</td>\n",
       "    </tr>\n",
       "    <tr>\n",
       "      <th>5526</th>\n",
       "      <td>440003</td>\n",
       "      <td>5.128614e+08</td>\n",
       "      <td>0.29000</td>\n",
       "    </tr>\n",
       "    <tr>\n",
       "      <th>5551</th>\n",
       "      <td>440395</td>\n",
       "      <td>2.685160e+08</td>\n",
       "      <td>0.57103</td>\n",
       "    </tr>\n",
       "    <tr>\n",
       "      <th>5548</th>\n",
       "      <td>440302</td>\n",
       "      <td>2.511886e+08</td>\n",
       "      <td>0.60000</td>\n",
       "    </tr>\n",
       "  </tbody>\n",
       "</table>\n",
       "</div>"
      ],
      "text/plain": [
       "         name  standard_value    pIC50\n",
       "3066  1758382    1.000000e+09 -0.00000\n",
       "3065  1758380    1.000000e+09 -0.00000\n",
       "3067  1758385    1.000000e+09 -0.00000\n",
       "5531   440049    9.549926e+08  0.02000\n",
       "5545   440263    7.585776e+08  0.12000\n",
       "5538   440132    6.456542e+08  0.19000\n",
       "5543   440223    5.128614e+08  0.29000\n",
       "5526   440003    5.128614e+08  0.29000\n",
       "5551   440395    2.685160e+08  0.57103\n",
       "5548   440302    2.511886e+08  0.60000"
      ]
     },
     "execution_count": 19,
     "metadata": {},
     "output_type": "execute_result"
    }
   ],
   "source": [
    "row_df.sort_values(\"pIC50\",ascending=True)[:10]"
   ]
  },
  {
   "cell_type": "markdown",
   "metadata": {
    "id": "ujA4PQG_ciV4"
   },
   "source": [
    "## High Confidence Data\n",
    "\n",
    "- Confidence 분포 보기\n",
    "- 높은 Confidence를 가진 데이터만 사용하기"
   ]
  },
  {
   "cell_type": "code",
   "execution_count": 20,
   "metadata": {
    "colab": {
     "base_uri": "https://localhost:8080/"
    },
    "id": "qZajrYpZciV4",
    "outputId": "16579da9-df2d-4d5e-a4ab-3e100e225d38"
   },
   "outputs": [
    {
     "data": {
      "text/plain": [
       "9    8395\n",
       "8     396\n",
       "Name: confidence_score, dtype: int64"
      ]
     },
     "execution_count": 20,
     "metadata": {},
     "output_type": "execute_result"
    }
   ],
   "source": [
    "df.confidence_score.value_counts()"
   ]
  },
  {
   "cell_type": "markdown",
   "metadata": {
    "id": "3AK9B5zfciV4"
   },
   "source": [
    "We will create a new dataframe with only the molecules have a confidence score of 9."
   ]
  },
  {
   "cell_type": "code",
   "execution_count": 21,
   "metadata": {
    "id": "Tu7CQoU5ciV4"
   },
   "outputs": [
    {
     "data": {
      "text/html": [
       "<div>\n",
       "<style scoped>\n",
       "    .dataframe tbody tr th:only-of-type {\n",
       "        vertical-align: middle;\n",
       "    }\n",
       "\n",
       "    .dataframe tbody tr th {\n",
       "        vertical-align: top;\n",
       "    }\n",
       "\n",
       "    .dataframe thead th {\n",
       "        text-align: right;\n",
       "    }\n",
       "</style>\n",
       "<table border=\"1\" class=\"dataframe\">\n",
       "  <thead>\n",
       "    <tr style=\"text-align: right;\">\n",
       "      <th></th>\n",
       "      <th>canonical_smiles</th>\n",
       "      <th>molregno</th>\n",
       "      <th>mol_chembl_id</th>\n",
       "      <th>standard_relation</th>\n",
       "      <th>standard_value</th>\n",
       "      <th>standard_type</th>\n",
       "      <th>standard_units</th>\n",
       "      <th>description</th>\n",
       "      <th>organism</th>\n",
       "      <th>assay_type</th>\n",
       "      <th>confidence_score</th>\n",
       "      <th>pref_name</th>\n",
       "      <th>tgt_chembl_id</th>\n",
       "      <th>confidence_level</th>\n",
       "    </tr>\n",
       "  </thead>\n",
       "  <tbody>\n",
       "    <tr>\n",
       "      <th>46</th>\n",
       "      <td>COC(=O)C1=C(C)NC(=C(C1c2ccccc2[N+](=O)[O-])C(=...</td>\n",
       "      <td>419596</td>\n",
       "      <td>CHEMBL193</td>\n",
       "      <td>=</td>\n",
       "      <td>50118.72</td>\n",
       "      <td>IC50</td>\n",
       "      <td>nM</td>\n",
       "      <td>Inhibition of human Potassium channel HERG exp...</td>\n",
       "      <td>Homo sapiens</td>\n",
       "      <td>B</td>\n",
       "      <td>9</td>\n",
       "      <td>HERG</td>\n",
       "      <td>CHEMBL240</td>\n",
       "      <td>good</td>\n",
       "    </tr>\n",
       "    <tr>\n",
       "      <th>47</th>\n",
       "      <td>CN(CCOc1ccc(NS(=O)(=O)C)cc1)CCc2ccc(NS(=O)(=O)...</td>\n",
       "      <td>5638</td>\n",
       "      <td>CHEMBL473</td>\n",
       "      <td>=</td>\n",
       "      <td>10.00</td>\n",
       "      <td>IC50</td>\n",
       "      <td>nM</td>\n",
       "      <td>Inhibition of human Potassium channel HERG exp...</td>\n",
       "      <td>Homo sapiens</td>\n",
       "      <td>B</td>\n",
       "      <td>9</td>\n",
       "      <td>HERG</td>\n",
       "      <td>CHEMBL240</td>\n",
       "      <td>good</td>\n",
       "    </tr>\n",
       "    <tr>\n",
       "      <th>48</th>\n",
       "      <td>CCOC(=O)N1CCC(=C2c3ccc(Cl)cc3CCc4cccnc24)CC1</td>\n",
       "      <td>110803</td>\n",
       "      <td>CHEMBL998</td>\n",
       "      <td>=</td>\n",
       "      <td>169.82</td>\n",
       "      <td>IC50</td>\n",
       "      <td>nM</td>\n",
       "      <td>Inhibition of human Potassium channel HERG exp...</td>\n",
       "      <td>Homo sapiens</td>\n",
       "      <td>B</td>\n",
       "      <td>9</td>\n",
       "      <td>HERG</td>\n",
       "      <td>CHEMBL240</td>\n",
       "      <td>good</td>\n",
       "    </tr>\n",
       "    <tr>\n",
       "      <th>49</th>\n",
       "      <td>Oc1ccc(CCN2CCC(CC2)Nc3nc4ccccc4n3Cc5ccc(F)cc5)cc1</td>\n",
       "      <td>91240</td>\n",
       "      <td>CHEMBL60796</td>\n",
       "      <td>=</td>\n",
       "      <td>1.00</td>\n",
       "      <td>IC50</td>\n",
       "      <td>nM</td>\n",
       "      <td>Inhibition of human Potassium channel HERG exp...</td>\n",
       "      <td>Homo sapiens</td>\n",
       "      <td>B</td>\n",
       "      <td>9</td>\n",
       "      <td>HERG</td>\n",
       "      <td>CHEMBL240</td>\n",
       "      <td>good</td>\n",
       "    </tr>\n",
       "    <tr>\n",
       "      <th>50</th>\n",
       "      <td>Cc1[nH]cnc1CN2CCc3c(C2=O)c4ccccc4n3C</td>\n",
       "      <td>153342</td>\n",
       "      <td>CHEMBL1110</td>\n",
       "      <td>=</td>\n",
       "      <td>3235.94</td>\n",
       "      <td>IC50</td>\n",
       "      <td>nM</td>\n",
       "      <td>Inhibition of human Potassium channel HERG exp...</td>\n",
       "      <td>Homo sapiens</td>\n",
       "      <td>B</td>\n",
       "      <td>9</td>\n",
       "      <td>HERG</td>\n",
       "      <td>CHEMBL240</td>\n",
       "      <td>good</td>\n",
       "    </tr>\n",
       "  </tbody>\n",
       "</table>\n",
       "</div>"
      ],
      "text/plain": [
       "                                     canonical_smiles molregno mol_chembl_id  \\\n",
       "46  COC(=O)C1=C(C)NC(=C(C1c2ccccc2[N+](=O)[O-])C(=...   419596     CHEMBL193   \n",
       "47  CN(CCOc1ccc(NS(=O)(=O)C)cc1)CCc2ccc(NS(=O)(=O)...     5638     CHEMBL473   \n",
       "48       CCOC(=O)N1CCC(=C2c3ccc(Cl)cc3CCc4cccnc24)CC1   110803     CHEMBL998   \n",
       "49  Oc1ccc(CCN2CCC(CC2)Nc3nc4ccccc4n3Cc5ccc(F)cc5)cc1    91240   CHEMBL60796   \n",
       "50               Cc1[nH]cnc1CN2CCc3c(C2=O)c4ccccc4n3C   153342    CHEMBL1110   \n",
       "\n",
       "   standard_relation  standard_value standard_type standard_units  \\\n",
       "46                 =        50118.72          IC50             nM   \n",
       "47                 =           10.00          IC50             nM   \n",
       "48                 =          169.82          IC50             nM   \n",
       "49                 =            1.00          IC50             nM   \n",
       "50                 =         3235.94          IC50             nM   \n",
       "\n",
       "                                          description      organism  \\\n",
       "46  Inhibition of human Potassium channel HERG exp...  Homo sapiens   \n",
       "47  Inhibition of human Potassium channel HERG exp...  Homo sapiens   \n",
       "48  Inhibition of human Potassium channel HERG exp...  Homo sapiens   \n",
       "49  Inhibition of human Potassium channel HERG exp...  Homo sapiens   \n",
       "50  Inhibition of human Potassium channel HERG exp...  Homo sapiens   \n",
       "\n",
       "   assay_type  confidence_score pref_name tgt_chembl_id confidence_level  \n",
       "46          B                 9      HERG     CHEMBL240             good  \n",
       "47          B                 9      HERG     CHEMBL240             good  \n",
       "48          B                 9      HERG     CHEMBL240             good  \n",
       "49          B                 9      HERG     CHEMBL240             good  \n",
       "50          B                 9      HERG     CHEMBL240             good  "
      ]
     },
     "execution_count": 21,
     "metadata": {},
     "output_type": "execute_result"
    }
   ],
   "source": [
    "level_map = {8: 'fair', 9: 'good'}\n",
    "df['confidence_level'] = df.confidence_score.map(level_map)\n",
    "df.head()"
   ]
  },
  {
   "cell_type": "markdown",
   "metadata": {
    "id": "KLIw6MLNciV4"
   },
   "source": [
    "- boxplot"
   ]
  },
  {
   "cell_type": "code",
   "execution_count": 22,
   "metadata": {
    "colab": {
     "base_uri": "https://localhost:8080/",
     "height": 467
    },
    "id": "1s0EUUCFciV4",
    "outputId": "f2c0e902-3ec9-40ce-ed4a-b834749643ad"
   },
   "outputs": [
    {
     "data": {
      "text/plain": [
       "[None, Text(0.5, 0, 'Confidence Level'), Text(0, 0.5, 'IC50 (nM)')]"
      ]
     },
     "execution_count": 22,
     "metadata": {},
     "output_type": "execute_result"
    },
    {
     "data": {
      "image/png": "[encoded data removed]",
      "text/plain": [
       "<Figure size 432x288 with 1 Axes>"
      ]
     },
     "metadata": {
      "image/png": {
       "height": 261,
       "width": 387
      },
      "needs_background": "light"
     },
     "output_type": "display_data"
    }
   ],
   "source": [
    "ax = sns.boxplot(data=df,x=\"confidence_level\",y=\"standard_value\")\n",
    "ax.set(yscale=\"log\",xlabel=\"Confidence Level\",ylabel=\"IC50 (nM)\")"
   ]
  }
 ],
 "metadata": {
  "colab": {
   "provenance": [],
   "toc_visible": true
  },
  "kernelspec": {
   "display_name": "Python 3",
   "language": "python",
   "name": "python3"
  },
  "language_info": {
   "codemirror_mode": {
    "name": "ipython",
    "version": 3
   },
   "file_extension": ".py",
   "mimetype": "text/x-python",
   "name": "python",
   "nbconvert_exporter": "python",
   "pygments_lexer": "ipython3",
   "version": "3.8.8"
  },
  "toc": {
   "base_numbering": 1,
   "nav_menu": {},
   "number_sections": false,
   "sideBar": true,
   "skip_h1_title": false,
   "title_cell": "Table of Contents",
   "title_sidebar": "Contents",
   "toc_cell": false,
   "toc_position": {},
   "toc_section_display": true,
   "toc_window_display": true
  }
 },
 "nbformat": 4,
 "nbformat_minor": 1
}
