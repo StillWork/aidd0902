{
  "cells": [
    {
      "cell_type": "markdown",
      "metadata": {
        "id": "JIe7bYJMtrfN"
      },
      "source": [
        "# 딥러닝 이해\n",
        "\n",
        "- 신약개발에 사용되는 딥러닝 모델을 이해한다\n",
        "- MLP(Multi Layer Perceptron)와 CNN(Convolution Neural Network) 이해\n",
        "- Graph 모델은 다른 예제에서 소개한다"
      ]
    },
    {
      "cell_type": "markdown",
      "metadata": {
        "id": "AJOmkVM7x6HW"
      },
      "source": [
        "## 딥러닝 모델 유형"
      ]
    },
    {
      "cell_type": "markdown",
      "metadata": {
        "id": "QW86qoXEx6HX"
      },
      "source": [
        " <img src=\"https://github.com/StillWork/image/blob/main/%E1%84%89%E1%85%B3%E1%84%8F%E1%85%B3%E1%84%85%E1%85%B5%E1%86%AB%E1%84%89%E1%85%A3%E1%86%BA%202022-11-22%20%E1%84%8B%E1%85%A9%E1%84%92%E1%85%AE%202.55.58.png?raw=1\" align=\"left\" width=700>"
      ]
    },
    {
      "cell_type": "markdown",
      "metadata": {
        "id": "Vu1Nfe4Sx6HX"
      },
      "source": [
        "## 신경망의 특징\n",
        "- 60년대부터 연구되었으나 오랫동안 성과를 내지 못했다\n",
        " - 학습이 어렵고, 계산량이 많고, 과대적합이 많고, 블랙박스로 동작\n",
        " - 지금은 이러한 문제들이, 데이터의 증가, 알고리즘의 발달, 하드웨어 계산능력의 증대로 해결되었다\n",
        "- small 데이터에 대해서는 전통적인 머신러닝 모델 (RF, SVM 등)을 사용해도 잘 동작했다\n",
        "- 2012년 Imagenet 경진대회에서 CNN 기반의 신경망이 매우 우수한 성적을 내면서 딥러닝 모델이 확산되었다\n",
        "- 자연어 처리분야에서는 2014년 word2vec(단어 임베딩)의 도입으로 성능이 크게 향상되었다\n",
        " - 비슷한 의미를 갖는 단어는 비슷한 1차원 벡터형 표현형을 갖게 함\n",
        "- 자연어 처리에서는 2018년 이전까지는 RNN을 사용했으나 이후는 Transformer를 사용한다"
      ]
    },
    {
      "cell_type": "markdown",
      "metadata": {
        "id": "M1gqzdVGx6HX"
      },
      "source": [
        "## Feature Learning\n",
        "\n",
        "- Feature Engineering이란 사람이 전문성을 가지고 특성을 만드는 것이고, 딥러닝 모델(신경망)이 학습을 통해서 스스로 머신러닝에 적절한 특성을 내부적으로 만들어내는 것이다\n",
        " - 이를 feature extraction이라고도 한다\n",
        " - 사람이 적절한 특성을 만드는 작업을 feature engineering이라고 한다\n",
        "- 아래 그림에서 좌측은 Feature Engineering, 우측은 Feature Learning을 나타냈다"
      ]
    },
    {
      "cell_type": "markdown",
      "metadata": {
        "id": "lpBlccVmx6HX"
      },
      "source": [
        "<img src=\"https://github.com/StillWork/image/blob/main/%E1%84%89%E1%85%B3%E1%84%8F%E1%85%B3%E1%84%85%E1%85%B5%E1%86%AB%E1%84%89%E1%85%A3%E1%86%BA%202022-11-22%20%E1%84%8B%E1%85%A9%E1%84%92%E1%85%AE%205.15.35.png?raw=1\"  align=\"left\">"
      ]
    },
    {
      "cell_type": "markdown",
      "metadata": {
        "id": "Ma29thy4x6HY"
      },
      "source": [
        "<img src=\"https://github.com/StillWork/image/blob/main/%E1%84%89%E1%85%B3%E1%84%8F%E1%85%B3%E1%84%85%E1%85%B5%E1%86%AB%E1%84%89%E1%85%A3%E1%86%BA%202022-11-22%20%E1%84%8B%E1%85%A9%E1%84%92%E1%85%AE%205.16.20.png?raw=1\"  align=\"left\">"
      ]
    },
    {
      "cell_type": "markdown",
      "metadata": {
        "id": "Z2mfllzhx6HY"
      },
      "source": [
        "## 신약개발에 신경망 도입\n",
        "- 2012년 Merck Molecular Activity Challenge 대회에서 신경망 모델이 RF 모델보다 월등히 높은 성능을 냈다\n",
        " - 15개의 태스크에 대해 바이오 활동성을 예측하는 문제\n",
        " - 이후 QSAR, 분자의 특성 예측, ADME 예측 등 신약개발에 신경망이 적극 도입되기 시작했다"
      ]
    },
    {
      "cell_type": "markdown",
      "metadata": {
        "id": "X2d9W4skx6HY"
      },
      "source": [
        "# import"
      ]
    },
    {
      "cell_type": "code",
      "execution_count": 1,
      "metadata": {
        "colab": {
          "base_uri": "https://localhost:8080/"
        },
        "id": "wraFYGop4xYt",
        "outputId": "09e0fea0-49a3-4f5d-e023-e71cf23cf20f"
      },
      "outputs": [
        {
          "output_type": "stream",
          "name": "stdout",
          "text": [
            "Collecting deepchem\n",
            "  Downloading deepchem-2.7.1-py3-none-any.whl (693 kB)\n",
            "\u001b[?25l     \u001b[90m━━━━━━━━━━━━━━━━━━━━━━━━━━━━━━━━━━━━━━━━\u001b[0m \u001b[32m0.0/693.2 kB\u001b[0m \u001b[31m?\u001b[0m eta \u001b[36m-:--:--\u001b[0m\r\u001b[2K     \u001b[91m━━━━━━━━━━━━━━━━━━━━━━━━━━━━━━━━━━━━━\u001b[0m\u001b[91m╸\u001b[0m \u001b[32m686.1/693.2 kB\u001b[0m \u001b[31m21.1 MB/s\u001b[0m eta \u001b[36m0:00:01\u001b[0m\r\u001b[2K     \u001b[90m━━━━━━━━━━━━━━━━━━━━━━━━━━━━━━━━━━━━━━\u001b[0m \u001b[32m693.2/693.2 kB\u001b[0m \u001b[31m15.3 MB/s\u001b[0m eta \u001b[36m0:00:00\u001b[0m\n",
            "\u001b[?25hRequirement already satisfied: joblib in /usr/local/lib/python3.10/dist-packages (from deepchem) (1.3.1)\n",
            "Requirement already satisfied: numpy>=1.21 in /usr/local/lib/python3.10/dist-packages (from deepchem) (1.22.4)\n",
            "Requirement already satisfied: pandas in /usr/local/lib/python3.10/dist-packages (from deepchem) (1.5.3)\n",
            "Requirement already satisfied: scikit-learn in /usr/local/lib/python3.10/dist-packages (from deepchem) (1.2.2)\n",
            "Collecting scipy<1.9 (from deepchem)\n",
            "  Downloading scipy-1.8.1-cp310-cp310-manylinux_2_17_x86_64.manylinux2014_x86_64.whl (42.2 MB)\n",
            "\u001b[2K     \u001b[90m━━━━━━━━━━━━━━━━━━━━━━━━━━━━━━━━━━━━━━━━\u001b[0m \u001b[32m42.2/42.2 MB\u001b[0m \u001b[31m15.9 MB/s\u001b[0m eta \u001b[36m0:00:00\u001b[0m\n",
            "\u001b[?25hCollecting rdkit (from deepchem)\n",
            "  Downloading rdkit-2023.3.2-cp310-cp310-manylinux_2_17_x86_64.manylinux2014_x86_64.whl (29.7 MB)\n",
            "\u001b[2K     \u001b[90m━━━━━━━━━━━━━━━━━━━━━━━━━━━━━━━━━━━━━━━━\u001b[0m \u001b[32m29.7/29.7 MB\u001b[0m \u001b[31m43.9 MB/s\u001b[0m eta \u001b[36m0:00:00\u001b[0m\n",
            "\u001b[?25hRequirement already satisfied: python-dateutil>=2.8.1 in /usr/local/lib/python3.10/dist-packages (from pandas->deepchem) (2.8.2)\n",
            "Requirement already satisfied: pytz>=2020.1 in /usr/local/lib/python3.10/dist-packages (from pandas->deepchem) (2022.7.1)\n",
            "Requirement already satisfied: Pillow in /usr/local/lib/python3.10/dist-packages (from rdkit->deepchem) (8.4.0)\n",
            "Requirement already satisfied: threadpoolctl>=2.0.0 in /usr/local/lib/python3.10/dist-packages (from scikit-learn->deepchem) (3.1.0)\n",
            "Requirement already satisfied: six>=1.5 in /usr/local/lib/python3.10/dist-packages (from python-dateutil>=2.8.1->pandas->deepchem) (1.16.0)\n",
            "Installing collected packages: scipy, rdkit, deepchem\n",
            "  Attempting uninstall: scipy\n",
            "    Found existing installation: scipy 1.10.1\n",
            "    Uninstalling scipy-1.10.1:\n",
            "      Successfully uninstalled scipy-1.10.1\n",
            "Successfully installed deepchem-2.7.1 rdkit-2023.3.2 scipy-1.8.1\n"
          ]
        }
      ],
      "source": [
        "!pip install deepchem"
      ]
    },
    {
      "cell_type": "code",
      "execution_count": 2,
      "metadata": {
        "id": "racEBTb_ZzV7",
        "colab": {
          "base_uri": "https://localhost:8080/"
        },
        "outputId": "43cdfbf1-114c-443d-9930-a08d3dbec96f"
      },
      "outputs": [
        {
          "output_type": "stream",
          "name": "stderr",
          "text": [
            "WARNING:deepchem.models.torch_models:Skipped loading modules with pytorch-geometric dependency, missing a dependency. No module named 'torch_geometric'\n",
            "WARNING:deepchem.models:Skipped loading modules with pytorch-geometric dependency, missing a dependency. cannot import name 'DMPNN' from 'deepchem.models.torch_models' (/usr/local/lib/python3.10/dist-packages/deepchem/models/torch_models/__init__.py)\n",
            "WARNING:deepchem.models:Skipped loading modules with pytorch-lightning dependency, missing a dependency. No module named 'pytorch_lightning'\n",
            "WARNING:deepchem.models:Skipped loading some Jax models, missing a dependency. No module named 'haiku'\n"
          ]
        }
      ],
      "source": [
        "import deepchem as dc\n",
        "import numpy as np\n",
        "import matplotlib.pyplot as plt\n",
        "import keras\n",
        "%matplotlib inline\n",
        "%config InlineBackend.figure_format = 'retina'"
      ]
    },
    {
      "cell_type": "code",
      "execution_count": 3,
      "metadata": {
        "id": "-AQRftuEqGqx"
      },
      "outputs": [],
      "source": [
        "from keras.datasets import mnist\n",
        "from keras.utils.np_utils import to_categorical\n",
        "from keras import layers\n",
        "from keras import models"
      ]
    },
    {
      "cell_type": "markdown",
      "metadata": {
        "id": "QfaI7ialx6HZ"
      },
      "source": [
        "# MLP\n",
        "- Multi Layer Perceptron\n",
        "\n",
        "<img src=\"https://github.com/StillWork/image/blob/main/%E1%84%89%E1%85%B3%E1%84%8F%E1%85%B3%E1%84%85%E1%85%B5%E1%86%AB%E1%84%89%E1%85%A3%E1%86%BA%202022-11-21%20%E1%84%8B%E1%85%A9%E1%84%92%E1%85%AE%2011.48.10.png?raw=1\" width=\"600\"  align=\"left\">"
      ]
    },
    {
      "cell_type": "markdown",
      "metadata": {
        "id": "0gARJPr-azq8"
      },
      "source": [
        "## Fringerprint를 사용한 독성 예측\n",
        "\n",
        "- MLP 모델을 사용 (한개의 히든 계층 사용)\n",
        "- 12개의 이진 분류 태스크를 수행\n",
        "- auc와 accuracy를 측정"
      ]
    },
    {
      "cell_type": "markdown",
      "source": [
        "- 독성 데이터 tox21 다운로드하면서 특성을 ECFP로 선택한다"
      ],
      "metadata": {
        "id": "_8sgNssxP-Pb"
      }
    },
    {
      "cell_type": "code",
      "execution_count": 4,
      "metadata": {
        "id": "C9Ik94rNYW6r",
        "colab": {
          "base_uri": "https://localhost:8080/"
        },
        "outputId": "1cc1efcd-1115-4b12-8cc4-c0cd8e4af3e7"
      },
      "outputs": [
        {
          "output_type": "stream",
          "name": "stderr",
          "text": [
            "[05:51:14] WARNING: not removing hydrogen atom without neighbors\n",
            "[05:51:25] WARNING: not removing hydrogen atom without neighbors\n"
          ]
        },
        {
          "output_type": "stream",
          "name": "stdout",
          "text": [
            "<DiskDataset X.shape: (6264, 1024), y.shape: (6264, 12), w.shape: (6264, 12), task_names: ['NR-AR' 'NR-AR-LBD' 'NR-AhR' ... 'SR-HSE' 'SR-MMP' 'SR-p53']>\n"
          ]
        }
      ],
      "source": [
        "tasks, datasets, transformers = dc.molnet.load_tox21(featurizer='ECFP')\n",
        "train_dataset, valid_dataset, test_dataset = datasets\n",
        "print(train_dataset)"
      ]
    },
    {
      "cell_type": "markdown",
      "metadata": {
        "id": "pNoO0emHLMVa"
      },
      "source": [
        "- Task (표적 단백질)\n",
        " - Task는 아래 12가지 표적 단백질로 구성된다\n",
        " - 표적 단백질은 잠재적으로 신약에 활용될 수 있는 분자와 결합시 독성 반응을 보이는 것을 나타낸다"
      ]
    },
    {
      "cell_type": "code",
      "execution_count": 5,
      "metadata": {
        "colab": {
          "base_uri": "https://localhost:8080/"
        },
        "id": "8iQGjDid4_o8",
        "outputId": "f1ba7caf-e096-4bce-e9f9-739d75d14dcc"
      },
      "outputs": [
        {
          "output_type": "execute_result",
          "data": {
            "text/plain": [
              "['NR-AR',\n",
              " 'NR-AR-LBD',\n",
              " 'NR-AhR',\n",
              " 'NR-Aromatase',\n",
              " 'NR-ER',\n",
              " 'NR-ER-LBD',\n",
              " 'NR-PPAR-gamma',\n",
              " 'SR-ARE',\n",
              " 'SR-ATAD5',\n",
              " 'SR-HSE',\n",
              " 'SR-MMP',\n",
              " 'SR-p53']"
            ]
          },
          "metadata": {},
          "execution_count": 5
        }
      ],
      "source": [
        "tasks"
      ]
    },
    {
      "cell_type": "markdown",
      "metadata": {
        "id": "FImgSJmFLMVa"
      },
      "source": [
        "## 데이터 확인\n",
        "- tox21_datasets는 train, valid, test의 3가지 데이터셋으로 구성되어있다\n",
        "- 각 데이터셋에는 X, y, w 벡터가 존재하며 .shape 명령으로 구조를 확인 가능\n",
        "- X벡터 = 학습 또는 추론에 사용할 feature(특징), 각 샘플은 분자들을 의미\n",
        "- y벡터 = 학습 또는 추론결과인 정답, 참값등, 각 샘플의 레이블 12개는 표적 단백질 12종과의 결합 정도를 의미\n",
        "- w벡터 = 가중치(weight)값"
      ]
    },
    {
      "cell_type": "code",
      "execution_count": 6,
      "metadata": {
        "colab": {
          "base_uri": "https://localhost:8080/"
        },
        "id": "M7X7-AgoZP3a",
        "outputId": "39bf58ca-5bfa-473f-93f4-8e4912a5ae7e"
      },
      "outputs": [
        {
          "output_type": "execute_result",
          "data": {
            "text/plain": [
              "(6264, 1024)"
            ]
          },
          "metadata": {},
          "execution_count": 6
        }
      ],
      "source": [
        "train_dataset.X.shape"
      ]
    },
    {
      "cell_type": "code",
      "execution_count": 7,
      "metadata": {
        "colab": {
          "base_uri": "https://localhost:8080/"
        },
        "id": "HFDd95q-5IeT",
        "outputId": "2151d6b7-c6b0-486a-cfb2-cc744bd0eeae"
      },
      "outputs": [
        {
          "output_type": "execute_result",
          "data": {
            "text/plain": [
              "(6264, 12)"
            ]
          },
          "metadata": {},
          "execution_count": 7
        }
      ],
      "source": [
        "train_dataset.y.shape"
      ]
    },
    {
      "cell_type": "code",
      "execution_count": 8,
      "metadata": {
        "colab": {
          "base_uri": "https://localhost:8080/"
        },
        "id": "_rUEkW2l5Lqd",
        "outputId": "e816ac5c-465b-4bb5-a991-3e3d9a9a9585"
      },
      "outputs": [
        {
          "output_type": "execute_result",
          "data": {
            "text/plain": [
              "array([[1.04502242, 1.03632599, 1.12502653, ..., 1.05576503, 1.17464996,\n",
              "        1.05288369],\n",
              "       [1.04502242, 1.03632599, 1.12502653, ..., 1.05576503, 1.17464996,\n",
              "        1.05288369],\n",
              "       [1.04502242, 1.03632599, 1.12502653, ..., 1.05576503, 0.        ,\n",
              "        1.05288369],\n",
              "       ...,\n",
              "       [1.04502242, 0.        , 1.12502653, ..., 1.05576503, 6.7257384 ,\n",
              "        1.05288369],\n",
              "       [1.04502242, 1.03632599, 1.12502653, ..., 1.05576503, 6.7257384 ,\n",
              "        1.05288369],\n",
              "       [1.04502242, 1.03632599, 1.12502653, ..., 0.        , 1.17464996,\n",
              "        1.05288369]])"
            ]
          },
          "metadata": {},
          "execution_count": 8
        }
      ],
      "source": [
        "train_dataset.w"
      ]
    },
    {
      "cell_type": "markdown",
      "metadata": {
        "id": "qw8uIFgjYz5C"
      },
      "source": [
        "- `y`의 모양이 (6264, 12)이며 이는 12가지의 멀티태스크가 있음을 나타낸다\n",
        "- w (가중치)의 의미\n",
        " - 이 값이 0이면 결측치를 나타낸다. 해당 샘플에 대해서는 손실함수나 성능평가 시에 무시하도록 한다\n",
        " - 이 값은 대부분의 경우 1 또는 1 근처의 값을 갖는다\n",
        " - 이 값은 각 태스크별로 레이블 분포의 불균형을 보완하기 위해서 사용된다\n",
        " - 12개 태스크가 균등하게 성능에 기여하도록 조정하는데 사용된다.\n"
      ]
    },
    {
      "cell_type": "markdown",
      "metadata": {
        "id": "G5zfj2VJx6Ha"
      },
      "source": [
        "## 학습 및 성능 평가\n",
        "\n",
        "- deepchem이 제공하는 MultitaskClassifier()를 사용하며 이는 MLP 구조를 갖는다\n",
        "- 모든 입력(x)에 대해 여러개의 레이블(y값은 12개)을 예측하는 모델을 만들겠다\n",
        "- n_tasks = 분류해야할 작업의 갯수 = 12개  \n",
        "- n_features = 입력될 feature의 갯수 = x벡터의 특성수(컬럼수)인 1024로 설정  \n",
        "- layer_sizes = hidden레이어의 갯수(1)와 셀 수(1000)를 지정"
      ]
    },
    {
      "cell_type": "markdown",
      "metadata": {
        "id": "4muBXfiKLMVb"
      },
      "source": []
    },
    {
      "cell_type": "code",
      "execution_count": 9,
      "metadata": {
        "id": "NyyWRdjiLMVb"
      },
      "outputs": [],
      "source": [
        "model = dc.models.MultitaskClassifier(n_tasks=12, n_features=1024, layer_sizes=[1000])"
      ]
    },
    {
      "cell_type": "markdown",
      "metadata": {
        "id": "kDvcSgrELMVb"
      },
      "source": [
        "- 학습은 fit() 함수로 수행하며 인자로 epoch 수를 지정한다"
      ]
    },
    {
      "cell_type": "code",
      "execution_count": 10,
      "metadata": {
        "id": "cmNtYYgJLMVb",
        "colab": {
          "base_uri": "https://localhost:8080/"
        },
        "outputId": "5ed0b248-f94e-42a5-f99c-2198b30449d1"
      },
      "outputs": [
        {
          "output_type": "execute_result",
          "data": {
            "text/plain": [
              "0.3247061729431152"
            ]
          },
          "metadata": {},
          "execution_count": 10
        }
      ],
      "source": [
        "model.fit(train_dataset, nb_epoch=20)"
      ]
    },
    {
      "cell_type": "markdown",
      "metadata": {
        "id": "Hrmma31xLMVb"
      },
      "source": [
        "- 성능평가를 위하여 평가 지표(Metric)을 설정하며 여기서는 ROC_AUC 점수와 정확도를 사용하겠다"
      ]
    },
    {
      "cell_type": "code",
      "execution_count": 11,
      "metadata": {
        "colab": {
          "base_uri": "https://localhost:8080/"
        },
        "id": "_eZnfRblRJsK",
        "outputId": "23ceda8a-3c02-4d94-a200-af98ff49cd6b",
        "scrolled": false
      },
      "outputs": [
        {
          "output_type": "stream",
          "name": "stdout",
          "text": [
            "training set score: {'roc_auc_score': 0.9753319330632745, 'accuracy_score': 0.9077532992762879}\n",
            "test set score: {'roc_auc_score': 0.6737171021179099, 'accuracy_score': 0.8296130952380952}\n"
          ]
        }
      ],
      "source": [
        "metric1 = dc.metrics.Metric(dc.metrics.roc_auc_score)\n",
        "metric2 = dc.metrics.Metric(dc.metrics.accuracy_score)\n",
        "print('training set score:', model.evaluate(train_dataset, [metric1, metric2], transformers))\n",
        "print('test set score:', model.evaluate(test_dataset, [metric1, metric2], transformers))"
      ]
    },
    {
      "cell_type": "markdown",
      "metadata": {
        "id": "-oPlmQczx6Ha"
      },
      "source": [
        "# CNN\n",
        "\n",
        "- MNIST 숫자 이미지를 판독하는 문제\n",
        "- MNIST 데이터\n",
        "\n",
        "<img src=\"https://github.com/StillWork/image/blob/main/%E1%84%89%E1%85%B3%E1%84%8F%E1%85%B3%E1%84%85%E1%85%B5%E1%86%AB%E1%84%89%E1%85%A3%E1%86%BA%202022-11-21%20%E1%84%8B%E1%85%A9%E1%84%92%E1%85%AE%2011.58.30.png?raw=1\" width=\"500\"  align=\"left\">\n"
      ]
    },
    {
      "cell_type": "markdown",
      "metadata": {
        "id": "kClZt27sx6Hb"
      },
      "source": [
        "## 데이터 전처리\n",
        "\n",
        "- 데이터 다운로드"
      ]
    },
    {
      "cell_type": "code",
      "execution_count": 15,
      "metadata": {
        "colab": {
          "base_uri": "https://localhost:8080/",
          "height": 197
        },
        "id": "vRUwM8gvqToI",
        "outputId": "46b59be7-f7b0-459e-83b9-f9f1607825b4"
      },
      "outputs": [
        {
          "output_type": "display_data",
          "data": {
            "text/plain": [
              "<Figure size 1000x300 with 5 Axes>"
            ],
            "image/png": "[encoded data removed]"
          },
          "metadata": {
            "image/png": {
              "width": 822,
              "height": 180
            }
          }
        }
      ],
      "source": [
        "(train_images, train_labels), (test_images, test_labels) = mnist.load_data()\n",
        "fig, axes = plt.subplots(1, 5, figsize=(10, 3))\n",
        "for i in range(5):\n",
        "    axes[i].imshow(train_images[i], cmap=plt.cm.binary)\n",
        "plt.show()"
      ]
    },
    {
      "cell_type": "code",
      "execution_count": 16,
      "metadata": {
        "colab": {
          "base_uri": "https://localhost:8080/"
        },
        "id": "C_a3kWryZzV_",
        "outputId": "2dbde26f-cec1-418b-e897-e80372383c7d"
      },
      "outputs": [
        {
          "output_type": "execute_result",
          "data": {
            "text/plain": [
              "array([5, 0, 4, 1, 9], dtype=uint8)"
            ]
          },
          "metadata": {},
          "execution_count": 16
        }
      ],
      "source": [
        "train_labels[:5]"
      ]
    },
    {
      "cell_type": "code",
      "execution_count": 17,
      "metadata": {
        "colab": {
          "base_uri": "https://localhost:8080/"
        },
        "id": "vTWfRgN5ZzV_",
        "outputId": "3da20f4f-7daf-43d4-ad08-1a65b5246139"
      },
      "outputs": [
        {
          "output_type": "execute_result",
          "data": {
            "text/plain": [
              "(60000, 28, 28)"
            ]
          },
          "metadata": {},
          "execution_count": 17
        }
      ],
      "source": [
        "train_images.shape"
      ]
    },
    {
      "cell_type": "markdown",
      "metadata": {
        "id": "QOnFB6R-x6Hb"
      },
      "source": [
        "## input 데이터 reshape\n",
        "\n",
        "- CNN에 입력으로 이미지를 사용하는 경우 (sample, shape(28x28), feature)과 같이 3차원으로 만들어주어야 한다\n",
        " - 맨 앞은 샘플을 구분하고, 맨 뒤는 feature를 구분하는데 사용하며 중간이 모양을 보고 2차원인지 알 수 있다\n",
        " - (샘플, 행, 열, 특성)\n",
        "- 아래는 입력 데이터의 모양을 reshape으로 변경하고, 모든 값을 0~1 사이로 min-max 스케일링하는 코드이다\n",
        " - 이미지의 경우 각 픽셀이 0~255 사이의 값을 갖는다\n",
        "- 목적변수는, 신경망에서는 원핫 인코딩을 해주어야 한다 (목적 변수가 10개씩 나오므로)\n"
      ]
    },
    {
      "cell_type": "code",
      "execution_count": 18,
      "metadata": {
        "id": "-uSV7hakZzWC"
      },
      "outputs": [],
      "source": [
        "X_train_cnn = train_images.reshape(-1,28,28,1)/255.\n",
        "X_test_cnn = test_images.reshape(-1,28,28,1)/255.\n",
        "\n",
        "y_train_cat = to_categorical(train_labels)\n",
        "y_test_cat = to_categorical(test_labels)"
      ]
    },
    {
      "cell_type": "code",
      "execution_count": 19,
      "metadata": {
        "colab": {
          "base_uri": "https://localhost:8080/"
        },
        "id": "mU4XigO_5uB7",
        "outputId": "8ae33b2e-ab14-42cf-aaf8-aa1d3130877a"
      },
      "outputs": [
        {
          "output_type": "execute_result",
          "data": {
            "text/plain": [
              "array([[0., 0., 0., 0., 0., 1., 0., 0., 0., 0.],\n",
              "       [1., 0., 0., 0., 0., 0., 0., 0., 0., 0.],\n",
              "       [0., 0., 0., 0., 1., 0., 0., 0., 0., 0.],\n",
              "       [0., 1., 0., 0., 0., 0., 0., 0., 0., 0.],\n",
              "       [0., 0., 0., 0., 0., 0., 0., 0., 0., 1.]], dtype=float32)"
            ]
          },
          "metadata": {},
          "execution_count": 19
        }
      ],
      "source": [
        "y_train_cat[:5]"
      ]
    },
    {
      "cell_type": "markdown",
      "metadata": {
        "id": "44tLYKCwtYc-"
      },
      "source": [
        "## 모델 구현\n"
      ]
    },
    {
      "cell_type": "markdown",
      "metadata": {
        "id": "HWC58O6Px6Hb"
      },
      "source": [
        "<img src=\"https://github.com/StillWork/image/blob/main/%E1%84%89%E1%85%B3%E1%84%8F%E1%85%B3%E1%84%85%E1%85%B5%E1%86%AB%E1%84%89%E1%85%A3%E1%86%BA%202022-11-23%20%E1%84%8B%E1%85%A9%E1%84%8C%E1%85%A5%E1%86%AB%209.40.48.png?raw=1\" align=\"left\">"
      ]
    },
    {
      "cell_type": "code",
      "execution_count": 20,
      "metadata": {
        "colab": {
          "base_uri": "https://localhost:8080/"
        },
        "id": "ZF7JkSQvrYAj",
        "outputId": "3e87c8aa-54e3-4eaf-8069-dbf7a74ac9bf"
      },
      "outputs": [
        {
          "output_type": "stream",
          "name": "stdout",
          "text": [
            "Model: \"sequential\"\n",
            "_________________________________________________________________\n",
            " Layer (type)                Output Shape              Param #   \n",
            "=================================================================\n",
            " conv2d (Conv2D)             (None, 28, 28, 32)        320       \n",
            "                                                                 \n",
            " max_pooling2d (MaxPooling2D  (None, 14, 14, 32)       0         \n",
            " )                                                               \n",
            "                                                                 \n",
            " conv2d_1 (Conv2D)           (None, 14, 14, 32)        9248      \n",
            "                                                                 \n",
            " max_pooling2d_1 (MaxPooling  (None, 7, 7, 32)         0         \n",
            " 2D)                                                             \n",
            "                                                                 \n",
            " conv2d_2 (Conv2D)           (None, 7, 7, 64)          18496     \n",
            "                                                                 \n",
            " max_pooling2d_2 (MaxPooling  (None, 3, 3, 64)         0         \n",
            " 2D)                                                             \n",
            "                                                                 \n",
            " conv2d_3 (Conv2D)           (None, 3, 3, 64)          36928     \n",
            "                                                                 \n",
            " flatten (Flatten)           (None, 576)               0         \n",
            "                                                                 \n",
            " dense (Dense)               (None, 128)               73856     \n",
            "                                                                 \n",
            " dense_1 (Dense)             (None, 10)                1290      \n",
            "                                                                 \n",
            "=================================================================\n",
            "Total params: 140,138\n",
            "Trainable params: 140,138\n",
            "Non-trainable params: 0\n",
            "_________________________________________________________________\n"
          ]
        }
      ],
      "source": [
        "from keras import layers\n",
        "from keras import models\n",
        "\n",
        "model_cnn = models.Sequential()\n",
        "model_cnn.add(layers.Conv2D(32, (3,3), activation='relu',\n",
        "                    padding=\"same\", input_shape = (28, 28,1)))\n",
        "model_cnn.add(layers.MaxPooling2D((2,2)))\n",
        "model_cnn.add(layers.Conv2D(32, (3,3),\n",
        "                    padding=\"same\", activation='relu'))\n",
        "model_cnn.add(layers.MaxPooling2D((2,2)))\n",
        "model_cnn.add(layers.Conv2D(64, (3,3),\n",
        "                    padding=\"same\", activation='relu'))\n",
        "model_cnn.add(layers.MaxPooling2D((2,2)))\n",
        "model_cnn.add(layers.Conv2D(64, (3,3),\n",
        "                    padding=\"same\", activation='relu'))\n",
        "\n",
        "model_cnn.add(layers.Flatten())\n",
        "model_cnn.add(layers.Dense(128, activation='relu'))\n",
        "model_cnn.add(layers.Dense(10, activation='softmax'))\n",
        "\n",
        "model_cnn.summary()"
      ]
    },
    {
      "cell_type": "code",
      "execution_count": 21,
      "metadata": {
        "colab": {
          "base_uri": "https://localhost:8080/"
        },
        "id": "_ikkdb8qsx6d",
        "outputId": "4a36e3cc-7a5b-4e2a-c9a5-c35e4ab9af7e"
      },
      "outputs": [
        {
          "output_type": "stream",
          "name": "stdout",
          "text": [
            "Epoch 1/3\n",
            "2400/2400 [==============================] - 22s 5ms/step - loss: 0.1521 - accuracy: 0.9508 - val_loss: 0.0613 - val_accuracy: 0.9820\n",
            "Epoch 2/3\n",
            "2400/2400 [==============================] - 14s 6ms/step - loss: 0.0512 - accuracy: 0.9850 - val_loss: 0.0551 - val_accuracy: 0.9843\n",
            "Epoch 3/3\n",
            "2400/2400 [==============================] - 14s 6ms/step - loss: 0.0362 - accuracy: 0.9885 - val_loss: 0.0481 - val_accuracy: 0.9860\n"
          ]
        }
      ],
      "source": [
        "callbacks_list = [keras.callbacks.EarlyStopping(monitor='val_accuracy', patience=3)]\n",
        "\n",
        "model_cnn.compile(loss='categorical_crossentropy',\n",
        "                optimizer='adam', metrics=['accuracy'])\n",
        "\n",
        "# 최적화 알고리즘으로는 'adam' 또는 'rmsprop'이 널리 사용된다\n",
        "h = model_cnn.fit(X_train_cnn,\n",
        "                      y_train_cat,\n",
        "                      batch_size=20,\n",
        "                      epochs=3,\n",
        "                      callbacks=callbacks_list,\n",
        "                      validation_split=0.2,\n",
        "                      verbose=1)"
      ]
    },
    {
      "cell_type": "code",
      "execution_count": 23,
      "metadata": {
        "colab": {
          "base_uri": "https://localhost:8080/"
        },
        "id": "H4MhJEoUvCm0",
        "outputId": "6f96adf9-d9af-4429-da9d-a23df60898ac"
      },
      "outputs": [
        {
          "output_type": "stream",
          "name": "stdout",
          "text": [
            "313/313 [==============================] - 1s 3ms/step - loss: 0.0347 - accuracy: 0.9893\n",
            "test_acc =  0.989300012588501\n"
          ]
        }
      ],
      "source": [
        "test_loss, test_acc = model_cnn.evaluate(X_test_cnn, y_test_cat)\n",
        "print('test_acc = ',test_acc)"
      ]
    }
  ],
  "metadata": {
    "accelerator": "GPU",
    "colab": {
      "provenance": [],
      "toc_visible": true
    },
    "kernelspec": {
      "display_name": "Python 3",
      "language": "python",
      "name": "python3"
    },
    "language_info": {
      "codemirror_mode": {
        "name": "ipython",
        "version": 3
      },
      "file_extension": ".py",
      "mimetype": "text/x-python",
      "name": "python",
      "nbconvert_exporter": "python",
      "pygments_lexer": "ipython3",
      "version": "3.8.8"
    },
    "toc": {
      "base_numbering": 1,
      "nav_menu": {},
      "number_sections": false,
      "sideBar": true,
      "skip_h1_title": false,
      "title_cell": "Table of Contents",
      "title_sidebar": "Contents",
      "toc_cell": false,
      "toc_position": {
        "height": "calc(100% - 180px)",
        "left": "10px",
        "top": "150px",
        "width": "204.8px"
      },
      "toc_section_display": true,
      "toc_window_display": true
    }
  },
  "nbformat": 4,
  "nbformat_minor": 0
}